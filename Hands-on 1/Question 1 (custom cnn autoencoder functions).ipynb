{
 "cells": [
  {
   "cell_type": "code",
   "execution_count": 3,
   "metadata": {},
   "outputs": [
    {
     "name": "stderr",
     "output_type": "stream",
     "text": [
      "Using TensorFlow backend.\n"
     ]
    }
   ],
   "source": [
    "import numpy as np\n",
    "import matplotlib.pyplot as plt\n",
    "import pickle\n",
    "import math\n",
    "\n",
    "import keras\n",
    "import tensorflow as tf\n",
    "from keras import backend as K \n",
    "from keras.layers import Input, Conv2D, MaxPooling2D, UpSampling2D\n",
    "from keras.models import Model\n",
    "from keras.callbacks import TensorBoard\n",
    "from tensorflow.python.keras.engine.base_layer import Layer"
   ]
  },
  {
   "cell_type": "markdown",
   "metadata": {},
   "source": [
    "## Define activation functions"
   ]
  },
  {
   "cell_type": "code",
   "execution_count": 4,
   "metadata": {},
   "outputs": [],
   "source": [
    "def ReLU(X):\n",
    "    return tf.maximum(X, np.zeros_like(X))\n",
    "\n",
    "def softmax(X):\n",
    "    return tf.exp(X)/tf.reduce_sum(tf.exp(X), 0)\n",
    "\n",
    "def tanh(X):\n",
    "    return tf.tanh(X)"
   ]
  },
  {
   "cell_type": "markdown",
   "metadata": {},
   "source": [
    "## Loading weights from a pre-trained encoder saved in file"
   ]
  },
  {
   "cell_type": "code",
   "execution_count": 5,
   "metadata": {},
   "outputs": [
    {
     "name": "stdout",
     "output_type": "stream",
     "text": [
      "14\n",
      "(3, 3, 1, 16) (3, 3, 16, 8) (3, 3, 8, 8) (3, 3, 8, 8) (3, 3, 8, 8) (3, 3, 8, 16) (3, 3, 16, 1)\n"
     ]
    }
   ],
   "source": [
    "weights = np.load('./weights/FinalWeightsArray.npy')\n",
    "weights1 = weights[0]\n",
    "weights2 = weights[2]\n",
    "weights3 = weights[4]\n",
    "weights4 = weights[6]\n",
    "weights5 = weights[8]\n",
    "weights6 = weights[10]\n",
    "weights7 = weights[12]\n",
    "\n",
    "print(len(weights))\n",
    "print(weights1.shape,weights2.shape,weights3.shape, weights4.shape, weights5.shape, weights6.shape, weights7.shape)"
   ]
  },
  {
   "cell_type": "markdown",
   "metadata": {},
   "source": [
    "## Defining a custom convolution2d function"
   ]
  },
  {
   "cell_type": "markdown",
   "metadata": {},
   "source": [
    "The function takes tensor as input along with trained kernel weights, kernel size, padding and activation function and outputs a tensor"
   ]
  },
  {
   "cell_type": "code",
   "execution_count": 6,
   "metadata": {},
   "outputs": [],
   "source": [
    "def customConv2D(input_imgs, weights, filters, kernel, strides=1, padding='same', activation='ReLU'):\n",
    "    \n",
    "    if isinstance(kernel, tuple):\n",
    "        ker_height, ker_weight = kernel\n",
    "    else:\n",
    "        ker_height, ker_weight = kernel, kernel\n",
    "        \n",
    "    batch , inp_h, inp_w, inp_c = input_imgs.shape\n",
    "    if padding == 'valid':\n",
    "        pad = 0\n",
    "    elif padding == 'same':\n",
    "        pad = (ker_height - 1)//2\n",
    "    else:\n",
    "        raise ValueError('Padding '+padding+' given is incorrect')\n",
    "    \n",
    "    conv_height = (inp_h + 2*pad - ker_height)//strides + 1\n",
    "    conv_weight = (inp_w + 2*pad - ker_weight)//strides + 1\n",
    "    \n",
    "    inp_pad = tf.pad(input_imgs, [[0,0],[pad,pad],[pad,pad],[0,0]])\n",
    "    \n",
    "    c_list = []\n",
    "    for i in range(conv_height):\n",
    "        for j in range(conv_weight):\n",
    "            c = tf.slice(inp_pad, [0, i*strides, j*strides, 0], [-1, ker_height, ker_weight, -1])\n",
    "            c_list.append(c)\n",
    "            \n",
    "    inp_mat = tf.reshape(tf.stack(c_list), [-1, inp_c * ker_weight * ker_height])\n",
    "    _, _, ker_c, _ = weights.shape\n",
    "    W_mat = tf.reshape(weights, [ker_height * ker_weight * ker_c, filters])\n",
    "    b = tf.zeros([filters])\n",
    "    \n",
    "    output = tf.matmul(inp_mat, W_mat) + b\n",
    "    output = tf.transpose(tf.reshape(output,[conv_height,conv_weight,batch,filters]), [2,0,1,3])\n",
    "    \n",
    "    if activation:\n",
    "        activation = activation.lower()\n",
    "        if activation == 'relu':\n",
    "            conv = ReLU(output)\n",
    "        elif activation == 'softmax' or activation == 'sigmoid':\n",
    "            conv = softmax(output)\n",
    "        elif activation == 'tanh':\n",
    "            conv = tanh(output)\n",
    "        else:\n",
    "            raise ValueError('Unknown activation')\n",
    "        \n",
    "    return output"
   ]
  },
  {
   "cell_type": "markdown",
   "metadata": {},
   "source": [
    "## Defining a custom maxpooling 2d function"
   ]
  },
  {
   "cell_type": "markdown",
   "metadata": {},
   "source": [
    "The function takes tensor as input with kernel size and padding and outputs a max pooled tensor"
   ]
  },
  {
   "cell_type": "code",
   "execution_count": 7,
   "metadata": {},
   "outputs": [],
   "source": [
    "def customMaxPooling2D(input_imgs, kernel, strides=2, padding='same'):\n",
    "    \n",
    "    if isinstance(kernel, tuple):\n",
    "        ker_height, ker_weight = kernel\n",
    "    else:\n",
    "        ker_height, ker_weight = kernel, kernel\n",
    "        \n",
    "    _, inp_h, inp_w, inp_c = input_imgs.shape\n",
    "    \n",
    "    if padding == 'valid':\n",
    "        pad = 0\n",
    "    elif padding == 'same':\n",
    "        pad = (ker_height-1)//2\n",
    "    else:\n",
    "        raise ValueError('Padding '+padding+' given is incorrect')\n",
    "    \n",
    "    pool_height = math.ceil(int(inp_h + 2*pad - ker_height)/int(strides)) + 1 \n",
    "    pool_weight = math.ceil(int(inp_w + 2*pad - ker_weight)/int(strides)) + 1\n",
    "    \n",
    "    inp_pad = tf.pad(input_imgs, [[0,0],[pad,pad],[pad,pad],[0,0]])\n",
    "    \n",
    "    pool_list = []\n",
    "    for i in range(pool_height):\n",
    "        for j in range(pool_weight):\n",
    "            p = tf.slice(inp_pad, [0, i*strides, j*strides, 0], [-1, ker_height, ker_weight, -1])\n",
    "            pool_list.append(p)\n",
    "    \n",
    "    inp_mat = tf.reshape(tf.stack(pool_list), [-1, ker_weight * ker_height])\n",
    "    \n",
    "    pool_output = tf.reduce_max(tf.reshape(inp_mat, [pool_height, pool_weight, -1, ker_height * ker_weight, int(inp_c)]), axis = 3)\n",
    "    return tf.transpose(pool_output, [2,0,1,3])"
   ]
  },
  {
   "cell_type": "markdown",
   "metadata": {},
   "source": [
    "## Defining a custom upsampling 2d function"
   ]
  },
  {
   "cell_type": "markdown",
   "metadata": {},
   "source": [
    "The function takes a tensor, kernel size and data format as input and outputs a upsampled tensor with nearest neighbor interpolation method"
   ]
  },
  {
   "cell_type": "code",
   "execution_count": 8,
   "metadata": {},
   "outputs": [],
   "source": [
    "def customUpSampling2D(input_imgs, kernel, data_format='channels_last'):\n",
    "    \n",
    "    if isinstance(kernel, tuple):\n",
    "        ker_height, ker_weight = kernel\n",
    "    else:\n",
    "        ker_height, ker_weight = kernel, kernel\n",
    "        \n",
    "    if (data_format=='channels_last'):\n",
    "        n, inp_h, inp_w, inp_c = input_imgs.shape\n",
    "    elif (data_format=='channels_first'):\n",
    "        n, inp_c, inp_h, inp_w = input_imgs.shape\n",
    "    else:\n",
    "        raise ValueError('Data format is not valid.')\n",
    "    \n",
    "    out_height = inp_h * ker_height\n",
    "    out_weight = inp_w * ker_weight\n",
    "    \n",
    "    up_list = []\n",
    "    k = 0\n",
    "    while k < int(n):\n",
    "        i = 0\n",
    "        while i < int(inp_h):\n",
    "            tmp = []\n",
    "            j = 0\n",
    "            while j < int(inp_w):\n",
    "                p = tf.slice(input_imgs, [k,i,j,0], [1,1,1,1])\n",
    "                for x in range(ker_weight):\n",
    "                    tmp.append(p)\n",
    "                j+=1\n",
    "            for x in range(ker_height):\n",
    "                for y in tmp:\n",
    "                    up_list.append(y)\n",
    "            i+=1\n",
    "        k+=1\n",
    "    inp_mat = tf.reshape(tf.stack(up_list), [n, out_height, out_weight])\n",
    "    \n",
    "    out_list = []\n",
    "    for i in range(int(inp_c)):\n",
    "        out_list.append(inp_mat)\n",
    "        \n",
    "    out_upsamp = tf.reshape(tf.stack(out_list), [n, out_height, out_weight, int(inp_c)])\n",
    "    \n",
    "    return out_upsamp"
   ]
  },
  {
   "cell_type": "markdown",
   "metadata": {},
   "source": [
    "## Load the MNIST dataset"
   ]
  },
  {
   "cell_type": "code",
   "execution_count": 9,
   "metadata": {},
   "outputs": [
    {
     "name": "stdout",
     "output_type": "stream",
     "text": [
      "(60000, 28, 28, 1) (10000, 28, 28, 1)\n"
     ]
    }
   ],
   "source": [
    "from keras.datasets import mnist\n",
    "(x_train, y_train), (x_test, y_test) = mnist.load_data()\n",
    "\n",
    "x_train = x_train.astype('float32') / 255.\n",
    "x_test = x_test.astype('float32') / 255.\n",
    "x_train = np.reshape(x_train, (len(x_train), 28, 28, 1)) \n",
    "#channels last approach as grayscale (1) is last parameter\n",
    "x_test = np.reshape(x_test, (len(x_test), 28, 28, 1))\n",
    "\n",
    "print(x_train.shape, x_test.shape)"
   ]
  },
  {
   "cell_type": "markdown",
   "metadata": {},
   "source": [
    "## Call the encoder part of the custom network"
   ]
  },
  {
   "cell_type": "code",
   "execution_count": 10,
   "metadata": {},
   "outputs": [
    {
     "name": "stdout",
     "output_type": "stream",
     "text": [
      "(10, 28, 28, 1)\n",
      "<class 'numpy.ndarray'>\n",
      "(10, 28, 28, 16) <class 'tensorflow.python.framework.ops.Tensor'>\n",
      "(10, 14, 14, 16) <class 'tensorflow.python.framework.ops.Tensor'>\n",
      "(10, 14, 14, 8) <class 'tensorflow.python.framework.ops.Tensor'>\n",
      "(10, 7, 7, 8) <class 'tensorflow.python.framework.ops.Tensor'>\n",
      "(10, 7, 7, 8) <class 'tensorflow.python.framework.ops.Tensor'>\n",
      "(10, 4, 4, 8) <class 'tensorflow.python.framework.ops.Tensor'>\n"
     ]
    }
   ],
   "source": [
    "input_img = x_train[:10,:,:,:]\n",
    "print(input_img.shape)\n",
    "print(type(input_img))\n",
    "\n",
    "x = customConv2D(input_img, weights1, 16, (3,3), activation = 'relu', padding = 'same')\n",
    "print(x.shape, type(x))\n",
    "x = customMaxPooling2D(x, (2,2), padding = 'same')\n",
    "print(x.shape, type(x))\n",
    "x = customConv2D(x, weights2, 8, (3,3), activation = 'relu', padding = 'same')\n",
    "print(x.shape, type(x))\n",
    "x = customMaxPooling2D(x, (2,2), padding = 'same')\n",
    "print(x.shape, type(x))\n",
    "x = customConv2D(x, weights3, 8, (3,3), activation = 'relu', padding = 'same')\n",
    "print(x.shape, type(x))\n",
    "encoded = customMaxPooling2D(x, (2,2), padding = 'same')\n",
    "\n",
    "print(encoded.shape, type(x))"
   ]
  },
  {
   "cell_type": "markdown",
   "metadata": {},
   "source": [
    "## Call the decoder part of the custom network"
   ]
  },
  {
   "cell_type": "code",
   "execution_count": 11,
   "metadata": {},
   "outputs": [
    {
     "name": "stdout",
     "output_type": "stream",
     "text": [
      "(10, 4, 4, 8) <class 'tensorflow.python.framework.ops.Tensor'>\n",
      "(10, 8, 8, 8) <class 'tensorflow.python.framework.ops.Tensor'>\n",
      "(10, 8, 8, 8) <class 'tensorflow.python.framework.ops.Tensor'>\n",
      "(10, 16, 16, 8) <class 'tensorflow.python.framework.ops.Tensor'>\n",
      "(10, 14, 14, 16) <class 'tensorflow.python.framework.ops.Tensor'>\n",
      "(10, 28, 28, 16) <class 'tensorflow.python.framework.ops.Tensor'>\n",
      "(10, 28, 28, 1) <class 'tensorflow.python.framework.ops.Tensor'>\n"
     ]
    }
   ],
   "source": [
    "x = customConv2D(encoded, weights4, 8, (3,3), activation = 'relu', padding = 'same')\n",
    "print(x.shape, type(x))\n",
    "x = customUpSampling2D(x, (2,2))\n",
    "print(x.shape, type(x))\n",
    "x = customConv2D(x, weights5, 8, (3,3), activation = 'relu', padding = 'same')\n",
    "print(x.shape, type(x))\n",
    "x = customUpSampling2D(x, (2,2))\n",
    "print(x.shape, type(x))\n",
    "x = customConv2D(x, weights6, 16, (3,3), activation = 'relu', padding = 'valid')\n",
    "print(x.shape, type(x))\n",
    "x = customUpSampling2D(x, (2,2))\n",
    "print(x.shape, type(x))\n",
    "decoded = customConv2D(x, weights7, 1, (3,3), activation = 'sigmoid', padding = 'same')\n",
    "\n",
    "print(decoded.shape, type(x))"
   ]
  },
  {
   "cell_type": "markdown",
   "metadata": {},
   "source": [
    "## Plot the decoded images "
   ]
  },
  {
   "cell_type": "code",
   "execution_count": 14,
   "metadata": {},
   "outputs": [
    {
     "name": "stdout",
     "output_type": "stream",
     "text": [
      "(10, 28, 28, 1)\n"
     ]
    },
    {
     "ename": "TypeError",
     "evalue": "expected sequence object with len >= 0 or a single integer",
     "output_type": "error",
     "traceback": [
      "\u001b[0;31m---------------------------------------------------------------------------\u001b[0m",
      "\u001b[0;31mTypeError\u001b[0m                                 Traceback (most recent call last)",
      "\u001b[0;32m<ipython-input-14-9cac3b7a8f02>\u001b[0m in \u001b[0;36m<module>\u001b[0;34m()\u001b[0m\n\u001b[1;32m      3\u001b[0m \u001b[0;34m\u001b[0m\u001b[0m\n\u001b[1;32m      4\u001b[0m \u001b[0mprint\u001b[0m\u001b[0;34m(\u001b[0m\u001b[0mdecoded\u001b[0m\u001b[0;34m.\u001b[0m\u001b[0mshape\u001b[0m\u001b[0;34m)\u001b[0m\u001b[0;34m\u001b[0m\u001b[0;34m\u001b[0m\u001b[0m\n\u001b[0;32m----> 5\u001b[0;31m \u001b[0mprint\u001b[0m\u001b[0;34m(\u001b[0m\u001b[0mnp\u001b[0m\u001b[0;34m.\u001b[0m\u001b[0mndarray\u001b[0m\u001b[0;34m(\u001b[0m\u001b[0mdecoded\u001b[0m\u001b[0;34m)\u001b[0m\u001b[0;34m)\u001b[0m\u001b[0;34m\u001b[0m\u001b[0;34m\u001b[0m\u001b[0m\n\u001b[0m\u001b[1;32m      6\u001b[0m \u001b[0;31m# x = tf.slice(decoded, [0,0,0,0], [1,-1,-1,-1])\u001b[0m\u001b[0;34m\u001b[0m\u001b[0;34m\u001b[0m\u001b[0;34m\u001b[0m\u001b[0m\n\u001b[1;32m      7\u001b[0m \u001b[0;31m# print(x)\u001b[0m\u001b[0;34m\u001b[0m\u001b[0;34m\u001b[0m\u001b[0;34m\u001b[0m\u001b[0m\n",
      "\u001b[0;31mTypeError\u001b[0m: expected sequence object with len >= 0 or a single integer"
     ]
    },
    {
     "data": {
      "text/plain": [
       "<Figure size 1000x400 with 0 Axes>"
      ]
     },
     "metadata": {},
     "output_type": "display_data"
    }
   ],
   "source": [
    "n = 10\n",
    "plt.figure(figsize=(10, 4), dpi=100)\n",
    "\n",
    "print(decoded.shape)\n",
    "print(np.ndarray(decoded))\n",
    "# x = tf.slice(decoded, [0,0,0,0], [1,-1,-1,-1])\n",
    "# print(x)\n",
    "# t = tf.Session().run(x)\n",
    "sess = tf.InteractiveSession()\n",
    "decoded.eval()\n",
    "\n",
    "# type(t)\n",
    "\n",
    "for i in range(n):\n",
    "    # display original\n",
    "    ax = plt.subplot(2, n, i + 1)\n",
    "    plt.imshow(x_test[i].reshape(28, 28))\n",
    "    plt.gray()\n",
    "    ax.set_axis_off()\n",
    "\n",
    "    # display reconstruction\n",
    "    ax = plt.subplot(2, n, i + n + 1)\n",
    "    plt.imshow(tf.reshape((decoded[i,:,:,:]), [28, 28]))\n",
    "    plt.gray()\n",
    "    ax.set_axis_off()\n",
    "\n",
    "plt.show()"
   ]
  },
  {
   "cell_type": "markdown",
   "metadata": {},
   "source": [
    "As the output is a tensor, we needed to convert it into a numpy array before passing it into a matplotlib function to show it as an image. \n",
    "The function to do this in tensorflow is \n",
    "> sess = tf.InteractiveSession() <br>\n",
    "> decoded.eval()\n",
    "\n",
    "But this gives an InvalidArgumentError and there is no source out here which helps with this certain error. Hence, this is where the whole thing is stuck right now."
   ]
  },
  {
   "cell_type": "code",
   "execution_count": null,
   "metadata": {},
   "outputs": [],
   "source": []
  }
 ],
 "metadata": {
  "kernelspec": {
   "display_name": "Python 3",
   "language": "python",
   "name": "python3"
  },
  "language_info": {
   "codemirror_mode": {
    "name": "ipython",
    "version": 3
   },
   "file_extension": ".py",
   "mimetype": "text/x-python",
   "name": "python",
   "nbconvert_exporter": "python",
   "pygments_lexer": "ipython3",
   "version": "3.7.3"
  }
 },
 "nbformat": 4,
 "nbformat_minor": 2
}
