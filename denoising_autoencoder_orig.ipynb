{
 "cells": [
  {
   "cell_type": "markdown",
   "metadata": {},
   "source": [
    "## Import libraries"
   ]
  },
  {
   "cell_type": "code",
   "execution_count": 0,
   "metadata": {
    "colab": {},
    "colab_type": "code",
    "id": "aOpklQmw9OoL"
   },
   "outputs": [],
   "source": [
    "import keras\n",
    "import tensorflow\n",
    "import numpy as np\n",
    "import matplotlib.pyplot as plt\n",
    "%matplotlib inline\n",
    "from keras.layers import Input, Conv2D, MaxPooling2D, UpSampling2D\n",
    "from keras.models import Model\n",
    "from keras.datasets import mnist\n",
    "from keras import backend as K\n",
    "import pickle"
   ]
  },
  {
   "cell_type": "markdown",
   "metadata": {},
   "source": [
    "## Load MNIST data"
   ]
  },
  {
   "cell_type": "code",
   "execution_count": 0,
   "metadata": {
    "colab": {},
    "colab_type": "code",
    "id": "ZplrdOgj9OoQ"
   },
   "outputs": [],
   "source": [
    "(train_x, _), (test_x, _) = mnist.load_data()"
   ]
  },
  {
   "cell_type": "code",
   "execution_count": 0,
   "metadata": {
    "colab": {},
    "colab_type": "code",
    "id": "6IU1zuwL9OoT"
   },
   "outputs": [],
   "source": [
    "train_x = train_x.astype('float32')/255\n",
    "test_x = test_x.astype('float32')/255\n",
    "train_x = train_x.reshape(len(train_x), 28,28,1)\n",
    "test_x = test_x.reshape(len(test_x), 28,28,1)"
   ]
  },
  {
   "cell_type": "code",
   "execution_count": 72,
   "metadata": {
    "colab": {
     "base_uri": "https://localhost:8080/",
     "height": 34
    },
    "colab_type": "code",
    "id": "HJQV0yw293Gs",
    "outputId": "4f7c0c89-9005-4841-fd2c-29c168964cb3"
   },
   "outputs": [
    {
     "data": {
      "text/plain": [
       "(60000, 28, 28, 1)"
      ]
     },
     "execution_count": 72,
     "metadata": {
      "tags": []
     },
     "output_type": "execute_result"
    }
   ],
   "source": [
    "train_x.shape"
   ]
  },
  {
   "cell_type": "markdown",
   "metadata": {},
   "source": [
    "## Introduce random uniform noise in the train and test set <br>\n",
    "* Rather than taking a complete random uniform noise as the train set, random uniform noise is added to the train set.\n",
    "* The random uniform noise is generated with mean and standard deviation as 1 and is kept between 0 to 1.\n",
    "* If we use just random noise as the training data the model performs worse and hence some kind of grouping of the training data is needed for the model to train on. "
   ]
  },
  {
   "cell_type": "code",
   "execution_count": 97,
   "metadata": {
    "colab": {
     "base_uri": "https://localhost:8080/",
     "height": 34
    },
    "colab_type": "code",
    "id": "MESoYhvpIfnH",
    "outputId": "9ee181d5-a089-4710-c173-aedff97e561a"
   },
   "outputs": [
    {
     "name": "stdout",
     "output_type": "stream",
     "text": [
      "0.9849270174559492\n"
     ]
    }
   ],
   "source": [
    "noise_factor = np.random.random_sample()\n",
    "print(noise_factor)\n",
    "\n",
    "x_train_noisy = train_x + noise_factor * np.random.normal(loc=0.0, scale=1.0, size=train_x.shape)\n",
    "x_test_noisy = test_x + noise_factor * np.random.normal(loc=0.0, scale=1.0, size=test_x.shape)\n",
    "\n",
    "x_train_noisy = np.clip(x_train_noisy, 0., 1.)\n",
    "x_test_noisy = np.clip(x_test_noisy, 0., 1.)"
   ]
  },
  {
   "cell_type": "code",
   "execution_count": 98,
   "metadata": {
    "colab": {
     "base_uri": "https://localhost:8080/",
     "height": 195
    },
    "colab_type": "code",
    "id": "rINjJ0qsI_2T",
    "outputId": "950a1f2e-6cf2-4b38-ae38-a59f74d507ef"
   },
   "outputs": [
    {
     "data": {
      "text/plain": [
       "<matplotlib.image.AxesImage at 0x7f30d9e1e160>"
      ]
     },
     "execution_count": 98,
     "metadata": {
      "tags": []
     },
     "output_type": "execute_result"
    },
    {
     "data": {
      "image/png": "[encoded data removed]",
      "text/plain": [
       "<Figure size 360x360 with 2 Axes>"
      ]
     },
     "metadata": {
      "tags": []
     },
     "output_type": "display_data"
    }
   ],
   "source": [
    "plt.figure(figsize=[5,5])\n",
    "\n",
    "# Display the first image in training data\n",
    "plt.subplot(121)\n",
    "curr_img = np.reshape(x_train_noisy[1], (28,28))\n",
    "plt.imshow(curr_img, cmap='gray')\n",
    "\n",
    "# Display the first image in testing data\n",
    "plt.subplot(122)\n",
    "curr_img = np.reshape(x_test_noisy[1], (28,28))\n",
    "plt.imshow(curr_img, cmap='gray')"
   ]
  },
  {
   "cell_type": "markdown",
   "metadata": {},
   "source": [
    "## Decoder part of the network\n",
    "* The assumption is that the trained model will be given a random noise vector of size 28 * 28 * 1 directly to the decoder part and is expected to output a MNIST like image\n",
    "* Hence the decoder is given a 28 * 28 * 1 image and that is why no upsampling layer is there. If there is to be an encoded image that is being provided to the decoder after the encoder part, then the model needs to be adjusted accordingly and retrained."
   ]
  },
  {
   "cell_type": "code",
   "execution_count": 0,
   "metadata": {
    "colab": {},
    "colab_type": "code",
    "id": "mzBx_KHl9OoX"
   },
   "outputs": [],
   "source": [
    "input_img = Input(shape=(28, 28, 1))"
   ]
  },
  {
   "cell_type": "code",
   "execution_count": 0,
   "metadata": {
    "colab": {},
    "colab_type": "code",
    "id": "j5qTXX4DIyim"
   },
   "outputs": [],
   "source": [
    "#x = Conv2D(16, (3, 3), activation='relu', padding='same')(input_img)\n",
    "#x = MaxPooling2D((2, 2), padding='same')(x)\n",
    "#x = Conv2D(8, (3, 3), activation='relu', padding='same')(x)\n",
    "#x = MaxPooling2D((2, 2), padding='same')(x)\n",
    "#x = Conv2D(8, (3, 3), activation='relu', padding='same')(x)\n",
    "#encoded = MaxPooling2D((2, 2), padding='same')(x)"
   ]
  },
  {
   "cell_type": "code",
   "execution_count": 101,
   "metadata": {
    "colab": {
     "base_uri": "https://localhost:8080/",
     "height": 119
    },
    "colab_type": "code",
    "id": "5LYldWP89Ooa",
    "outputId": "abb2a29d-2864-4cff-825f-1f22c23291eb"
   },
   "outputs": [
    {
     "name": "stdout",
     "output_type": "stream",
     "text": [
      "(?, 28, 28, 8)\n",
      "(?, 28, 28, 16)\n",
      "(?, 28, 28, 32)\n",
      "(?, 28, 28, 64)\n",
      "(?, 28, 28, 128)\n",
      "(?, 28, 28, 1)\n"
     ]
    }
   ],
   "source": [
    "#print(encoded)\n",
    "x = Conv2D(8, (3, 3), activation='relu', padding='same')(input_img)\n",
    "print(x.shape)\n",
    "#x = UpSampling2D((2, 2))(x)\n",
    "x = Conv2D(16, (3, 3), activation='relu', padding='same')(x)\n",
    "print(x.shape)\n",
    "#x = UpSampling2D((2, 2))(x)\n",
    "x = Conv2D(32, (3, 3), activation='relu', padding='same')(x)\n",
    "print(x.shape)\n",
    "x = Conv2D(64, (3, 3), activation='relu', padding='same')(x)\n",
    "print(x.shape)\n",
    "x = Conv2D(128, (3, 3), activation='relu', padding='same')(x)\n",
    "print(x.shape)\n",
    "#x = UpSampling2D((2, 2))(x)\n",
    "decoded = Conv2D(1, (3, 3), activation='sigmoid', padding='same')(x)\n",
    "print(decoded.shape)"
   ]
  },
  {
   "cell_type": "markdown",
   "metadata": {},
   "source": [
    "## Define the model and compile with loss function"
   ]
  },
  {
   "cell_type": "code",
   "execution_count": 0,
   "metadata": {
    "colab": {},
    "colab_type": "code",
    "id": "zqkOGXGa9Oog"
   },
   "outputs": [],
   "source": [
    "autoencoder = Model(input_img, decoded)\n",
    "autoencoder.compile(optimizer='adadelta', loss='binary_crossentropy')"
   ]
  },
  {
   "cell_type": "markdown",
   "metadata": {},
   "source": [
    "## Training the model\n",
    "* The training is done for 100 epochs\n",
    "* The train data is the noisy data generated earlier while the ground truth remains the same (original data)."
   ]
  },
  {
   "cell_type": "code",
   "execution_count": 110,
   "metadata": {
    "colab": {
     "base_uri": "https://localhost:8080/",
     "height": 3434
    },
    "colab_type": "code",
    "id": "07XRIx_B9Ooj",
    "outputId": "778fd56b-89c8-44e0-b322-db0c11f03bd7"
   },
   "outputs": [
    {
     "name": "stdout",
     "output_type": "stream",
     "text": [
      "Train on 60000 samples, validate on 10000 samples\n",
      "Epoch 1/100\n",
      " - 21s - loss: 0.1714 - val_loss: 0.1710\n",
      "Epoch 2/100\n",
      " - 21s - loss: 0.1709 - val_loss: 0.1715\n",
      "Epoch 3/100\n",
      " - 21s - loss: 0.1705 - val_loss: 0.1687\n",
      "Epoch 4/100\n",
      " - 21s - loss: 0.1699 - val_loss: 0.1678\n",
      "Epoch 5/100\n",
      " - 21s - loss: 0.1698 - val_loss: 0.1680\n",
      "Epoch 6/100\n",
      " - 21s - loss: 0.1695 - val_loss: 0.1676\n",
      "Epoch 7/100\n",
      " - 21s - loss: 0.1690 - val_loss: 0.1671\n",
      "Epoch 8/100\n",
      " - 21s - loss: 0.1689 - val_loss: 0.1674\n",
      "Epoch 9/100\n",
      " - 21s - loss: 0.1685 - val_loss: 0.1675\n",
      "Epoch 10/100\n",
      " - 21s - loss: 0.1683 - val_loss: 0.1670\n",
      "Epoch 11/100\n",
      " - 21s - loss: 0.1680 - val_loss: 0.1665\n",
      "Epoch 12/100\n",
      " - 21s - loss: 0.1678 - val_loss: 0.1663\n",
      "Epoch 13/100\n",
      " - 21s - loss: 0.1675 - val_loss: 0.1660\n",
      "Epoch 14/100\n",
      " - 21s - loss: 0.1675 - val_loss: 0.1656\n",
      "Epoch 15/100\n",
      " - 21s - loss: 0.1673 - val_loss: 0.1671\n",
      "Epoch 16/100\n",
      " - 21s - loss: 0.1673 - val_loss: 0.1672\n",
      "Epoch 17/100\n",
      " - 21s - loss: 0.1669 - val_loss: 0.1663\n",
      "Epoch 18/100\n",
      " - 21s - loss: 0.1668 - val_loss: 0.1656\n",
      "Epoch 19/100\n",
      " - 21s - loss: 0.1666 - val_loss: 0.1678\n",
      "Epoch 20/100\n",
      " - 21s - loss: 0.1665 - val_loss: 0.1649\n",
      "Epoch 21/100\n",
      " - 21s - loss: 0.1663 - val_loss: 0.1647\n",
      "Epoch 22/100\n",
      " - 21s - loss: 0.1662 - val_loss: 0.1656\n",
      "Epoch 23/100\n",
      " - 21s - loss: 0.1659 - val_loss: 0.1659\n",
      "Epoch 24/100\n",
      " - 21s - loss: 0.1660 - val_loss: 0.1642\n",
      "Epoch 25/100\n",
      " - 21s - loss: 0.1656 - val_loss: 0.1642\n",
      "Epoch 26/100\n",
      " - 21s - loss: 0.1656 - val_loss: 0.1653\n",
      "Epoch 27/100\n",
      " - 21s - loss: 0.1654 - val_loss: 0.1640\n",
      "Epoch 28/100\n",
      " - 21s - loss: 0.1653 - val_loss: 0.1652\n",
      "Epoch 29/100\n",
      " - 21s - loss: 0.1652 - val_loss: 0.1647\n",
      "Epoch 30/100\n",
      " - 21s - loss: 0.1652 - val_loss: 0.1662\n",
      "Epoch 31/100\n",
      " - 21s - loss: 0.1651 - val_loss: 0.1636\n",
      "Epoch 32/100\n",
      " - 21s - loss: 0.1648 - val_loss: 0.1638\n",
      "Epoch 33/100\n",
      " - 21s - loss: 0.1648 - val_loss: 0.1637\n",
      "Epoch 34/100\n",
      " - 21s - loss: 0.1645 - val_loss: 0.1634\n",
      "Epoch 35/100\n",
      " - 21s - loss: 0.1646 - val_loss: 0.1654\n",
      "Epoch 36/100\n",
      " - 21s - loss: 0.1645 - val_loss: 0.1631\n",
      "Epoch 37/100\n",
      " - 21s - loss: 0.1644 - val_loss: 0.1657\n",
      "Epoch 38/100\n",
      " - 21s - loss: 0.1643 - val_loss: 0.1639\n",
      "Epoch 39/100\n",
      " - 21s - loss: 0.1642 - val_loss: 0.1646\n",
      "Epoch 40/100\n",
      " - 21s - loss: 0.1642 - val_loss: 0.1658\n",
      "Epoch 41/100\n",
      " - 21s - loss: 0.1640 - val_loss: 0.1636\n",
      "Epoch 42/100\n",
      " - 21s - loss: 0.1641 - val_loss: 0.1644\n",
      "Epoch 43/100\n",
      " - 21s - loss: 0.1639 - val_loss: 0.1625\n",
      "Epoch 44/100\n",
      " - 21s - loss: 0.1638 - val_loss: 0.1660\n",
      "Epoch 45/100\n",
      " - 21s - loss: 0.1638 - val_loss: 0.1628\n",
      "Epoch 46/100\n",
      " - 21s - loss: 0.1638 - val_loss: 0.1631\n",
      "Epoch 47/100\n",
      " - 21s - loss: 0.1637 - val_loss: 0.1629\n",
      "Epoch 48/100\n",
      " - 21s - loss: 0.1636 - val_loss: 0.1627\n",
      "Epoch 49/100\n",
      " - 21s - loss: 0.1635 - val_loss: 0.1623\n",
      "Epoch 50/100\n",
      " - 21s - loss: 0.1635 - val_loss: 0.1625\n",
      "Epoch 51/100\n",
      " - 21s - loss: 0.1634 - val_loss: 0.1626\n",
      "Epoch 52/100\n",
      " - 21s - loss: 0.1634 - val_loss: 0.1620\n",
      "Epoch 53/100\n",
      " - 21s - loss: 0.1633 - val_loss: 0.1639\n",
      "Epoch 54/100\n",
      " - 21s - loss: 0.1633 - val_loss: 0.1625\n",
      "Epoch 55/100\n",
      " - 21s - loss: 0.1633 - val_loss: 0.1623\n",
      "Epoch 56/100\n",
      " - 21s - loss: 0.1631 - val_loss: 0.1637\n",
      "Epoch 57/100\n",
      " - 21s - loss: 0.1632 - val_loss: 0.1618\n",
      "Epoch 58/100\n",
      " - 21s - loss: 0.1629 - val_loss: 0.1619\n",
      "Epoch 59/100\n",
      " - 21s - loss: 0.1631 - val_loss: 0.1621\n",
      "Epoch 60/100\n",
      " - 21s - loss: 0.1630 - val_loss: 0.1637\n",
      "Epoch 61/100\n",
      " - 21s - loss: 0.1630 - val_loss: 0.1624\n",
      "Epoch 62/100\n",
      " - 21s - loss: 0.1629 - val_loss: 0.1617\n",
      "Epoch 63/100\n",
      " - 21s - loss: 0.1629 - val_loss: 0.1628\n",
      "Epoch 64/100\n",
      " - 21s - loss: 0.1629 - val_loss: 0.1622\n",
      "Epoch 65/100\n",
      " - 21s - loss: 0.1628 - val_loss: 0.1624\n",
      "Epoch 66/100\n",
      " - 21s - loss: 0.1628 - val_loss: 0.1620\n",
      "Epoch 67/100\n",
      " - 21s - loss: 0.1627 - val_loss: 0.1620\n",
      "Epoch 68/100\n",
      " - 21s - loss: 0.1627 - val_loss: 0.1625\n",
      "Epoch 69/100\n",
      " - 21s - loss: 0.1627 - val_loss: 0.1616\n",
      "Epoch 70/100\n",
      " - 21s - loss: 0.1625 - val_loss: 0.1621\n",
      "Epoch 71/100\n",
      " - 21s - loss: 0.1626 - val_loss: 0.1629\n",
      "Epoch 72/100\n",
      " - 21s - loss: 0.1625 - val_loss: 0.1636\n",
      "Epoch 73/100\n",
      " - 21s - loss: 0.1624 - val_loss: 0.1622\n",
      "Epoch 74/100\n",
      " - 21s - loss: 0.1625 - val_loss: 0.1625\n",
      "Epoch 75/100\n",
      " - 21s - loss: 0.1625 - val_loss: 0.1615\n",
      "Epoch 76/100\n",
      " - 21s - loss: 0.1623 - val_loss: 0.1625\n",
      "Epoch 77/100\n",
      " - 21s - loss: 0.1625 - val_loss: 0.1627\n",
      "Epoch 78/100\n",
      " - 21s - loss: 0.1624 - val_loss: 0.1612\n",
      "Epoch 79/100\n",
      " - 21s - loss: 0.1622 - val_loss: 0.1644\n",
      "Epoch 80/100\n",
      " - 21s - loss: 0.1623 - val_loss: 0.1613\n",
      "Epoch 81/100\n",
      " - 21s - loss: 0.1623 - val_loss: 0.1613\n",
      "Epoch 82/100\n",
      " - 21s - loss: 0.1623 - val_loss: 0.1617\n",
      "Epoch 83/100\n",
      " - 21s - loss: 0.1623 - val_loss: 0.1625\n",
      "Epoch 84/100\n",
      " - 21s - loss: 0.1622 - val_loss: 0.1613\n",
      "Epoch 85/100\n",
      " - 21s - loss: 0.1621 - val_loss: 0.1613\n",
      "Epoch 86/100\n",
      " - 21s - loss: 0.1622 - val_loss: 0.1628\n",
      "Epoch 87/100\n",
      " - 21s - loss: 0.1621 - val_loss: 0.1614\n",
      "Epoch 88/100\n",
      " - 21s - loss: 0.1621 - val_loss: 0.1624\n",
      "Epoch 89/100\n",
      " - 21s - loss: 0.1621 - val_loss: 0.1611\n",
      "Epoch 90/100\n",
      " - 21s - loss: 0.1620 - val_loss: 0.1611\n",
      "Epoch 91/100\n",
      " - 21s - loss: 0.1620 - val_loss: 0.1615\n",
      "Epoch 92/100\n",
      " - 21s - loss: 0.1620 - val_loss: 0.1616\n",
      "Epoch 93/100\n",
      " - 21s - loss: 0.1620 - val_loss: 0.1620\n",
      "Epoch 94/100\n",
      " - 21s - loss: 0.1619 - val_loss: 0.1612\n",
      "Epoch 95/100\n",
      " - 21s - loss: 0.1619 - val_loss: 0.1610\n",
      "Epoch 96/100\n",
      " - 21s - loss: 0.1619 - val_loss: 0.1633\n",
      "Epoch 97/100\n",
      " - 21s - loss: 0.1619 - val_loss: 0.1614\n",
      "Epoch 98/100\n",
      " - 21s - loss: 0.1619 - val_loss: 0.1612\n",
      "Epoch 99/100\n",
      " - 21s - loss: 0.1620 - val_loss: 0.1610\n",
      "Epoch 100/100\n",
      " - 21s - loss: 0.1618 - val_loss: 0.1617\n"
     ]
    }
   ],
   "source": [
    "epochs = 100\n",
    "autoencoder_train = autoencoder.fit(x_train_noisy, train_x, epochs=epochs, batch_size=128, shuffle=True, validation_data=(x_test_noisy, test_x),\n",
    "                verbose=2)"
   ]
  },
  {
   "cell_type": "markdown",
   "metadata": {},
   "source": [
    "## Plot the curve between training and validation loss"
   ]
  },
  {
   "cell_type": "code",
   "execution_count": 111,
   "metadata": {
    "colab": {
     "base_uri": "https://localhost:8080/",
     "height": 281
    },
    "colab_type": "code",
    "id": "Y9AunsPbJgYI",
    "outputId": "35490758-ff4b-4826-8094-8f2a60e3b900"
   },
   "outputs": [
    {
     "data": {
      "image/png": "[encoded data removed]",
      "text/plain": [
       "<Figure size 432x288 with 1 Axes>"
      ]
     },
     "metadata": {
      "tags": []
     },
     "output_type": "display_data"
    }
   ],
   "source": [
    "loss = autoencoder_train.history['loss']\n",
    "val_loss = autoencoder_train.history['val_loss']\n",
    "epochs = range(epochs)\n",
    "plt.figure()\n",
    "plt.plot(epochs, loss, 'bo', label='Training loss')\n",
    "plt.plot(epochs, val_loss, 'b', label='Validation loss')\n",
    "plt.title('Training and validation loss')\n",
    "plt.legend()\n",
    "plt.show()"
   ]
  },
  {
   "cell_type": "markdown",
   "metadata": {},
   "source": [
    "## Predict the decoded images from the test set"
   ]
  },
  {
   "cell_type": "code",
   "execution_count": 0,
   "metadata": {
    "colab": {},
    "colab_type": "code",
    "id": "N9ORBBeff9rN"
   },
   "outputs": [],
   "source": [
    "decoded_imgs = autoencoder.predict(x_test_noisy)"
   ]
  },
  {
   "cell_type": "markdown",
   "metadata": {},
   "source": [
    "## Plot the decoded images against the noisy test images"
   ]
  },
  {
   "cell_type": "code",
   "execution_count": 122,
   "metadata": {
    "colab": {
     "base_uri": "https://localhost:8080/",
     "height": 295
    },
    "colab_type": "code",
    "id": "eRXWczaIjnzW",
    "outputId": "4bf99fcf-3db0-4b9c-c074-a3c23b5eb6e2"
   },
   "outputs": [
    {
     "data": {
      "image/png": "[encoded data removed]",
      "text/plain": [
       "<Figure size 1000x400 with 20 Axes>"
      ]
     },
     "metadata": {
      "tags": []
     },
     "output_type": "display_data"
    }
   ],
   "source": [
    "n = 10\n",
    "plt.figure(figsize=(10, 4), dpi=100)\n",
    "for i in range(n):\n",
    "    # display original\n",
    "    ax = plt.subplot(2, n, i + 1)\n",
    "    plt.imshow(x_test_noisy[i].reshape(28, 28))\n",
    "    plt.gray()\n",
    "    ax.set_axis_off()\n",
    "    \n",
    "\n",
    "    # display reconstruction\n",
    "    ax = plt.subplot(2, n, i + n + 1)\n",
    "    plt.imshow(decoded_imgs[i].reshape(28, 28))\n",
    "    plt.gray()\n",
    "    ax.set_axis_off()\n",
    "\n",
    "plt.show()"
   ]
  },
  {
   "cell_type": "code",
   "execution_count": 0,
   "metadata": {
    "colab": {},
    "colab_type": "code",
    "id": "0qukVM0iPVN3"
   },
   "outputs": [],
   "source": [
    "def show_img(img):  \n",
    "  n,i = 10,0\n",
    "  plt.figure(figsize=(10, 4), dpi=100)\n",
    "\n",
    "  # display original\n",
    "  ax = plt.subplot(2, n, i + 1)\n",
    "  plt.imshow(img.reshape(28, 28))\n",
    "  plt.gray()\n",
    "  ax.set_axis_off()\n",
    "\n",
    "  \"\"\"# display reconstruction\n",
    "  ax = plt.subplot(2, n, i + n + 1)\n",
    "  plt.imshow(d.reshape(28, 28))\n",
    "  plt.gray()\n",
    "  ax.set_axis_off()\"\"\"\n",
    "\n",
    "  plt.show()"
   ]
  },
  {
   "cell_type": "code",
   "execution_count": 115,
   "metadata": {
    "colab": {
     "base_uri": "https://localhost:8080/",
     "height": 243
    },
    "colab_type": "code",
    "id": "SAnjx-02jtrf",
    "outputId": "1750dc53-6256-4a21-9bcc-dc518e09a885"
   },
   "outputs": [
    {
     "data": {
      "image/png": "[encoded data removed]",
      "text/plain": [
       "<Figure size 1000x400 with 1 Axes>"
      ]
     },
     "metadata": {
      "tags": []
     },
     "output_type": "display_data"
    },
    {
     "data": {
      "image/png": "[encoded data removed]",
      "text/plain": [
       "<Figure size 1000x400 with 1 Axes>"
      ]
     },
     "metadata": {
      "tags": []
     },
     "output_type": "display_data"
    }
   ],
   "source": [
    "i = 8\n",
    "t = x_test_noisy[i]\n",
    "t.shape\n",
    "x = np.expand_dims(t, axis=0)\n",
    "x.shape\n",
    "d = autoencoder.predict(x)\n",
    "show_img(test_x[i])\n",
    "show_img(d)"
   ]
  },
  {
   "cell_type": "markdown",
   "metadata": {},
   "source": [
    "## Generate a random noise vector and output as a MNIST like image"
   ]
  },
  {
   "cell_type": "code",
   "execution_count": 137,
   "metadata": {
    "colab": {
     "base_uri": "https://localhost:8080/",
     "height": 260
    },
    "colab_type": "code",
    "id": "BisYBvDMPZkp",
    "outputId": "504892b5-e5ea-47c9-be5a-f7bccc107568"
   },
   "outputs": [
    {
     "name": "stdout",
     "output_type": "stream",
     "text": [
      "False\n"
     ]
    },
    {
     "data": {
      "image/png": "[encoded data removed]",
      "text/plain": [
       "<Figure size 1000x400 with 1 Axes>"
      ]
     },
     "metadata": {
      "tags": []
     },
     "output_type": "display_data"
    },
    {
     "data": {
      "image/png": "[encoded data removed]",
      "text/plain": [
       "<Figure size 1000x400 with 1 Axes>"
      ]
     },
     "metadata": {
      "tags": []
     },
     "output_type": "display_data"
    }
   ],
   "source": [
    "# random vector to mnist image\n",
    "\n",
    "r = np.random.randint(0, 255, (28,28,1))\n",
    "print((r==t).all())\n",
    "r = np.expand_dims(r, axis=0)\n",
    "r = r.astype('float32')/255\n",
    "r = r.reshape(len(r), 28,28,1)\n",
    "r_dec = autoencoder.predict(r)\n",
    "show_img(r)\n",
    "show_img(r_dec)"
   ]
  },
  {
   "cell_type": "code",
   "execution_count": 135,
   "metadata": {
    "colab": {
     "base_uri": "https://localhost:8080/",
     "height": 243
    },
    "colab_type": "code",
    "id": "nqur11CWQRIC",
    "outputId": "e9770a18-eeb9-4cc0-fb52-407617321818"
   },
   "outputs": [
    {
     "data": {
      "image/png": "[encoded data removed]",
      "text/plain": [
       "<Figure size 1000x400 with 1 Axes>"
      ]
     },
     "metadata": {
      "tags": []
     },
     "output_type": "display_data"
    },
    {
     "data": {
      "image/png": "[encoded data removed]",
      "text/plain": [
       "<Figure size 1000x400 with 1 Axes>"
      ]
     },
     "metadata": {
      "tags": []
     },
     "output_type": "display_data"
    }
   ],
   "source": [
    "# replacing values at random indexes of a noisy image and then generating back the original\n",
    "y = t\n",
    "# random boolean mask for which values will be changed\n",
    "mask = np.random.randint(0,2,size=y.shape).astype(np.bool)\n",
    "\n",
    "# random matrix the same shape of your data\n",
    "r = np.random.rand(*y.shape)*np.max(y)\n",
    "\n",
    "# use your mask to replace values in your input array\n",
    "y[mask] = r[mask]\n",
    "\n",
    "y = np.expand_dims(y, axis=0)\n",
    "y_dec = autoencoder.predict(y)\n",
    "show_img(t)\n",
    "show_img(y_dec)"
   ]
  },
  {
   "cell_type": "code",
   "execution_count": 0,
   "metadata": {
    "colab": {},
    "colab_type": "code",
    "id": "VCXz2BXtpz6f"
   },
   "outputs": [],
   "source": []
  }
 ],
 "metadata": {
  "accelerator": "GPU",
  "colab": {
   "name": "denoising_autoencoder.ipynb",
   "provenance": [],
   "version": "0.3.2"
  },
  "kernelspec": {
   "display_name": "Python 3",
   "language": "python",
   "name": "python3"
  },
  "language_info": {
   "codemirror_mode": {
    "name": "ipython",
    "version": 3
   },
   "file_extension": ".py",
   "mimetype": "text/x-python",
   "name": "python",
   "nbconvert_exporter": "python",
   "pygments_lexer": "ipython3",
   "version": "3.7.3"
  }
 },
 "nbformat": 4,
 "nbformat_minor": 1
}
