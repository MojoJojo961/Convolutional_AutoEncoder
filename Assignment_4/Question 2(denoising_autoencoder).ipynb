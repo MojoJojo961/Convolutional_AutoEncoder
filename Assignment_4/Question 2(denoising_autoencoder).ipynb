{
 "cells": [
  {
   "cell_type": "markdown",
   "metadata": {},
   "source": [
    "## Import libraries"
   ]
  },
  {
   "cell_type": "code",
   "execution_count": 0,
   "metadata": {
    "colab": {},
    "colab_type": "code",
    "id": "aOpklQmw9OoL"
   },
   "outputs": [],
   "source": [
    "import keras\n",
    "import tensorflow\n",
    "import numpy as np\n",
    "import matplotlib.pyplot as plt\n",
    "%matplotlib inline\n",
    "from keras.layers import Input, Conv2D, MaxPooling2D, UpSampling2D\n",
    "from keras.models import Model\n",
    "from keras.datasets import mnist\n",
    "from keras import backend as K\n",
    "import pickle"
   ]
  },
  {
   "cell_type": "markdown",
   "metadata": {},
   "source": [
    "## Load MNIST data"
   ]
  },
  {
   "cell_type": "code",
   "execution_count": 0,
   "metadata": {
    "colab": {},
    "colab_type": "code",
    "id": "ZplrdOgj9OoQ"
   },
   "outputs": [],
   "source": [
    "(train_x, _), (test_x, _) = mnist.load_data()"
   ]
  },
  {
   "cell_type": "code",
   "execution_count": 0,
   "metadata": {
    "colab": {},
    "colab_type": "code",
    "id": "6IU1zuwL9OoT"
   },
   "outputs": [],
   "source": [
    "train_x = train_x.astype('float32')/255\n",
    "test_x = test_x.astype('float32')/255\n",
    "train_x = train_x.reshape(len(train_x), 28,28,1)\n",
    "test_x = test_x.reshape(len(test_x), 28,28,1)"
   ]
  },
  {
   "cell_type": "code",
   "execution_count": 16,
   "metadata": {
    "colab": {
     "base_uri": "https://localhost:8080/",
     "height": 34
    },
    "colab_type": "code",
    "id": "HJQV0yw293Gs",
    "outputId": "2e9f549e-b8ed-4c0f-b2ea-8993f8ce41dc"
   },
   "outputs": [
    {
     "data": {
      "text/plain": [
       "(60000, 28, 28, 1)"
      ]
     },
     "execution_count": 16,
     "metadata": {
      "tags": []
     },
     "output_type": "execute_result"
    }
   ],
   "source": [
    "train_x.shape"
   ]
  },
  {
   "cell_type": "code",
   "execution_count": 17,
   "metadata": {
    "colab": {
     "base_uri": "https://localhost:8080/",
     "height": 34
    },
    "colab_type": "code",
    "id": "98gFrTgvvdzv",
    "outputId": "44e135e1-0915-4666-e65e-b66ba7de7c4c"
   },
   "outputs": [
    {
     "name": "stdout",
     "output_type": "stream",
     "text": [
      "0.8092934934850354\n"
     ]
    }
   ],
   "source": [
    "noise_factor = .99 * np.random.random_sample()\n",
    "print(noise_factor)"
   ]
  },
  {
   "cell_type": "markdown",
   "metadata": {},
   "source": [
    "## Introduce random uniform noise in the train and test set <br>\n",
    "* Rather than taking a complete random uniform noise as the train set, random uniform noise is added to the train set.\n",
    "* The random uniform noise is generated with mean and standard deviation as 1 and is kept between 0 to 1.\n",
    "* If we use just random noise as the training data the model performs worse and hence some kind of grouping of the training data is needed for the model to train on. "
   ]
  },
  {
   "cell_type": "code",
   "execution_count": 0,
   "metadata": {
    "colab": {},
    "colab_type": "code",
    "id": "MESoYhvpIfnH"
   },
   "outputs": [],
   "source": [
    "x_train_noisy = (train_x +  np.random.normal(loc=1.0, scale=1.0, size=train_x.shape))/ 2\n",
    "x_test_noisy = (test_x + np.random.normal(loc=1.0, scale=1.0, size=test_x.shape)) / 2"
   ]
  },
  {
   "cell_type": "code",
   "execution_count": 19,
   "metadata": {
    "colab": {
     "base_uri": "https://localhost:8080/",
     "height": 195
    },
    "colab_type": "code",
    "id": "rINjJ0qsI_2T",
    "outputId": "4036db30-f663-4d12-e612-efcd2e039218"
   },
   "outputs": [
    {
     "data": {
      "text/plain": [
       "<matplotlib.image.AxesImage at 0x7fe6b0fe4b38>"
      ]
     },
     "execution_count": 19,
     "metadata": {
      "tags": []
     },
     "output_type": "execute_result"
    },
    {
     "data": {
      "image/png": "[encoded data removed]",
      "text/plain": [
       "<Figure size 360x360 with 2 Axes>"
      ]
     },
     "metadata": {
      "tags": []
     },
     "output_type": "display_data"
    }
   ],
   "source": [
    "plt.figure(figsize=[5,5])\n",
    "\n",
    "# Display the first image in training data\n",
    "plt.subplot(121)\n",
    "curr_img = np.reshape(x_train_noisy[1], (28,28))\n",
    "plt.imshow(curr_img, cmap='gray')\n",
    "\n",
    "# Display the first image in testing data\n",
    "plt.subplot(122)\n",
    "curr_img = np.reshape(x_test_noisy[1], (28,28))\n",
    "plt.imshow(curr_img, cmap='gray')"
   ]
  },
  {
   "cell_type": "markdown",
   "metadata": {},
   "source": [
    "## Decoder part of the network\n",
    "* The assumption is that the trained model will be given a random noise vector of size 28 * 28 * 1 directly to the decoder part and is expected to output a MNIST like image\n",
    "* Hence the decoder is given a 28 * 28 * 1 image and that is why no upsampling layer is there. If there is to be an encoded image that is being provided to the decoder after the encoder part, then the model needs to be adjusted accordingly and retrained."
   ]
  },
  {
   "cell_type": "code",
   "execution_count": 0,
   "metadata": {
    "colab": {},
    "colab_type": "code",
    "id": "mzBx_KHl9OoX"
   },
   "outputs": [],
   "source": [
    "input_img = Input(shape=(28, 28, 1))"
   ]
  },
  {
   "cell_type": "code",
   "execution_count": 0,
   "metadata": {
    "colab": {},
    "colab_type": "code",
    "id": "j5qTXX4DIyim"
   },
   "outputs": [],
   "source": [
    "#x = Conv2D(16, (3, 3), activation='relu', padding='same')(input_img)\n",
    "#x = MaxPooling2D((2, 2), padding='same')(x)\n",
    "#x = Conv2D(8, (3, 3), activation='relu', padding='same')(x)\n",
    "#x = MaxPooling2D((2, 2), padding='same')(x)\n",
    "#x = Conv2D(8, (3, 3), activation='relu', padding='same')(x)\n",
    "#encoded = MaxPooling2D((2, 2), padding='same')(x)"
   ]
  },
  {
   "cell_type": "code",
   "execution_count": 22,
   "metadata": {
    "colab": {
     "base_uri": "https://localhost:8080/",
     "height": 119
    },
    "colab_type": "code",
    "id": "5LYldWP89Ooa",
    "outputId": "e68081ce-f4d5-46c9-a037-236224211796"
   },
   "outputs": [
    {
     "name": "stdout",
     "output_type": "stream",
     "text": [
      "(?, 28, 28, 8)\n",
      "(?, 28, 28, 16)\n",
      "(?, 28, 28, 32)\n",
      "(?, 28, 28, 64)\n",
      "(?, 28, 28, 128)\n",
      "(?, 28, 28, 1)\n"
     ]
    }
   ],
   "source": [
    "#print(encoded)\n",
    "x = Conv2D(8, (3, 3), activation='relu', padding='same')(input_img)\n",
    "print(x.shape)\n",
    "#x = UpSampling2D((2, 2))(x)\n",
    "x = Conv2D(16, (3, 3), activation='relu', padding='same')(x)\n",
    "print(x.shape)\n",
    "#x = UpSampling2D((2, 2))(x)\n",
    "x = Conv2D(32, (3, 3), activation='relu', padding='same')(x)\n",
    "print(x.shape)\n",
    "x = Conv2D(64, (3, 3), activation='relu', padding='same')(x)\n",
    "print(x.shape)\n",
    "x = Conv2D(128, (3, 3), activation='relu', padding='same')(x)\n",
    "print(x.shape)\n",
    "#x = UpSampling2D((2, 2))(x)\n",
    "decoded = Conv2D(1, (3, 3), activation='sigmoid', padding='same')(x)\n",
    "print(decoded.shape)"
   ]
  },
  {
   "cell_type": "markdown",
   "metadata": {},
   "source": [
    "## Define the model and compile with loss function"
   ]
  },
  {
   "cell_type": "code",
   "execution_count": 0,
   "metadata": {
    "colab": {},
    "colab_type": "code",
    "id": "zqkOGXGa9Oog"
   },
   "outputs": [],
   "source": [
    "autoencoder = Model(input_img, decoded)\n",
    "autoencoder.compile(optimizer='adadelta', loss='binary_crossentropy')"
   ]
  },
  {
   "cell_type": "markdown",
   "metadata": {},
   "source": [
    "## Training the model\n",
    "* The training is done for 200 epochs\n",
    "* The train data is the noisy data generated earlier while the ground truth remains the same (original data)."
   ]
  },
  {
   "cell_type": "code",
   "execution_count": 24,
   "metadata": {
    "colab": {
     "base_uri": "https://localhost:8080/",
     "height": 6834
    },
    "colab_type": "code",
    "id": "07XRIx_B9Ooj",
    "outputId": "21f724a9-e9a5-43a1-b352-e9be6a5b2776"
   },
   "outputs": [
    {
     "name": "stdout",
     "output_type": "stream",
     "text": [
      "Train on 60000 samples, validate on 10000 samples\n",
      "Epoch 1/200\n",
      " - 21s - loss: 0.2426 - val_loss: 0.1849\n",
      "Epoch 2/200\n",
      " - 21s - loss: 0.1766 - val_loss: 0.1746\n",
      "Epoch 3/200\n",
      " - 21s - loss: 0.1701 - val_loss: 0.1651\n",
      "Epoch 4/200\n",
      " - 21s - loss: 0.1662 - val_loss: 0.1619\n",
      "Epoch 5/200\n",
      " - 21s - loss: 0.1637 - val_loss: 0.1623\n",
      "Epoch 6/200\n",
      " - 21s - loss: 0.1623 - val_loss: 0.1600\n",
      "Epoch 7/200\n",
      " - 21s - loss: 0.1611 - val_loss: 0.1585\n",
      "Epoch 8/200\n",
      " - 21s - loss: 0.1600 - val_loss: 0.1581\n",
      "Epoch 9/200\n",
      " - 21s - loss: 0.1595 - val_loss: 0.1604\n",
      "Epoch 10/200\n",
      " - 21s - loss: 0.1588 - val_loss: 0.1574\n",
      "Epoch 11/200\n",
      " - 21s - loss: 0.1585 - val_loss: 0.1570\n",
      "Epoch 12/200\n",
      " - 21s - loss: 0.1580 - val_loss: 0.1573\n",
      "Epoch 13/200\n",
      " - 21s - loss: 0.1578 - val_loss: 0.1559\n",
      "Epoch 14/200\n",
      " - 21s - loss: 0.1573 - val_loss: 0.1560\n",
      "Epoch 15/200\n",
      " - 21s - loss: 0.1568 - val_loss: 0.1552\n",
      "Epoch 16/200\n",
      " - 21s - loss: 0.1567 - val_loss: 0.1561\n",
      "Epoch 17/200\n",
      " - 21s - loss: 0.1565 - val_loss: 0.1565\n",
      "Epoch 18/200\n",
      " - 21s - loss: 0.1561 - val_loss: 0.1547\n",
      "Epoch 19/200\n",
      " - 21s - loss: 0.1558 - val_loss: 0.1582\n",
      "Epoch 20/200\n",
      " - 21s - loss: 0.1557 - val_loss: 0.1545\n",
      "Epoch 21/200\n",
      " - 21s - loss: 0.1555 - val_loss: 0.1538\n",
      "Epoch 22/200\n",
      " - 21s - loss: 0.1554 - val_loss: 0.1558\n",
      "Epoch 23/200\n",
      " - 21s - loss: 0.1553 - val_loss: 0.1544\n",
      "Epoch 24/200\n",
      " - 21s - loss: 0.1550 - val_loss: 0.1544\n",
      "Epoch 25/200\n",
      " - 21s - loss: 0.1548 - val_loss: 0.1534\n",
      "Epoch 26/200\n",
      " - 21s - loss: 0.1548 - val_loss: 0.1548\n",
      "Epoch 27/200\n",
      " - 21s - loss: 0.1547 - val_loss: 0.1556\n",
      "Epoch 28/200\n",
      " - 21s - loss: 0.1545 - val_loss: 0.1532\n",
      "Epoch 29/200\n",
      " - 21s - loss: 0.1545 - val_loss: 0.1541\n",
      "Epoch 30/200\n",
      " - 21s - loss: 0.1543 - val_loss: 0.1541\n",
      "Epoch 31/200\n",
      " - 21s - loss: 0.1542 - val_loss: 0.1533\n",
      "Epoch 32/200\n",
      " - 21s - loss: 0.1541 - val_loss: 0.1542\n",
      "Epoch 33/200\n",
      " - 21s - loss: 0.1541 - val_loss: 0.1537\n",
      "Epoch 34/200\n",
      " - 21s - loss: 0.1539 - val_loss: 0.1528\n",
      "Epoch 35/200\n",
      " - 21s - loss: 0.1537 - val_loss: 0.1530\n",
      "Epoch 36/200\n",
      " - 21s - loss: 0.1537 - val_loss: 0.1531\n",
      "Epoch 37/200\n",
      " - 21s - loss: 0.1537 - val_loss: 0.1532\n",
      "Epoch 38/200\n",
      " - 21s - loss: 0.1536 - val_loss: 0.1541\n",
      "Epoch 39/200\n",
      " - 21s - loss: 0.1534 - val_loss: 0.1523\n",
      "Epoch 40/200\n",
      " - 21s - loss: 0.1533 - val_loss: 0.1524\n",
      "Epoch 41/200\n",
      " - 21s - loss: 0.1533 - val_loss: 0.1529\n",
      "Epoch 42/200\n",
      " - 21s - loss: 0.1532 - val_loss: 0.1525\n",
      "Epoch 43/200\n",
      " - 21s - loss: 0.1532 - val_loss: 0.1523\n",
      "Epoch 44/200\n",
      " - 21s - loss: 0.1531 - val_loss: 0.1534\n",
      "Epoch 45/200\n",
      " - 21s - loss: 0.1531 - val_loss: 0.1523\n",
      "Epoch 46/200\n",
      " - 21s - loss: 0.1530 - val_loss: 0.1519\n",
      "Epoch 47/200\n",
      " - 21s - loss: 0.1530 - val_loss: 0.1526\n",
      "Epoch 48/200\n",
      " - 21s - loss: 0.1529 - val_loss: 0.1524\n",
      "Epoch 49/200\n",
      " - 21s - loss: 0.1529 - val_loss: 0.1536\n",
      "Epoch 50/200\n",
      " - 21s - loss: 0.1528 - val_loss: 0.1520\n",
      "Epoch 51/200\n",
      " - 21s - loss: 0.1528 - val_loss: 0.1530\n",
      "Epoch 52/200\n",
      " - 21s - loss: 0.1527 - val_loss: 0.1520\n",
      "Epoch 53/200\n",
      " - 21s - loss: 0.1526 - val_loss: 0.1518\n",
      "Epoch 54/200\n",
      " - 21s - loss: 0.1526 - val_loss: 0.1517\n",
      "Epoch 55/200\n",
      " - 21s - loss: 0.1525 - val_loss: 0.1523\n",
      "Epoch 56/200\n",
      " - 21s - loss: 0.1525 - val_loss: 0.1534\n",
      "Epoch 57/200\n",
      " - 21s - loss: 0.1524 - val_loss: 0.1516\n",
      "Epoch 58/200\n",
      " - 21s - loss: 0.1523 - val_loss: 0.1515\n",
      "Epoch 59/200\n",
      " - 21s - loss: 0.1523 - val_loss: 0.1517\n",
      "Epoch 60/200\n",
      " - 21s - loss: 0.1523 - val_loss: 0.1516\n",
      "Epoch 61/200\n",
      " - 21s - loss: 0.1523 - val_loss: 0.1518\n",
      "Epoch 62/200\n",
      " - 21s - loss: 0.1523 - val_loss: 0.1517\n",
      "Epoch 63/200\n",
      " - 21s - loss: 0.1523 - val_loss: 0.1518\n",
      "Epoch 64/200\n",
      " - 21s - loss: 0.1522 - val_loss: 0.1515\n",
      "Epoch 65/200\n",
      " - 21s - loss: 0.1521 - val_loss: 0.1513\n",
      "Epoch 66/200\n",
      " - 21s - loss: 0.1520 - val_loss: 0.1520\n",
      "Epoch 67/200\n",
      " - 21s - loss: 0.1520 - val_loss: 0.1514\n",
      "Epoch 68/200\n",
      " - 21s - loss: 0.1520 - val_loss: 0.1518\n",
      "Epoch 69/200\n",
      " - 21s - loss: 0.1520 - val_loss: 0.1520\n",
      "Epoch 70/200\n",
      " - 21s - loss: 0.1519 - val_loss: 0.1513\n",
      "Epoch 71/200\n",
      " - 21s - loss: 0.1520 - val_loss: 0.1515\n",
      "Epoch 72/200\n",
      " - 21s - loss: 0.1519 - val_loss: 0.1511\n",
      "Epoch 73/200\n",
      " - 21s - loss: 0.1518 - val_loss: 0.1539\n",
      "Epoch 74/200\n",
      " - 21s - loss: 0.1519 - val_loss: 0.1512\n",
      "Epoch 75/200\n",
      " - 21s - loss: 0.1519 - val_loss: 0.1510\n",
      "Epoch 76/200\n",
      " - 21s - loss: 0.1517 - val_loss: 0.1529\n",
      "Epoch 77/200\n",
      " - 21s - loss: 0.1517 - val_loss: 0.1510\n",
      "Epoch 78/200\n",
      " - 21s - loss: 0.1516 - val_loss: 0.1511\n",
      "Epoch 79/200\n",
      " - 21s - loss: 0.1516 - val_loss: 0.1510\n",
      "Epoch 80/200\n",
      " - 21s - loss: 0.1516 - val_loss: 0.1509\n",
      "Epoch 81/200\n",
      " - 21s - loss: 0.1516 - val_loss: 0.1512\n",
      "Epoch 82/200\n",
      " - 21s - loss: 0.1517 - val_loss: 0.1512\n",
      "Epoch 83/200\n",
      " - 21s - loss: 0.1515 - val_loss: 0.1519\n",
      "Epoch 84/200\n",
      " - 21s - loss: 0.1515 - val_loss: 0.1509\n",
      "Epoch 85/200\n",
      " - 21s - loss: 0.1515 - val_loss: 0.1520\n",
      "Epoch 86/200\n",
      " - 21s - loss: 0.1516 - val_loss: 0.1522\n",
      "Epoch 87/200\n",
      " - 21s - loss: 0.1515 - val_loss: 0.1523\n",
      "Epoch 88/200\n",
      " - 21s - loss: 0.1515 - val_loss: 0.1512\n",
      "Epoch 89/200\n",
      " - 21s - loss: 0.1514 - val_loss: 0.1509\n",
      "Epoch 90/200\n",
      " - 21s - loss: 0.1514 - val_loss: 0.1509\n",
      "Epoch 91/200\n",
      " - 21s - loss: 0.1513 - val_loss: 0.1514\n",
      "Epoch 92/200\n",
      " - 21s - loss: 0.1513 - val_loss: 0.1519\n",
      "Epoch 93/200\n",
      " - 21s - loss: 0.1513 - val_loss: 0.1509\n",
      "Epoch 94/200\n",
      " - 21s - loss: 0.1513 - val_loss: 0.1510\n",
      "Epoch 95/200\n",
      " - 21s - loss: 0.1513 - val_loss: 0.1509\n",
      "Epoch 96/200\n",
      " - 21s - loss: 0.1513 - val_loss: 0.1510\n",
      "Epoch 97/200\n",
      " - 21s - loss: 0.1513 - val_loss: 0.1508\n",
      "Epoch 98/200\n",
      " - 21s - loss: 0.1512 - val_loss: 0.1508\n",
      "Epoch 99/200\n",
      " - 21s - loss: 0.1513 - val_loss: 0.1508\n",
      "Epoch 100/200\n",
      " - 21s - loss: 0.1512 - val_loss: 0.1508\n",
      "Epoch 101/200\n",
      " - 21s - loss: 0.1512 - val_loss: 0.1517\n",
      "Epoch 102/200\n",
      " - 21s - loss: 0.1512 - val_loss: 0.1515\n",
      "Epoch 103/200\n",
      " - 21s - loss: 0.1511 - val_loss: 0.1514\n",
      "Epoch 104/200\n",
      " - 21s - loss: 0.1511 - val_loss: 0.1518\n",
      "Epoch 105/200\n",
      " - 21s - loss: 0.1512 - val_loss: 0.1515\n",
      "Epoch 106/200\n",
      " - 21s - loss: 0.1511 - val_loss: 0.1508\n",
      "Epoch 107/200\n",
      " - 21s - loss: 0.1511 - val_loss: 0.1509\n",
      "Epoch 108/200\n",
      " - 21s - loss: 0.1511 - val_loss: 0.1509\n",
      "Epoch 109/200\n",
      " - 21s - loss: 0.1510 - val_loss: 0.1519\n",
      "Epoch 110/200\n",
      " - 21s - loss: 0.1510 - val_loss: 0.1520\n",
      "Epoch 111/200\n",
      " - 21s - loss: 0.1510 - val_loss: 0.1509\n",
      "Epoch 112/200\n",
      " - 21s - loss: 0.1509 - val_loss: 0.1509\n",
      "Epoch 113/200\n",
      " - 21s - loss: 0.1510 - val_loss: 0.1507\n",
      "Epoch 114/200\n",
      " - 21s - loss: 0.1510 - val_loss: 0.1521\n",
      "Epoch 115/200\n",
      " - 21s - loss: 0.1511 - val_loss: 0.1507\n",
      "Epoch 116/200\n",
      " - 21s - loss: 0.1509 - val_loss: 0.1517\n",
      "Epoch 117/200\n",
      " - 21s - loss: 0.1509 - val_loss: 0.1512\n",
      "Epoch 118/200\n",
      " - 21s - loss: 0.1509 - val_loss: 0.1513\n",
      "Epoch 119/200\n",
      " - 21s - loss: 0.1508 - val_loss: 0.1509\n",
      "Epoch 120/200\n",
      " - 21s - loss: 0.1509 - val_loss: 0.1525\n",
      "Epoch 121/200\n",
      " - 21s - loss: 0.1508 - val_loss: 0.1508\n",
      "Epoch 122/200\n",
      " - 21s - loss: 0.1509 - val_loss: 0.1507\n",
      "Epoch 123/200\n",
      " - 21s - loss: 0.1509 - val_loss: 0.1505\n",
      "Epoch 124/200\n",
      " - 21s - loss: 0.1509 - val_loss: 0.1511\n",
      "Epoch 125/200\n",
      " - 21s - loss: 0.1508 - val_loss: 0.1506\n",
      "Epoch 126/200\n",
      " - 21s - loss: 0.1508 - val_loss: 0.1507\n",
      "Epoch 127/200\n",
      " - 21s - loss: 0.1507 - val_loss: 0.1504\n",
      "Epoch 128/200\n",
      " - 21s - loss: 0.1507 - val_loss: 0.1511\n",
      "Epoch 129/200\n",
      " - 21s - loss: 0.1507 - val_loss: 0.1505\n",
      "Epoch 130/200\n",
      " - 21s - loss: 0.1507 - val_loss: 0.1507\n",
      "Epoch 131/200\n",
      " - 21s - loss: 0.1507 - val_loss: 0.1508\n",
      "Epoch 132/200\n",
      " - 21s - loss: 0.1506 - val_loss: 0.1508\n",
      "Epoch 133/200\n",
      " - 21s - loss: 0.1507 - val_loss: 0.1508\n",
      "Epoch 134/200\n",
      " - 21s - loss: 0.1507 - val_loss: 0.1508\n",
      "Epoch 135/200\n",
      " - 21s - loss: 0.1507 - val_loss: 0.1505\n",
      "Epoch 136/200\n",
      " - 21s - loss: 0.1507 - val_loss: 0.1507\n",
      "Epoch 137/200\n",
      " - 21s - loss: 0.1506 - val_loss: 0.1505\n",
      "Epoch 138/200\n",
      " - 21s - loss: 0.1506 - val_loss: 0.1515\n",
      "Epoch 139/200\n",
      " - 21s - loss: 0.1506 - val_loss: 0.1506\n",
      "Epoch 140/200\n",
      " - 21s - loss: 0.1506 - val_loss: 0.1506\n",
      "Epoch 141/200\n",
      " - 21s - loss: 0.1506 - val_loss: 0.1505\n",
      "Epoch 142/200\n",
      " - 21s - loss: 0.1506 - val_loss: 0.1507\n",
      "Epoch 143/200\n",
      " - 21s - loss: 0.1506 - val_loss: 0.1508\n",
      "Epoch 144/200\n",
      " - 21s - loss: 0.1506 - val_loss: 0.1513\n",
      "Epoch 145/200\n",
      " - 21s - loss: 0.1506 - val_loss: 0.1508\n",
      "Epoch 146/200\n",
      " - 21s - loss: 0.1506 - val_loss: 0.1519\n",
      "Epoch 147/200\n",
      " - 21s - loss: 0.1505 - val_loss: 0.1512\n",
      "Epoch 148/200\n",
      " - 21s - loss: 0.1506 - val_loss: 0.1508\n",
      "Epoch 149/200\n",
      " - 21s - loss: 0.1504 - val_loss: 0.1511\n",
      "Epoch 150/200\n",
      " - 21s - loss: 0.1504 - val_loss: 0.1506\n",
      "Epoch 151/200\n",
      " - 21s - loss: 0.1505 - val_loss: 0.1512\n",
      "Epoch 152/200\n",
      " - 21s - loss: 0.1504 - val_loss: 0.1505\n",
      "Epoch 153/200\n",
      " - 21s - loss: 0.1505 - val_loss: 0.1507\n",
      "Epoch 154/200\n",
      " - 21s - loss: 0.1504 - val_loss: 0.1507\n",
      "Epoch 155/200\n",
      " - 21s - loss: 0.1504 - val_loss: 0.1506\n",
      "Epoch 156/200\n",
      " - 21s - loss: 0.1503 - val_loss: 0.1511\n",
      "Epoch 157/200\n",
      " - 21s - loss: 0.1504 - val_loss: 0.1506\n",
      "Epoch 158/200\n",
      " - 21s - loss: 0.1504 - val_loss: 0.1509\n",
      "Epoch 159/200\n",
      " - 21s - loss: 0.1503 - val_loss: 0.1512\n",
      "Epoch 160/200\n",
      " - 21s - loss: 0.1504 - val_loss: 0.1504\n",
      "Epoch 161/200\n",
      " - 21s - loss: 0.1503 - val_loss: 0.1505\n",
      "Epoch 162/200\n",
      " - 21s - loss: 0.1503 - val_loss: 0.1509\n",
      "Epoch 163/200\n",
      " - 21s - loss: 0.1503 - val_loss: 0.1506\n",
      "Epoch 164/200\n",
      " - 21s - loss: 0.1504 - val_loss: 0.1505\n",
      "Epoch 165/200\n",
      " - 21s - loss: 0.1503 - val_loss: 0.1517\n",
      "Epoch 166/200\n",
      " - 21s - loss: 0.1503 - val_loss: 0.1503\n",
      "Epoch 167/200\n",
      " - 21s - loss: 0.1502 - val_loss: 0.1506\n",
      "Epoch 168/200\n",
      " - 21s - loss: 0.1503 - val_loss: 0.1526\n",
      "Epoch 169/200\n",
      " - 21s - loss: 0.1502 - val_loss: 0.1511\n",
      "Epoch 170/200\n",
      " - 21s - loss: 0.1503 - val_loss: 0.1505\n",
      "Epoch 171/200\n",
      " - 21s - loss: 0.1502 - val_loss: 0.1505\n",
      "Epoch 172/200\n",
      " - 21s - loss: 0.1502 - val_loss: 0.1505\n",
      "Epoch 173/200\n",
      " - 21s - loss: 0.1502 - val_loss: 0.1516\n",
      "Epoch 174/200\n",
      " - 21s - loss: 0.1502 - val_loss: 0.1506\n",
      "Epoch 175/200\n",
      " - 21s - loss: 0.1502 - val_loss: 0.1505\n",
      "Epoch 176/200\n",
      " - 21s - loss: 0.1502 - val_loss: 0.1505\n",
      "Epoch 177/200\n",
      " - 21s - loss: 0.1502 - val_loss: 0.1508\n",
      "Epoch 178/200\n",
      " - 21s - loss: 0.1501 - val_loss: 0.1504\n",
      "Epoch 179/200\n",
      " - 21s - loss: 0.1502 - val_loss: 0.1506\n",
      "Epoch 180/200\n",
      " - 21s - loss: 0.1502 - val_loss: 0.1507\n",
      "Epoch 181/200\n",
      " - 21s - loss: 0.1501 - val_loss: 0.1517\n",
      "Epoch 182/200\n",
      " - 21s - loss: 0.1501 - val_loss: 0.1507\n",
      "Epoch 183/200\n",
      " - 21s - loss: 0.1502 - val_loss: 0.1507\n",
      "Epoch 184/200\n",
      " - 21s - loss: 0.1501 - val_loss: 0.1511\n",
      "Epoch 185/200\n",
      " - 21s - loss: 0.1501 - val_loss: 0.1507\n",
      "Epoch 186/200\n",
      " - 21s - loss: 0.1501 - val_loss: 0.1508\n",
      "Epoch 187/200\n",
      " - 21s - loss: 0.1501 - val_loss: 0.1505\n",
      "Epoch 188/200\n",
      " - 21s - loss: 0.1500 - val_loss: 0.1508\n",
      "Epoch 189/200\n",
      " - 21s - loss: 0.1501 - val_loss: 0.1512\n",
      "Epoch 190/200\n",
      " - 21s - loss: 0.1501 - val_loss: 0.1507\n",
      "Epoch 191/200\n",
      " - 21s - loss: 0.1500 - val_loss: 0.1504\n",
      "Epoch 192/200\n",
      " - 21s - loss: 0.1500 - val_loss: 0.1503\n",
      "Epoch 193/200\n",
      " - 21s - loss: 0.1500 - val_loss: 0.1509\n",
      "Epoch 194/200\n",
      " - 21s - loss: 0.1500 - val_loss: 0.1503\n",
      "Epoch 195/200\n",
      " - 21s - loss: 0.1501 - val_loss: 0.1511\n",
      "Epoch 196/200\n",
      " - 21s - loss: 0.1501 - val_loss: 0.1505\n",
      "Epoch 197/200\n",
      " - 21s - loss: 0.1500 - val_loss: 0.1508\n",
      "Epoch 198/200\n",
      " - 21s - loss: 0.1500 - val_loss: 0.1504\n",
      "Epoch 199/200\n",
      " - 21s - loss: 0.1500 - val_loss: 0.1505\n",
      "Epoch 200/200\n",
      " - 21s - loss: 0.1500 - val_loss: 0.1508\n"
     ]
    }
   ],
   "source": [
    "epochs = 200\n",
    "autoencoder_train = autoencoder.fit(x_train_noisy, train_x, epochs=epochs, batch_size=128, shuffle=True, validation_data=(x_test_noisy, test_x),\n",
    "                verbose=2)"
   ]
  },
  {
   "cell_type": "markdown",
   "metadata": {},
   "source": [
    "## Plot the curve between training and validation loss"
   ]
  },
  {
   "cell_type": "code",
   "execution_count": 25,
   "metadata": {
    "colab": {
     "base_uri": "https://localhost:8080/",
     "height": 281
    },
    "colab_type": "code",
    "id": "Y9AunsPbJgYI",
    "outputId": "5f9aa53b-985b-4b83-f85f-25499edb888a"
   },
   "outputs": [
    {
     "data": {
      "image/png": "[encoded data removed]",
      "text/plain": [
       "<Figure size 432x288 with 1 Axes>"
      ]
     },
     "metadata": {
      "tags": []
     },
     "output_type": "display_data"
    }
   ],
   "source": [
    "loss = autoencoder_train.history['loss']\n",
    "val_loss = autoencoder_train.history['val_loss']\n",
    "epoch = range(epochs)\n",
    "plt.figure()\n",
    "plt.plot(epoch, loss, 'bo', label='Training loss')\n",
    "plt.plot(epoch, val_loss, 'b', label='Validation loss')\n",
    "plt.title('Training and validation loss')\n",
    "plt.legend()\n",
    "plt.show()"
   ]
  },
  {
   "cell_type": "markdown",
   "metadata": {},
   "source": [
    "## Predict the decoded images from the test set"
   ]
  },
  {
   "cell_type": "code",
   "execution_count": 0,
   "metadata": {
    "colab": {},
    "colab_type": "code",
    "id": "N9ORBBeff9rN"
   },
   "outputs": [],
   "source": [
    "decoded_imgs = autoencoder.predict(x_test_noisy)"
   ]
  },
  {
   "cell_type": "markdown",
   "metadata": {},
   "source": [
    "## Plot the decoded images against the original (without noise) images"
   ]
  },
  {
   "cell_type": "code",
   "execution_count": 27,
   "metadata": {
    "colab": {
     "base_uri": "https://localhost:8080/",
     "height": 295
    },
    "colab_type": "code",
    "id": "eRXWczaIjnzW",
    "outputId": "d56b3fb7-adad-4ea1-8f3b-8008e88157f7"
   },
   "outputs": [
    {
     "data": {
      "image/png": "[encoded data removed]",
      "text/plain": [
       "<Figure size 1000x400 with 20 Axes>"
      ]
     },
     "metadata": {
      "tags": []
     },
     "output_type": "display_data"
    }
   ],
   "source": [
    "n = 10\n",
    "plt.figure(figsize=(10, 4), dpi=100)\n",
    "for i in range(n):\n",
    "    # display original\n",
    "    ax = plt.subplot(2, n, i + 1)\n",
    "    #plt.imshow(x_test_noisy[i].reshape(28, 28))\n",
    "    plt.imshow(test_x[i].reshape(28, 28))\n",
    "    plt.gray()\n",
    "    ax.set_axis_off()\n",
    "    \n",
    "\n",
    "    # display reconstruction\n",
    "    ax = plt.subplot(2, n, i + n + 1)\n",
    "    plt.imshow(decoded_imgs[i].reshape(28, 28))\n",
    "    plt.gray()\n",
    "    ax.set_axis_off()\n",
    "\n",
    "plt.show()"
   ]
  },
  {
   "cell_type": "code",
   "execution_count": 0,
   "metadata": {
    "colab": {},
    "colab_type": "code",
    "id": "0qukVM0iPVN3"
   },
   "outputs": [],
   "source": [
    "def show_img(img):  \n",
    "  n,i = 10,0\n",
    "  plt.figure(figsize=(10, 4), dpi=100)\n",
    "\n",
    "  # display original\n",
    "  ax = plt.subplot(2, n, i + 1)\n",
    "  plt.imshow(img.reshape(28, 28))\n",
    "  plt.gray()\n",
    "  ax.set_axis_off()\n",
    "\n",
    "  plt.show()"
   ]
  },
  {
   "cell_type": "code",
   "execution_count": 29,
   "metadata": {
    "colab": {
     "base_uri": "https://localhost:8080/",
     "height": 243
    },
    "colab_type": "code",
    "id": "SAnjx-02jtrf",
    "outputId": "d2934fa6-b675-4216-a181-57785fa17801"
   },
   "outputs": [
    {
     "data": {
      "image/png": "[encoded data removed]",
      "text/plain": [
       "<Figure size 1000x400 with 1 Axes>"
      ]
     },
     "metadata": {
      "tags": []
     },
     "output_type": "display_data"
    },
    {
     "data": {
      "image/png": "[encoded data removed]",
      "text/plain": [
       "<Figure size 1000x400 with 1 Axes>"
      ]
     },
     "metadata": {
      "tags": []
     },
     "output_type": "display_data"
    }
   ],
   "source": [
    "i = 8\n",
    "t = x_test_noisy[i]\n",
    "t.shape\n",
    "x = np.expand_dims(t, axis=0)\n",
    "x.shape\n",
    "d = autoencoder.predict(x)\n",
    "show_img(test_x[i])\n",
    "show_img(d)"
   ]
  },
  {
   "cell_type": "markdown",
   "metadata": {},
   "source": [
    "## Generate a random noise vector and output as a MNIST like image"
   ]
  },
  {
   "cell_type": "code",
   "execution_count": 30,
   "metadata": {
    "colab": {
     "base_uri": "https://localhost:8080/",
     "height": 260
    },
    "colab_type": "code",
    "id": "BisYBvDMPZkp",
    "outputId": "33c94a3f-b179-4240-d47b-9cb931f7f305"
   },
   "outputs": [
    {
     "name": "stdout",
     "output_type": "stream",
     "text": [
      "False\n"
     ]
    },
    {
     "data": {
      "image/png": "[encoded data removed]",
      "text/plain": [
       "<Figure size 1000x400 with 1 Axes>"
      ]
     },
     "metadata": {
      "tags": []
     },
     "output_type": "display_data"
    },
    {
     "data": {
      "image/png": "[encoded data removed]",
      "text/plain": [
       "<Figure size 1000x400 with 1 Axes>"
      ]
     },
     "metadata": {
      "tags": []
     },
     "output_type": "display_data"
    }
   ],
   "source": [
    "# random vector to mnist image\n",
    "\n",
    "r = np.random.randint(0, 255, (28,28,1))\n",
    "print((r==t).all())\n",
    "r = np.expand_dims(r, axis=0)\n",
    "r = r.astype('float32')/255\n",
    "r = r.reshape(len(r), 28,28,1)\n",
    "r_dec = autoencoder.predict(r)\n",
    "show_img(r)\n",
    "show_img(r_dec)"
   ]
  },
  {
   "cell_type": "code",
   "execution_count": 31,
   "metadata": {
    "colab": {
     "base_uri": "https://localhost:8080/",
     "height": 243
    },
    "colab_type": "code",
    "id": "nqur11CWQRIC",
    "outputId": "4c754f04-0ed9-42bf-8a95-b24eaaf22577"
   },
   "outputs": [
    {
     "data": {
      "image/png": "[encoded data removed]",
      "text/plain": [
       "<Figure size 1000x400 with 1 Axes>"
      ]
     },
     "metadata": {
      "tags": []
     },
     "output_type": "display_data"
    },
    {
     "data": {
      "image/png": "[encoded data removed]",
      "text/plain": [
       "<Figure size 1000x400 with 1 Axes>"
      ]
     },
     "metadata": {
      "tags": []
     },
     "output_type": "display_data"
    }
   ],
   "source": [
    "# replacing values at random indexes of a noisy image and then generating back the original\n",
    "y = t\n",
    "# random boolean mask for which values will be changed\n",
    "mask = np.random.randint(0,2,size=y.shape).astype(np.bool)\n",
    "\n",
    "# random matrix the same shape of your data\n",
    "r = np.random.rand(*y.shape)*np.max(y)\n",
    "\n",
    "# use your mask to replace values in your input array\n",
    "y[mask] = r[mask]\n",
    "\n",
    "y = np.expand_dims(y, axis=0)\n",
    "y_dec = autoencoder.predict(y)\n",
    "show_img(t)\n",
    "show_img(y_dec)"
   ]
  },
  {
   "cell_type": "code",
   "execution_count": 0,
   "metadata": {
    "colab": {},
    "colab_type": "code",
    "id": "VCXz2BXtpz6f"
   },
   "outputs": [],
   "source": []
  }
 ],
 "metadata": {
  "accelerator": "GPU",
  "colab": {
   "name": "denoising_autoencoder_1.ipynb",
   "provenance": [],
   "version": "0.3.2"
  },
  "kernelspec": {
   "display_name": "Python 3",
   "language": "python",
   "name": "python3"
  },
  "language_info": {
   "codemirror_mode": {
    "name": "ipython",
    "version": 3
   },
   "file_extension": ".py",
   "mimetype": "text/x-python",
   "name": "python",
   "nbconvert_exporter": "python",
   "pygments_lexer": "ipython3",
   "version": "3.7.3"
  }
 },
 "nbformat": 4,
 "nbformat_minor": 1
}
