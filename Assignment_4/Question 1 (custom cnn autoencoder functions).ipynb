{
 "cells": [
  {
   "cell_type": "code",
   "execution_count": 1,
   "metadata": {},
   "outputs": [
    {
     "name": "stderr",
     "output_type": "stream",
     "text": [
      "Using TensorFlow backend.\n"
     ]
    }
   ],
   "source": [
    "import numpy as np\n",
    "import matplotlib.pyplot as plt\n",
    "import pickle\n",
    "import math\n",
    "\n",
    "import keras\n",
    "import tensorflow as tf\n",
    "from keras import backend as K \n",
    "from keras.layers import Input, Conv2D, MaxPooling2D, UpSampling2D\n",
    "from keras.models import Model\n",
    "from keras.callbacks import TensorBoard\n",
    "from tensorflow.python.keras.engine.base_layer import Layer"
   ]
  },
  {
   "cell_type": "markdown",
   "metadata": {},
   "source": [
    "## Define activation functions"
   ]
  },
  {
   "cell_type": "code",
   "execution_count": 2,
   "metadata": {},
   "outputs": [],
   "source": [
    "def ReLU(X):\n",
    "    return tf.maximum(X, np.zeros_like(X))\n",
    "\n",
    "def softmax(X):\n",
    "    return tf.exp(X)/tf.reduce_sum(tf.exp(X), 0)\n",
    "\n",
    "def tanh(X):\n",
    "    return tf.tanh(X)"
   ]
  },
  {
   "cell_type": "markdown",
   "metadata": {},
   "source": [
    "## Loading weights from a pre-trained encoder saved in file"
   ]
  },
  {
   "cell_type": "code",
   "execution_count": 3,
   "metadata": {},
   "outputs": [
    {
     "name": "stdout",
     "output_type": "stream",
     "text": [
      "14\n",
      "(3, 3, 1, 16) (3, 3, 16, 8) (3, 3, 8, 8) (3, 3, 8, 8) (3, 3, 8, 8) (3, 3, 8, 16) (3, 3, 16, 1)\n"
     ]
    }
   ],
   "source": [
    "weights = np.load('./weights/FinalWeightsArray.npy')\n",
    "weights1 = weights[0]\n",
    "weights2 = weights[2]\n",
    "weights3 = weights[4]\n",
    "weights4 = weights[6]\n",
    "weights5 = weights[8]\n",
    "weights6 = weights[10]\n",
    "weights7 = weights[12]\n",
    "\n",
    "print(len(weights))\n",
    "print(weights1.shape,weights2.shape,weights3.shape, weights4.shape, weights5.shape, weights6.shape, weights7.shape)"
   ]
  },
  {
   "cell_type": "markdown",
   "metadata": {},
   "source": [
    "## Defining a custom convolution2d function"
   ]
  },
  {
   "cell_type": "markdown",
   "metadata": {},
   "source": [
    "The function takes tensor as input along with trained kernel weights, kernel size, padding and activation function and outputs a tensor"
   ]
  },
  {
   "cell_type": "code",
   "execution_count": 4,
   "metadata": {},
   "outputs": [],
   "source": [
    "def customConv2D(input_imgs, weights, filters, kernel, strides=1, padding='same', activation='ReLU'):\n",
    "    \n",
    "    if isinstance(kernel, tuple):\n",
    "        ker_height, ker_weight = kernel\n",
    "    else:\n",
    "        ker_height, ker_weight = kernel, kernel\n",
    "        \n",
    "    batch , inp_h, inp_w, inp_c = input_imgs.shape\n",
    "    if padding == 'valid':\n",
    "        pad = 0\n",
    "    elif padding == 'same':\n",
    "        pad = (ker_height - 1)//2\n",
    "    else:\n",
    "        raise ValueError('Padding '+padding+' given is incorrect')\n",
    "    \n",
    "    conv_height = (inp_h + 2*pad - ker_height)//strides + 1\n",
    "    conv_weight = (inp_w + 2*pad - ker_weight)//strides + 1\n",
    "    \n",
    "    inp_pad = tf.pad(input_imgs, [[0,0],[pad,pad],[pad,pad],[0,0]])\n",
    "    \n",
    "    c_list = []\n",
    "    for i in range(conv_height):\n",
    "        for j in range(conv_weight):\n",
    "            c = tf.slice(inp_pad, [0, i*strides, j*strides, 0], [-1, ker_height, ker_weight, -1])\n",
    "            c_list.append(c)\n",
    "            \n",
    "    inp_mat = tf.reshape(tf.stack(c_list), [-1, inp_c * ker_weight * ker_height])\n",
    "    _, _, ker_c, _ = weights.shape\n",
    "    W_mat = tf.reshape(weights, [ker_height * ker_weight * ker_c, filters])\n",
    "    b = tf.zeros([filters])\n",
    "    \n",
    "    output = tf.matmul(inp_mat, W_mat) + b\n",
    "    output = tf.transpose(tf.reshape(output,[conv_height,conv_weight,batch,filters]), [2,0,1,3])\n",
    "    \n",
    "    if activation:\n",
    "        activation = activation.lower()\n",
    "        if activation == 'relu':\n",
    "            conv = ReLU(output)\n",
    "        elif activation == 'softmax' or activation == 'sigmoid':\n",
    "            conv = softmax(output)\n",
    "        elif activation == 'tanh':\n",
    "            conv = tanh(output)\n",
    "        else:\n",
    "            raise ValueError('Unknown activation')\n",
    "        \n",
    "    return output"
   ]
  },
  {
   "cell_type": "markdown",
   "metadata": {},
   "source": [
    "## Defining a custom maxpooling 2d function"
   ]
  },
  {
   "cell_type": "markdown",
   "metadata": {},
   "source": [
    "The function takes tensor as input with kernel size and padding and outputs a max pooled tensor"
   ]
  },
  {
   "cell_type": "code",
   "execution_count": 10,
   "metadata": {},
   "outputs": [],
   "source": [
    "def customMaxPooling2D(input_imgs, kernel, strides=2, padding='same'):\n",
    "    \n",
    "    if isinstance(kernel, tuple):\n",
    "        ker_height, ker_weight = kernel\n",
    "    else:\n",
    "        ker_height, ker_weight = kernel, kernel\n",
    "        \n",
    "    _, inp_h, inp_w, inp_c = input_imgs.shape\n",
    "    \n",
    "    if padding == 'valid':\n",
    "        pad = 0\n",
    "    elif padding == 'same':\n",
    "        pad = (ker_height-1)//2\n",
    "    else:\n",
    "        raise ValueError('Padding '+padding+' given is incorrect')\n",
    "    \n",
    "    pool_height = math.ceil(int(inp_h + 2*pad - ker_height)/int(strides)) + 1 \n",
    "    pool_weight = math.ceil(int(inp_w + 2*pad - ker_weight)/int(strides)) + 1\n",
    "    \n",
    "    inp_pad = tf.pad(input_imgs, [[0,0],[pad,pad],[pad,pad],[0,0]])\n",
    "    \n",
    "    pool_list = []\n",
    "    for i in range(pool_height):\n",
    "        for j in range(pool_weight):\n",
    "            p = tf.slice(inp_pad, [0, i*strides, j*strides, 0], [-1, ker_height, ker_weight, -1])\n",
    "            pool_list.append(p)\n",
    "    \n",
    "    inp_mat = tf.reshape(tf.stack(pool_list), [-1, ker_weight * ker_height])\n",
    "    \n",
    "    pool_output = tf.reduce_max(tf.reshape(inp_mat, [pool_height, pool_weight, -1, ker_height * ker_weight, int(inp_c)]), axis = 3)\n",
    "    return tf.transpose(pool_output, [2,0,1,3])"
   ]
  },
  {
   "cell_type": "markdown",
   "metadata": {},
   "source": [
    "## Defining a custom upsampling 2d function"
   ]
  },
  {
   "cell_type": "markdown",
   "metadata": {},
   "source": [
    "The function takes a tensor, kernel size and data format as input and outputs a upsampled tensor with nearest neighbor interpolation method"
   ]
  },
  {
   "cell_type": "code",
   "execution_count": 13,
   "metadata": {},
   "outputs": [],
   "source": [
    "def customUpSampling2D(input_imgs, kernel, data_format='channels_last'):\n",
    "    \n",
    "    if isinstance(kernel, tuple):\n",
    "        ker_height, ker_weight = kernel\n",
    "    else:\n",
    "        ker_height, ker_weight = kernel, kernel\n",
    "        \n",
    "    if (data_format=='channels_last'):\n",
    "        n, inp_h, inp_w, inp_c = input_imgs.shape\n",
    "    elif (data_format=='channels_first'):\n",
    "        n, inp_c, inp_h, inp_w = input_imgs.shape\n",
    "    else:\n",
    "        raise ValueError('Data format is not valid.')\n",
    "    \n",
    "    out_height = inp_h * ker_height\n",
    "    out_weight = inp_w * ker_weight\n",
    "    \n",
    "    up_list = []\n",
    "    k = 0\n",
    "    while k < int(n):\n",
    "        i = 0\n",
    "        while i < int(inp_h):\n",
    "            tmp = []\n",
    "            j = 0\n",
    "            while j < int(inp_w):\n",
    "                p = tf.slice(input_imgs, [k,i,j,0], [1,1,1,1])\n",
    "                for x in range(ker_weight):\n",
    "                    tmp.append(p)\n",
    "                j+=1\n",
    "            for x in range(ker_height):\n",
    "                for y in tmp:\n",
    "                    up_list.append(y)\n",
    "            i+=1\n",
    "        k+=1\n",
    "    inp_mat = tf.reshape(tf.stack(up_list), [n, out_height, out_weight])\n",
    "    \n",
    "    out_list = []\n",
    "    for i in range(int(inp_c)):\n",
    "        out_list.append(inp_mat)\n",
    "        \n",
    "    out_upsamp = tf.reshape(tf.stack(out_list), [n, out_height, out_weight, int(inp_c)])\n",
    "    \n",
    "    return out_upsamp"
   ]
  },
  {
   "cell_type": "markdown",
   "metadata": {},
   "source": [
    "## Load the MNIST dataset"
   ]
  },
  {
   "cell_type": "code",
   "execution_count": 7,
   "metadata": {},
   "outputs": [
    {
     "name": "stdout",
     "output_type": "stream",
     "text": [
      "(60000, 28, 28, 1) (10000, 28, 28, 1)\n"
     ]
    }
   ],
   "source": [
    "from keras.datasets import mnist\n",
    "(x_train, y_train), (x_test, y_test) = mnist.load_data()\n",
    "\n",
    "x_train = x_train.astype('float32') / 255.\n",
    "x_test = x_test.astype('float32') / 255.\n",
    "x_train = np.reshape(x_train, (len(x_train), 28, 28, 1)) \n",
    "#channels last approach as grayscale (1) is last parameter\n",
    "x_test = np.reshape(x_test, (len(x_test), 28, 28, 1))\n",
    "\n",
    "print(x_train.shape, x_test.shape)"
   ]
  },
  {
   "cell_type": "markdown",
   "metadata": {},
   "source": [
    "## Call the encoder part of the custom network"
   ]
  },
  {
   "cell_type": "code",
   "execution_count": 11,
   "metadata": {},
   "outputs": [
    {
     "name": "stdout",
     "output_type": "stream",
     "text": [
      "(10, 28, 28, 1)\n",
      "<class 'numpy.ndarray'>\n",
      "(10, 28, 28, 16) <class 'tensorflow.python.framework.ops.Tensor'>\n",
      "(10, 14, 14, 16) <class 'tensorflow.python.framework.ops.Tensor'>\n",
      "(10, 14, 14, 8) <class 'tensorflow.python.framework.ops.Tensor'>\n",
      "(10, 7, 7, 8) <class 'tensorflow.python.framework.ops.Tensor'>\n",
      "(10, 7, 7, 8) <class 'tensorflow.python.framework.ops.Tensor'>\n",
      "(10, 4, 4, 8) <class 'tensorflow.python.framework.ops.Tensor'>\n"
     ]
    }
   ],
   "source": [
    "input_img = x_train[:10,:,:,:]\n",
    "print(input_img.shape)\n",
    "print(type(input_img))\n",
    "\n",
    "x = customConv2D(input_img, weights1, 16, (3,3), activation = 'relu', padding = 'same')\n",
    "print(x.shape, type(x))\n",
    "x = customMaxPooling2D(x, (2,2), padding = 'same')\n",
    "print(x.shape, type(x))\n",
    "x = customConv2D(x, weights2, 8, (3,3), activation = 'relu', padding = 'same')\n",
    "print(x.shape, type(x))\n",
    "x = customMaxPooling2D(x, (2,2), padding = 'same')\n",
    "print(x.shape, type(x))\n",
    "x = customConv2D(x, weights3, 8, (3,3), activation = 'relu', padding = 'same')\n",
    "print(x.shape, type(x))\n",
    "encoded = customMaxPooling2D(x, (2,2), padding = 'same')\n",
    "\n",
    "print(encoded.shape, type(x))"
   ]
  },
  {
   "cell_type": "markdown",
   "metadata": {},
   "source": [
    "## Call the decoder part of the custom network"
   ]
  },
  {
   "cell_type": "code",
   "execution_count": 15,
   "metadata": {},
   "outputs": [
    {
     "name": "stdout",
     "output_type": "stream",
     "text": [
      "(10, 4, 4, 8) <class 'tensorflow.python.framework.ops.Tensor'>\n",
      "(10, 8, 8, 8) <class 'tensorflow.python.framework.ops.Tensor'>\n",
      "(10, 8, 8, 8) <class 'tensorflow.python.framework.ops.Tensor'>\n",
      "(10, 16, 16, 8) <class 'tensorflow.python.framework.ops.Tensor'>\n",
      "(10, 14, 14, 16) <class 'tensorflow.python.framework.ops.Tensor'>\n",
      "(10, 28, 28, 16) <class 'tensorflow.python.framework.ops.Tensor'>\n",
      "(10, 28, 28, 1) <class 'tensorflow.python.framework.ops.Tensor'>\n"
     ]
    }
   ],
   "source": [
    "x = customConv2D(encoded, weights4, 8, (3,3), activation = 'relu', padding = 'same')\n",
    "print(x.shape, type(x))\n",
    "x = customUpSampling2D(x, (2,2))\n",
    "print(x.shape, type(x))\n",
    "x = customConv2D(x, weights5, 8, (3,3), activation = 'relu', padding = 'same')\n",
    "print(x.shape, type(x))\n",
    "x = customUpSampling2D(x, (2,2))\n",
    "print(x.shape, type(x))\n",
    "x = customConv2D(x, weights6, 16, (3,3), activation = 'relu', padding = 'valid')\n",
    "print(x.shape, type(x))\n",
    "x = customUpSampling2D(x, (2,2))\n",
    "print(x.shape, type(x))\n",
    "decoded = customConv2D(x, weights7, 1, (3,3), activation = 'sigmoid', padding = 'same')\n",
    "\n",
    "print(decoded.shape, type(x))"
   ]
  },
  {
   "cell_type": "markdown",
   "metadata": {},
   "source": [
    "## Plot the decoded images "
   ]
  },
  {
   "cell_type": "code",
   "execution_count": 16,
   "metadata": {},
   "outputs": [
    {
     "name": "stdout",
     "output_type": "stream",
     "text": [
      "Tensor(\"transpose_15:0\", shape=(10, 28, 28, 1), dtype=float32)\n"
     ]
    },
    {
     "ename": "InvalidArgumentError",
     "evalue": "Expected size[1] in [0, 1], but got 2\n\t [[node Slice_2269 (defined at <ipython-input-10-79811695a0dd>:25) ]]\n\nCaused by op 'Slice_2269', defined at:\n  File \"/usr/lib/python3.7/runpy.py\", line 193, in _run_module_as_main\n    \"__main__\", mod_spec)\n  File \"/usr/lib/python3.7/runpy.py\", line 85, in _run_code\n    exec(code, run_globals)\n  File \"/usr/lib/python3.7/site-packages/ipykernel_launcher.py\", line 16, in <module>\n    app.launch_new_instance()\n  File \"/usr/lib/python3.7/site-packages/traitlets/config/application.py\", line 658, in launch_instance\n    app.start()\n  File \"/usr/lib/python3.7/site-packages/ipykernel/kernelapp.py\", line 486, in start\n    self.io_loop.start()\n  File \"/usr/lib/python3.7/site-packages/tornado/platform/asyncio.py\", line 132, in start\n    self.asyncio_loop.run_forever()\n  File \"/usr/lib/python3.7/asyncio/base_events.py\", line 539, in run_forever\n    self._run_once()\n  File \"/usr/lib/python3.7/asyncio/base_events.py\", line 1775, in _run_once\n    handle._run()\n  File \"/usr/lib/python3.7/asyncio/events.py\", line 88, in _run\n    self._context.run(self._callback, *self._args)\n  File \"/usr/lib/python3.7/site-packages/tornado/platform/asyncio.py\", line 122, in _handle_events\n    handler_func(fileobj, events)\n  File \"/usr/lib/python3.7/site-packages/tornado/stack_context.py\", line 300, in null_wrapper\n    return fn(*args, **kwargs)\n  File \"/usr/lib/python3.7/site-packages/zmq/eventloop/zmqstream.py\", line 450, in _handle_events\n    self._handle_recv()\n  File \"/usr/lib/python3.7/site-packages/zmq/eventloop/zmqstream.py\", line 480, in _handle_recv\n    self._run_callback(callback, msg)\n  File \"/usr/lib/python3.7/site-packages/zmq/eventloop/zmqstream.py\", line 432, in _run_callback\n    callback(*args, **kwargs)\n  File \"/usr/lib/python3.7/site-packages/tornado/stack_context.py\", line 300, in null_wrapper\n    return fn(*args, **kwargs)\n  File \"/usr/lib/python3.7/site-packages/ipykernel/kernelbase.py\", line 283, in dispatcher\n    return self.dispatch_shell(stream, msg)\n  File \"/usr/lib/python3.7/site-packages/ipykernel/kernelbase.py\", line 233, in dispatch_shell\n    handler(stream, idents, msg)\n  File \"/usr/lib/python3.7/site-packages/ipykernel/kernelbase.py\", line 399, in execute_request\n    user_expressions, allow_stdin)\n  File \"/usr/lib/python3.7/site-packages/ipykernel/ipkernel.py\", line 208, in do_execute\n    res = shell.run_cell(code, store_history=store_history, silent=silent)\n  File \"/usr/lib/python3.7/site-packages/ipykernel/zmqshell.py\", line 537, in run_cell\n    return super(ZMQInteractiveShell, self).run_cell(*args, **kwargs)\n  File \"/usr/lib/python3.7/site-packages/IPython/core/interactiveshell.py\", line 2662, in run_cell\n    raw_cell, store_history, silent, shell_futures)\n  File \"/usr/lib/python3.7/site-packages/IPython/core/interactiveshell.py\", line 2785, in _run_cell\n    interactivity=interactivity, compiler=compiler, result=result)\n  File \"/usr/lib/python3.7/site-packages/IPython/core/interactiveshell.py\", line 2901, in run_ast_nodes\n    if self.run_code(code, result):\n  File \"/usr/lib/python3.7/site-packages/IPython/core/interactiveshell.py\", line 2961, in run_code\n    exec(code_obj, self.user_global_ns, self.user_ns)\n  File \"<ipython-input-11-bd4d3bb724e0>\", line 15, in <module>\n    encoded = customMaxPooling2D(x, (2,2), padding = 'same')\n  File \"<ipython-input-10-79811695a0dd>\", line 25, in customMaxPooling2D\n    p = tf.slice(inp_pad, [0, i*strides, j*strides, 0], [-1, ker_height, ker_weight, -1])\n  File \"/usr/lib/python3.7/site-packages/tensorflow/python/ops/array_ops.py\", line 707, in slice\n    return gen_array_ops._slice(input_, begin, size, name=name)\n  File \"/usr/lib/python3.7/site-packages/tensorflow/python/ops/gen_array_ops.py\", line 8236, in _slice\n    \"Slice\", input=input, begin=begin, size=size, name=name)\n  File \"/usr/lib/python3.7/site-packages/tensorflow/python/framework/op_def_library.py\", line 788, in _apply_op_helper\n    op_def=op_def)\n  File \"/usr/lib/python3.7/site-packages/tensorflow/python/util/deprecation.py\", line 507, in new_func\n    return func(*args, **kwargs)\n  File \"/usr/lib/python3.7/site-packages/tensorflow/python/framework/ops.py\", line 3300, in create_op\n    op_def=op_def)\n  File \"/usr/lib/python3.7/site-packages/tensorflow/python/framework/ops.py\", line 1801, in __init__\n    self._traceback = tf_stack.extract_stack()\n\nInvalidArgumentError (see above for traceback): Expected size[1] in [0, 1], but got 2\n\t [[node Slice_2269 (defined at <ipython-input-10-79811695a0dd>:25) ]]\n",
     "output_type": "error",
     "traceback": [
      "\u001b[0;31m---------------------------------------------------------------------------\u001b[0m",
      "\u001b[0;31mInvalidArgumentError\u001b[0m                      Traceback (most recent call last)",
      "\u001b[0;32m/usr/lib/python3.7/site-packages/tensorflow/python/client/session.py\u001b[0m in \u001b[0;36m_do_call\u001b[0;34m(self, fn, *args)\u001b[0m\n\u001b[1;32m   1333\u001b[0m     \u001b[0;32mtry\u001b[0m\u001b[0;34m:\u001b[0m\u001b[0;34m\u001b[0m\u001b[0;34m\u001b[0m\u001b[0m\n\u001b[0;32m-> 1334\u001b[0;31m       \u001b[0;32mreturn\u001b[0m \u001b[0mfn\u001b[0m\u001b[0;34m(\u001b[0m\u001b[0;34m*\u001b[0m\u001b[0margs\u001b[0m\u001b[0;34m)\u001b[0m\u001b[0;34m\u001b[0m\u001b[0;34m\u001b[0m\u001b[0m\n\u001b[0m\u001b[1;32m   1335\u001b[0m     \u001b[0;32mexcept\u001b[0m \u001b[0merrors\u001b[0m\u001b[0;34m.\u001b[0m\u001b[0mOpError\u001b[0m \u001b[0;32mas\u001b[0m \u001b[0me\u001b[0m\u001b[0;34m:\u001b[0m\u001b[0;34m\u001b[0m\u001b[0;34m\u001b[0m\u001b[0m\n",
      "\u001b[0;32m/usr/lib/python3.7/site-packages/tensorflow/python/client/session.py\u001b[0m in \u001b[0;36m_run_fn\u001b[0;34m(feed_dict, fetch_list, target_list, options, run_metadata)\u001b[0m\n\u001b[1;32m   1318\u001b[0m       return self._call_tf_sessionrun(\n\u001b[0;32m-> 1319\u001b[0;31m           options, feed_dict, fetch_list, target_list, run_metadata)\n\u001b[0m\u001b[1;32m   1320\u001b[0m \u001b[0;34m\u001b[0m\u001b[0m\n",
      "\u001b[0;32m/usr/lib/python3.7/site-packages/tensorflow/python/client/session.py\u001b[0m in \u001b[0;36m_call_tf_sessionrun\u001b[0;34m(self, options, feed_dict, fetch_list, target_list, run_metadata)\u001b[0m\n\u001b[1;32m   1406\u001b[0m         \u001b[0mself\u001b[0m\u001b[0;34m.\u001b[0m\u001b[0m_session\u001b[0m\u001b[0;34m,\u001b[0m \u001b[0moptions\u001b[0m\u001b[0;34m,\u001b[0m \u001b[0mfeed_dict\u001b[0m\u001b[0;34m,\u001b[0m \u001b[0mfetch_list\u001b[0m\u001b[0;34m,\u001b[0m \u001b[0mtarget_list\u001b[0m\u001b[0;34m,\u001b[0m\u001b[0;34m\u001b[0m\u001b[0;34m\u001b[0m\u001b[0m\n\u001b[0;32m-> 1407\u001b[0;31m         run_metadata)\n\u001b[0m\u001b[1;32m   1408\u001b[0m \u001b[0;34m\u001b[0m\u001b[0m\n",
      "\u001b[0;31mInvalidArgumentError\u001b[0m: Expected size[1] in [0, 1], but got 2\n\t [[{{node Slice_2269}}]]",
      "\nDuring handling of the above exception, another exception occurred:\n",
      "\u001b[0;31mInvalidArgumentError\u001b[0m                      Traceback (most recent call last)",
      "\u001b[0;32m<ipython-input-16-2f6948a43103>\u001b[0m in \u001b[0;36m<module>\u001b[0;34m()\u001b[0m\n\u001b[1;32m      7\u001b[0m \u001b[0;31m# t = tf.Session().run(x)\u001b[0m\u001b[0;34m\u001b[0m\u001b[0;34m\u001b[0m\u001b[0;34m\u001b[0m\u001b[0m\n\u001b[1;32m      8\u001b[0m \u001b[0msess\u001b[0m \u001b[0;34m=\u001b[0m \u001b[0mtf\u001b[0m\u001b[0;34m.\u001b[0m\u001b[0mInteractiveSession\u001b[0m\u001b[0;34m(\u001b[0m\u001b[0;34m)\u001b[0m\u001b[0;34m\u001b[0m\u001b[0;34m\u001b[0m\u001b[0m\n\u001b[0;32m----> 9\u001b[0;31m \u001b[0mdecoded\u001b[0m\u001b[0;34m.\u001b[0m\u001b[0meval\u001b[0m\u001b[0;34m(\u001b[0m\u001b[0;34m)\u001b[0m\u001b[0;34m\u001b[0m\u001b[0;34m\u001b[0m\u001b[0m\n\u001b[0m\u001b[1;32m     10\u001b[0m \u001b[0;34m\u001b[0m\u001b[0m\n\u001b[1;32m     11\u001b[0m \u001b[0;31m# type(t)\u001b[0m\u001b[0;34m\u001b[0m\u001b[0;34m\u001b[0m\u001b[0;34m\u001b[0m\u001b[0m\n",
      "\u001b[0;32m/usr/lib/python3.7/site-packages/tensorflow/python/framework/ops.py\u001b[0m in \u001b[0;36meval\u001b[0;34m(self, feed_dict, session)\u001b[0m\n\u001b[1;32m    693\u001b[0m \u001b[0;34m\u001b[0m\u001b[0m\n\u001b[1;32m    694\u001b[0m     \"\"\"\n\u001b[0;32m--> 695\u001b[0;31m     \u001b[0;32mreturn\u001b[0m \u001b[0m_eval_using_default_session\u001b[0m\u001b[0;34m(\u001b[0m\u001b[0mself\u001b[0m\u001b[0;34m,\u001b[0m \u001b[0mfeed_dict\u001b[0m\u001b[0;34m,\u001b[0m \u001b[0mself\u001b[0m\u001b[0;34m.\u001b[0m\u001b[0mgraph\u001b[0m\u001b[0;34m,\u001b[0m \u001b[0msession\u001b[0m\u001b[0;34m)\u001b[0m\u001b[0;34m\u001b[0m\u001b[0;34m\u001b[0m\u001b[0m\n\u001b[0m\u001b[1;32m    696\u001b[0m \u001b[0;34m\u001b[0m\u001b[0m\n\u001b[1;32m    697\u001b[0m \u001b[0;34m\u001b[0m\u001b[0m\n",
      "\u001b[0;32m/usr/lib/python3.7/site-packages/tensorflow/python/framework/ops.py\u001b[0m in \u001b[0;36m_eval_using_default_session\u001b[0;34m(tensors, feed_dict, graph, session)\u001b[0m\n\u001b[1;32m   5179\u001b[0m                        \u001b[0;34m\"the tensor's graph is different from the session's \"\u001b[0m\u001b[0;34m\u001b[0m\u001b[0;34m\u001b[0m\u001b[0m\n\u001b[1;32m   5180\u001b[0m                        \"graph.\")\n\u001b[0;32m-> 5181\u001b[0;31m   \u001b[0;32mreturn\u001b[0m \u001b[0msession\u001b[0m\u001b[0;34m.\u001b[0m\u001b[0mrun\u001b[0m\u001b[0;34m(\u001b[0m\u001b[0mtensors\u001b[0m\u001b[0;34m,\u001b[0m \u001b[0mfeed_dict\u001b[0m\u001b[0;34m)\u001b[0m\u001b[0;34m\u001b[0m\u001b[0;34m\u001b[0m\u001b[0m\n\u001b[0m\u001b[1;32m   5182\u001b[0m \u001b[0;34m\u001b[0m\u001b[0m\n\u001b[1;32m   5183\u001b[0m \u001b[0;34m\u001b[0m\u001b[0m\n",
      "\u001b[0;32m/usr/lib/python3.7/site-packages/tensorflow/python/client/session.py\u001b[0m in \u001b[0;36mrun\u001b[0;34m(self, fetches, feed_dict, options, run_metadata)\u001b[0m\n\u001b[1;32m    927\u001b[0m     \u001b[0;32mtry\u001b[0m\u001b[0;34m:\u001b[0m\u001b[0;34m\u001b[0m\u001b[0;34m\u001b[0m\u001b[0m\n\u001b[1;32m    928\u001b[0m       result = self._run(None, fetches, feed_dict, options_ptr,\n\u001b[0;32m--> 929\u001b[0;31m                          run_metadata_ptr)\n\u001b[0m\u001b[1;32m    930\u001b[0m       \u001b[0;32mif\u001b[0m \u001b[0mrun_metadata\u001b[0m\u001b[0;34m:\u001b[0m\u001b[0;34m\u001b[0m\u001b[0;34m\u001b[0m\u001b[0m\n\u001b[1;32m    931\u001b[0m         \u001b[0mproto_data\u001b[0m \u001b[0;34m=\u001b[0m \u001b[0mtf_session\u001b[0m\u001b[0;34m.\u001b[0m\u001b[0mTF_GetBuffer\u001b[0m\u001b[0;34m(\u001b[0m\u001b[0mrun_metadata_ptr\u001b[0m\u001b[0;34m)\u001b[0m\u001b[0;34m\u001b[0m\u001b[0;34m\u001b[0m\u001b[0m\n",
      "\u001b[0;32m/usr/lib/python3.7/site-packages/tensorflow/python/client/session.py\u001b[0m in \u001b[0;36m_run\u001b[0;34m(self, handle, fetches, feed_dict, options, run_metadata)\u001b[0m\n\u001b[1;32m   1150\u001b[0m     \u001b[0;32mif\u001b[0m \u001b[0mfinal_fetches\u001b[0m \u001b[0;32mor\u001b[0m \u001b[0mfinal_targets\u001b[0m \u001b[0;32mor\u001b[0m \u001b[0;34m(\u001b[0m\u001b[0mhandle\u001b[0m \u001b[0;32mand\u001b[0m \u001b[0mfeed_dict_tensor\u001b[0m\u001b[0;34m)\u001b[0m\u001b[0;34m:\u001b[0m\u001b[0;34m\u001b[0m\u001b[0;34m\u001b[0m\u001b[0m\n\u001b[1;32m   1151\u001b[0m       results = self._do_run(handle, final_targets, final_fetches,\n\u001b[0;32m-> 1152\u001b[0;31m                              feed_dict_tensor, options, run_metadata)\n\u001b[0m\u001b[1;32m   1153\u001b[0m     \u001b[0;32melse\u001b[0m\u001b[0;34m:\u001b[0m\u001b[0;34m\u001b[0m\u001b[0;34m\u001b[0m\u001b[0m\n\u001b[1;32m   1154\u001b[0m       \u001b[0mresults\u001b[0m \u001b[0;34m=\u001b[0m \u001b[0;34m[\u001b[0m\u001b[0;34m]\u001b[0m\u001b[0;34m\u001b[0m\u001b[0;34m\u001b[0m\u001b[0m\n",
      "\u001b[0;32m/usr/lib/python3.7/site-packages/tensorflow/python/client/session.py\u001b[0m in \u001b[0;36m_do_run\u001b[0;34m(self, handle, target_list, fetch_list, feed_dict, options, run_metadata)\u001b[0m\n\u001b[1;32m   1326\u001b[0m     \u001b[0;32mif\u001b[0m \u001b[0mhandle\u001b[0m \u001b[0;32mis\u001b[0m \u001b[0;32mNone\u001b[0m\u001b[0;34m:\u001b[0m\u001b[0;34m\u001b[0m\u001b[0;34m\u001b[0m\u001b[0m\n\u001b[1;32m   1327\u001b[0m       return self._do_call(_run_fn, feeds, fetches, targets, options,\n\u001b[0;32m-> 1328\u001b[0;31m                            run_metadata)\n\u001b[0m\u001b[1;32m   1329\u001b[0m     \u001b[0;32melse\u001b[0m\u001b[0;34m:\u001b[0m\u001b[0;34m\u001b[0m\u001b[0;34m\u001b[0m\u001b[0m\n\u001b[1;32m   1330\u001b[0m       \u001b[0;32mreturn\u001b[0m \u001b[0mself\u001b[0m\u001b[0;34m.\u001b[0m\u001b[0m_do_call\u001b[0m\u001b[0;34m(\u001b[0m\u001b[0m_prun_fn\u001b[0m\u001b[0;34m,\u001b[0m \u001b[0mhandle\u001b[0m\u001b[0;34m,\u001b[0m \u001b[0mfeeds\u001b[0m\u001b[0;34m,\u001b[0m \u001b[0mfetches\u001b[0m\u001b[0;34m)\u001b[0m\u001b[0;34m\u001b[0m\u001b[0;34m\u001b[0m\u001b[0m\n",
      "\u001b[0;32m/usr/lib/python3.7/site-packages/tensorflow/python/client/session.py\u001b[0m in \u001b[0;36m_do_call\u001b[0;34m(self, fn, *args)\u001b[0m\n\u001b[1;32m   1346\u001b[0m           \u001b[0;32mpass\u001b[0m\u001b[0;34m\u001b[0m\u001b[0;34m\u001b[0m\u001b[0m\n\u001b[1;32m   1347\u001b[0m       \u001b[0mmessage\u001b[0m \u001b[0;34m=\u001b[0m \u001b[0merror_interpolation\u001b[0m\u001b[0;34m.\u001b[0m\u001b[0minterpolate\u001b[0m\u001b[0;34m(\u001b[0m\u001b[0mmessage\u001b[0m\u001b[0;34m,\u001b[0m \u001b[0mself\u001b[0m\u001b[0;34m.\u001b[0m\u001b[0m_graph\u001b[0m\u001b[0;34m)\u001b[0m\u001b[0;34m\u001b[0m\u001b[0;34m\u001b[0m\u001b[0m\n\u001b[0;32m-> 1348\u001b[0;31m       \u001b[0;32mraise\u001b[0m \u001b[0mtype\u001b[0m\u001b[0;34m(\u001b[0m\u001b[0me\u001b[0m\u001b[0;34m)\u001b[0m\u001b[0;34m(\u001b[0m\u001b[0mnode_def\u001b[0m\u001b[0;34m,\u001b[0m \u001b[0mop\u001b[0m\u001b[0;34m,\u001b[0m \u001b[0mmessage\u001b[0m\u001b[0;34m)\u001b[0m\u001b[0;34m\u001b[0m\u001b[0;34m\u001b[0m\u001b[0m\n\u001b[0m\u001b[1;32m   1349\u001b[0m \u001b[0;34m\u001b[0m\u001b[0m\n\u001b[1;32m   1350\u001b[0m   \u001b[0;32mdef\u001b[0m \u001b[0m_extend_graph\u001b[0m\u001b[0;34m(\u001b[0m\u001b[0mself\u001b[0m\u001b[0;34m)\u001b[0m\u001b[0;34m:\u001b[0m\u001b[0;34m\u001b[0m\u001b[0;34m\u001b[0m\u001b[0m\n",
      "\u001b[0;31mInvalidArgumentError\u001b[0m: Expected size[1] in [0, 1], but got 2\n\t [[node Slice_2269 (defined at <ipython-input-10-79811695a0dd>:25) ]]\n\nCaused by op 'Slice_2269', defined at:\n  File \"/usr/lib/python3.7/runpy.py\", line 193, in _run_module_as_main\n    \"__main__\", mod_spec)\n  File \"/usr/lib/python3.7/runpy.py\", line 85, in _run_code\n    exec(code, run_globals)\n  File \"/usr/lib/python3.7/site-packages/ipykernel_launcher.py\", line 16, in <module>\n    app.launch_new_instance()\n  File \"/usr/lib/python3.7/site-packages/traitlets/config/application.py\", line 658, in launch_instance\n    app.start()\n  File \"/usr/lib/python3.7/site-packages/ipykernel/kernelapp.py\", line 486, in start\n    self.io_loop.start()\n  File \"/usr/lib/python3.7/site-packages/tornado/platform/asyncio.py\", line 132, in start\n    self.asyncio_loop.run_forever()\n  File \"/usr/lib/python3.7/asyncio/base_events.py\", line 539, in run_forever\n    self._run_once()\n  File \"/usr/lib/python3.7/asyncio/base_events.py\", line 1775, in _run_once\n    handle._run()\n  File \"/usr/lib/python3.7/asyncio/events.py\", line 88, in _run\n    self._context.run(self._callback, *self._args)\n  File \"/usr/lib/python3.7/site-packages/tornado/platform/asyncio.py\", line 122, in _handle_events\n    handler_func(fileobj, events)\n  File \"/usr/lib/python3.7/site-packages/tornado/stack_context.py\", line 300, in null_wrapper\n    return fn(*args, **kwargs)\n  File \"/usr/lib/python3.7/site-packages/zmq/eventloop/zmqstream.py\", line 450, in _handle_events\n    self._handle_recv()\n  File \"/usr/lib/python3.7/site-packages/zmq/eventloop/zmqstream.py\", line 480, in _handle_recv\n    self._run_callback(callback, msg)\n  File \"/usr/lib/python3.7/site-packages/zmq/eventloop/zmqstream.py\", line 432, in _run_callback\n    callback(*args, **kwargs)\n  File \"/usr/lib/python3.7/site-packages/tornado/stack_context.py\", line 300, in null_wrapper\n    return fn(*args, **kwargs)\n  File \"/usr/lib/python3.7/site-packages/ipykernel/kernelbase.py\", line 283, in dispatcher\n    return self.dispatch_shell(stream, msg)\n  File \"/usr/lib/python3.7/site-packages/ipykernel/kernelbase.py\", line 233, in dispatch_shell\n    handler(stream, idents, msg)\n  File \"/usr/lib/python3.7/site-packages/ipykernel/kernelbase.py\", line 399, in execute_request\n    user_expressions, allow_stdin)\n  File \"/usr/lib/python3.7/site-packages/ipykernel/ipkernel.py\", line 208, in do_execute\n    res = shell.run_cell(code, store_history=store_history, silent=silent)\n  File \"/usr/lib/python3.7/site-packages/ipykernel/zmqshell.py\", line 537, in run_cell\n    return super(ZMQInteractiveShell, self).run_cell(*args, **kwargs)\n  File \"/usr/lib/python3.7/site-packages/IPython/core/interactiveshell.py\", line 2662, in run_cell\n    raw_cell, store_history, silent, shell_futures)\n  File \"/usr/lib/python3.7/site-packages/IPython/core/interactiveshell.py\", line 2785, in _run_cell\n    interactivity=interactivity, compiler=compiler, result=result)\n  File \"/usr/lib/python3.7/site-packages/IPython/core/interactiveshell.py\", line 2901, in run_ast_nodes\n    if self.run_code(code, result):\n  File \"/usr/lib/python3.7/site-packages/IPython/core/interactiveshell.py\", line 2961, in run_code\n    exec(code_obj, self.user_global_ns, self.user_ns)\n  File \"<ipython-input-11-bd4d3bb724e0>\", line 15, in <module>\n    encoded = customMaxPooling2D(x, (2,2), padding = 'same')\n  File \"<ipython-input-10-79811695a0dd>\", line 25, in customMaxPooling2D\n    p = tf.slice(inp_pad, [0, i*strides, j*strides, 0], [-1, ker_height, ker_weight, -1])\n  File \"/usr/lib/python3.7/site-packages/tensorflow/python/ops/array_ops.py\", line 707, in slice\n    return gen_array_ops._slice(input_, begin, size, name=name)\n  File \"/usr/lib/python3.7/site-packages/tensorflow/python/ops/gen_array_ops.py\", line 8236, in _slice\n    \"Slice\", input=input, begin=begin, size=size, name=name)\n  File \"/usr/lib/python3.7/site-packages/tensorflow/python/framework/op_def_library.py\", line 788, in _apply_op_helper\n    op_def=op_def)\n  File \"/usr/lib/python3.7/site-packages/tensorflow/python/util/deprecation.py\", line 507, in new_func\n    return func(*args, **kwargs)\n  File \"/usr/lib/python3.7/site-packages/tensorflow/python/framework/ops.py\", line 3300, in create_op\n    op_def=op_def)\n  File \"/usr/lib/python3.7/site-packages/tensorflow/python/framework/ops.py\", line 1801, in __init__\n    self._traceback = tf_stack.extract_stack()\n\nInvalidArgumentError (see above for traceback): Expected size[1] in [0, 1], but got 2\n\t [[node Slice_2269 (defined at <ipython-input-10-79811695a0dd>:25) ]]\n"
     ]
    },
    {
     "data": {
      "text/plain": [
       "<Figure size 1000x400 with 0 Axes>"
      ]
     },
     "metadata": {},
     "output_type": "display_data"
    }
   ],
   "source": [
    "n = 10\n",
    "plt.figure(figsize=(10, 4), dpi=100)\n",
    "\n",
    "print(decoded)\n",
    "# x = tf.slice(decoded, [0,0,0,0], [1,-1,-1,-1])\n",
    "# print(x)\n",
    "# t = tf.Session().run(x)\n",
    "sess = tf.InteractiveSession()\n",
    "decoded.eval()\n",
    "\n",
    "# type(t)\n",
    "\n",
    "for i in range(n):\n",
    "    # display original\n",
    "    ax = plt.subplot(2, n, i + 1)\n",
    "    plt.imshow(x_test[i].reshape(28, 28))\n",
    "    plt.gray()\n",
    "    ax.set_axis_off()\n",
    "\n",
    "    # display reconstruction\n",
    "    ax = plt.subplot(2, n, i + n + 1)\n",
    "    plt.imshow(tf.reshape((decoded[i,:,:,:]), [28, 28]))\n",
    "    plt.gray()\n",
    "    ax.set_axis_off()\n",
    "\n",
    "plt.show()"
   ]
  },
  {
   "cell_type": "markdown",
   "metadata": {},
   "source": [
    "As the output is a tensor, we needed to convert it into a numpy array before passing it into a matplotlib function to show it as an image. \n",
    "The function to do this in tensorflow is \n",
    "> sess = tf.InteractiveSession() <br>\n",
    "> decoded.eval()\n",
    "\n",
    "But this gives an InvalidArgumentError and there is no source out here which helps with this certain error. Hence, this is where the whole thing is stuck right now."
   ]
  },
  {
   "cell_type": "code",
   "execution_count": null,
   "metadata": {},
   "outputs": [],
   "source": []
  }
 ],
 "metadata": {
  "kernelspec": {
   "display_name": "Python 3",
   "language": "python",
   "name": "python3"
  },
  "language_info": {
   "codemirror_mode": {
    "name": "ipython",
    "version": 3
   },
   "file_extension": ".py",
   "mimetype": "text/x-python",
   "name": "python",
   "nbconvert_exporter": "python",
   "pygments_lexer": "ipython3",
   "version": "3.7.3"
  }
 },
 "nbformat": 4,
 "nbformat_minor": 2
}
