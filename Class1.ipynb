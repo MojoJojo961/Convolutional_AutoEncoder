{
 "cells": [
  {
   "cell_type": "code",
   "execution_count": 1,
   "metadata": {},
   "outputs": [
    {
     "name": "stderr",
     "output_type": "stream",
     "text": [
      "Using TensorFlow backend.\n"
     ]
    }
   ],
   "source": [
    "import tensorflow\n",
    "import keras\n",
    "import numpy as np\n",
    "import pickle\n",
    "import cv2\n",
    "import matplotlib.pyplot as plt\n",
    "import math"
   ]
  },
  {
   "cell_type": "code",
   "execution_count": 2,
   "metadata": {},
   "outputs": [],
   "source": [
    "from keras.layers import Conv2D, MaxPooling2D, Activation, UpSampling2D\n",
    "from keras.datasets import mnist\n",
    "from keras.models import Sequential, Model\n",
    "from keras import optimizers\n",
    "from keras.callbacks import TensorBoard\n",
    "from keras import backend as K\n",
    "from keras import Input"
   ]
  },
  {
   "cell_type": "code",
   "execution_count": 3,
   "metadata": {},
   "outputs": [],
   "source": [
    "(x_train, y_train), (x_test, y_test) = mnist.load_data()"
   ]
  },
  {
   "cell_type": "code",
   "execution_count": 4,
   "metadata": {},
   "outputs": [],
   "source": [
    "class Parameters():\n",
    "    def __init__(self, img_shape, optimiser, batch_size=128, number_classes=10, epochs=50, data_augmentation=False):\n",
    "        self.batch_size = batch_size\n",
    "        self.number_classes = number_classes\n",
    "        self.epochs = epochs\n",
    "        self.data_augmentation = data_augmentation\n",
    "        self.img_shape = img_shape\n",
    "        self.optimiser = optimiser"
   ]
  },
  {
   "cell_type": "code",
   "execution_count": 5,
   "metadata": {},
   "outputs": [],
   "source": [
    "class Model():\n",
    "    def __init__(self, params):\n",
    "        self.params = params\n",
    "        self.model = Sequential()\n",
    "        \n",
    "        self.encoder = Sequential()\n",
    "        self.encoder.add(Conv2D(16, (3, 3), activation='relu', padding='same', input_shape=self.params.img_shape))\n",
    "        self.encoder.add(MaxPooling2D(pool_size=(2,2), padding='same'))\n",
    "        self.encoder.add(Conv2D(8, (3, 3), activation='relu', padding='same'))\n",
    "        self.encoder.add(MaxPooling2D(pool_size=(2,2), padding='same'))\n",
    "        self.encoder.add(Conv2D(8, (3, 3), activation='relu', padding='same'))\n",
    "        self.encoder.add(MaxPooling2D(pool_size=(2,2), padding='same'))\n",
    "        \n",
    "        self.decoder = Sequential()\n",
    "        self.decoder.add(Conv2D(8, (3, 3), activation='relu', padding='same', input_shape=self.encoder.layers[-1].output_shape[1:]))\n",
    "        self.decoder.add(UpSampling2D((2,2)))\n",
    "        self.decoder.add(Conv2D(8, (3, 3), activation='relu', padding='same'))\n",
    "        self.decoder.add(UpSampling2D((2,2)))\n",
    "        self.decoder.add(Conv2D(16, (3, 3), activation='relu'))\n",
    "        self.decoder.add(UpSampling2D((2,2)))\n",
    "        self.decoder.add(Conv2D(1, (3, 3), activation='sigmoid', padding='same')) # activation can be added as parameter as well\n",
    "        self.model.add(self.encoder)\n",
    "        self.model.add(self.decoder)\n",
    "        \n",
    "    def compile(self, loss=\"binary_crossentropy\", metrics=['accuracy']):\n",
    "        self.model.compile(loss=loss, optimizer=self.params.optimiser)\n",
    "        \n",
    "    def fit(self, x_train, y_train, validation_data, shuffle=True, callbacks=[TensorBoard(log_dir='conv_autoencoder')], verbose=2):\n",
    "        self.model.fit(x_train, y_train, epochs=self.params.epochs, batch_size=self.params.batch_size, \n",
    "                       shuffle=shuffle, validation_data=validation_data, callbacks=callbacks, verbose=verbose)\n",
    "    "
   ]
  },
  {
   "cell_type": "code",
   "execution_count": 6,
   "metadata": {},
   "outputs": [],
   "source": [
    "x_train = x_train.astype('float32') / 255.\n",
    "x_test = x_test.astype('float32') / 255.\n",
    "x_train = np.reshape(x_train, (len(x_train), 28, 28, 1))    \n",
    "x_test = np.reshape(x_test, (len(x_test), 28, 28, 1))"
   ]
  },
  {
   "cell_type": "code",
   "execution_count": 7,
   "metadata": {},
   "outputs": [
    {
     "name": "stdout",
     "output_type": "stream",
     "text": [
      "WARNING:tensorflow:From /usr/lib/python3.7/site-packages/tensorflow/python/framework/op_def_library.py:263: colocate_with (from tensorflow.python.framework.ops) is deprecated and will be removed in a future version.\n",
      "Instructions for updating:\n",
      "Colocations handled automatically by placer.\n",
      "WARNING:tensorflow:From /usr/lib/python3.7/site-packages/tensorflow/python/ops/math_ops.py:3066: to_int32 (from tensorflow.python.ops.math_ops) is deprecated and will be removed in a future version.\n",
      "Instructions for updating:\n",
      "Use tf.cast instead.\n",
      "Train on 60000 samples, validate on 10000 samples\n",
      "Epoch 1/30\n",
      "60000/60000 [==============================] - 79s 1ms/step - loss: 0.2414 - val_loss: 0.1834\n",
      "Epoch 2/30\n",
      "60000/60000 [==============================] - 73s 1ms/step - loss: 0.1685 - val_loss: 0.1539\n",
      "Epoch 3/30\n",
      "60000/60000 [==============================] - 73s 1ms/step - loss: 0.1522 - val_loss: 0.1434\n",
      "Epoch 4/30\n",
      "60000/60000 [==============================] - 73s 1ms/step - loss: 0.1430 - val_loss: 0.1380\n",
      "Epoch 5/30\n",
      "60000/60000 [==============================] - 73s 1ms/step - loss: 0.1370 - val_loss: 0.1343\n",
      "Epoch 6/30\n",
      "60000/60000 [==============================] - 73s 1ms/step - loss: 0.1317 - val_loss: 0.1272\n",
      "Epoch 7/30\n",
      "60000/60000 [==============================] - 73s 1ms/step - loss: 0.1273 - val_loss: 0.1262\n",
      "Epoch 8/30\n",
      "60000/60000 [==============================] - 73s 1ms/step - loss: 0.1241 - val_loss: 0.1212\n",
      "Epoch 9/30\n",
      "60000/60000 [==============================] - 73s 1ms/step - loss: 0.1220 - val_loss: 0.1192\n",
      "Epoch 10/30\n",
      "60000/60000 [==============================] - 73s 1ms/step - loss: 0.1202 - val_loss: 0.1163\n",
      "Epoch 11/30\n",
      "60000/60000 [==============================] - 73s 1ms/step - loss: 0.1185 - val_loss: 0.1189\n",
      "Epoch 12/30\n",
      "60000/60000 [==============================] - 75s 1ms/step - loss: 0.1172 - val_loss: 0.1150\n",
      "Epoch 13/30\n",
      "60000/60000 [==============================] - 73s 1ms/step - loss: 0.1159 - val_loss: 0.1136\n",
      "Epoch 14/30\n",
      "60000/60000 [==============================] - 73s 1ms/step - loss: 0.1148 - val_loss: 0.1144\n",
      "Epoch 15/30\n",
      "60000/60000 [==============================] - 73s 1ms/step - loss: 0.1144 - val_loss: 0.1126\n",
      "Epoch 16/30\n",
      "60000/60000 [==============================] - 73s 1ms/step - loss: 0.1137 - val_loss: 0.1126\n",
      "Epoch 17/30\n",
      "60000/60000 [==============================] - 73s 1ms/step - loss: 0.1129 - val_loss: 0.1112\n",
      "Epoch 18/30\n",
      "60000/60000 [==============================] - 73s 1ms/step - loss: 0.1121 - val_loss: 0.1113\n",
      "Epoch 19/30\n",
      "60000/60000 [==============================] - 73s 1ms/step - loss: 0.1113 - val_loss: 0.1090\n",
      "Epoch 20/30\n",
      "60000/60000 [==============================] - 267s 4ms/step - loss: 0.1104 - val_loss: 0.1109\n",
      "Epoch 21/30\n",
      "60000/60000 [==============================] - 85s 1ms/step - loss: 0.1101 - val_loss: 0.1082\n",
      "Epoch 22/30\n",
      "60000/60000 [==============================] - 73s 1ms/step - loss: 0.1095 - val_loss: 0.1096\n",
      "Epoch 23/30\n",
      "60000/60000 [==============================] - 73s 1ms/step - loss: 0.1090 - val_loss: 0.1078\n",
      "Epoch 24/30\n",
      "60000/60000 [==============================] - 73s 1ms/step - loss: 0.1088 - val_loss: 0.1084\n",
      "Epoch 25/30\n",
      "60000/60000 [==============================] - 73s 1ms/step - loss: 0.1082 - val_loss: 0.1065\n",
      "Epoch 26/30\n",
      "60000/60000 [==============================] - 73s 1ms/step - loss: 0.1078 - val_loss: 0.1060\n",
      "Epoch 27/30\n",
      "60000/60000 [==============================] - 73s 1ms/step - loss: 0.1075 - val_loss: 0.1096\n",
      "Epoch 28/30\n",
      "60000/60000 [==============================] - 73s 1ms/step - loss: 0.1070 - val_loss: 0.1055\n",
      "Epoch 29/30\n",
      "60000/60000 [==============================] - 75s 1ms/step - loss: 0.1065 - val_loss: 0.1062\n",
      "Epoch 30/30\n",
      "60000/60000 [==============================] - 76s 1ms/step - loss: 0.1063 - val_loss: 0.1027\n"
     ]
    }
   ],
   "source": [
    "params = Parameters(img_shape=x_train.shape[1:], epochs=30, \n",
    "                    optimiser=keras.optimizers.Adadelta(lr=0.5, rho=0.95, epsilon=None, decay=0.0))\n",
    "m = Model(params)\n",
    "m.compile()\n",
    "m.fit(x_train, x_train, (x_test, x_test), verbose=1) # as test is the same image\n",
    "# m.model.summary()"
   ]
  },
  {
   "cell_type": "code",
   "execution_count": 8,
   "metadata": {},
   "outputs": [],
   "source": [
    "pickle_write = open(\"conv_autoenc_model.pickle\",\"wb\")\n",
    "pickle.dump([m.encoder.get_weights(), m.decoder.get_weights()], pickle_write)\n",
    "pickle_write.close()"
   ]
  },
  {
   "cell_type": "code",
   "execution_count": 9,
   "metadata": {},
   "outputs": [
    {
     "data": {
      "image/png": "[encoded data removed]",
      "text/plain": [
       "<Figure size 1000x400 with 20 Axes>"
      ]
     },
     "metadata": {},
     "output_type": "display_data"
    }
   ],
   "source": [
    "n = 10\n",
    "decoded_imgs = m.model.predict(x_test)\n",
    "plt.figure(figsize=(10, 4), dpi=100)\n",
    "for i in range(n):\n",
    "    # display original\n",
    "    ax = plt.subplot(2, n, i + 1)\n",
    "    plt.imshow(x_test[i].reshape(28, 28))\n",
    "    plt.gray()\n",
    "    ax.set_axis_off()\n",
    "\n",
    "    # display reconstruction\n",
    "    ax = plt.subplot(2, n, i + n + 1)\n",
    "    plt.imshow(decoded_imgs[i].reshape(28, 28))\n",
    "    plt.gray()\n",
    "    ax.set_axis_off()\n",
    "\n",
    "plt.show()"
   ]
  },
  {
   "cell_type": "code",
   "execution_count": 10,
   "metadata": {},
   "outputs": [],
   "source": [
    "def convolve(x, y, mat, k):\n",
    "    val = 0\n",
    "    center_x = int((k.shape[0]-1)/2); center_y = int((k.shape[1]-1)/2)\n",
    "    for i in range(-1*center_x, center_x+1):\n",
    "        for j in range(-1*center_y, center_y+1):\n",
    "            idx_x = x+i\n",
    "            idx_y = y+j\n",
    "            if idx_x>=0 and idx_y>=0 and idx_x<mat.shape[0] and idx_y<mat.shape[1]:\n",
    "                val+=mat[idx_x][idx_y]*k[i+center_x][j+center_y]\n",
    "    return val"
   ]
  },
  {
   "cell_type": "code",
   "execution_count": 11,
   "metadata": {},
   "outputs": [],
   "source": [
    "def my_conv2d(input_matrix, kernel_weights, padding=\"not same\"):\n",
    "    s = kernel_weights[0].shape\n",
    "    output_channels = s[3]\n",
    "    input_channels = s[2]\n",
    "    output=[]\n",
    "    img_rows = input_matrix.shape[0]\n",
    "    img_cols = input_matrix.shape[1]\n",
    "    row_pad_cut = int((s[0]-1)/2)  #number of rows to be cut if padding is not same\n",
    "    col_pad_cut = int((s[1]-1)/2)\n",
    "    \n",
    "    if padding == \"same\":\n",
    "        output=np.zeros((img_rows, img_cols, output_channels))\n",
    "    else:\n",
    "        output=np.zeros((img_rows-2*row_pad_cut, img_cols-2*col_pad_cut, output_channels))\n",
    "    \n",
    "    for out_chan in range(output_channels):\n",
    "        for in_chan in range(input_channels):\n",
    "            mat = input_matrix[:,:,in_chan] \n",
    "            k = kernel_weights[0][:,:,in_chan, out_chan]\n",
    "            for x in range(img_rows):\n",
    "                for y in range(img_cols):\n",
    "                    if padding == \"same\":\n",
    "                        output[x,y,out_chan] += convolve(x, y, mat, k)\n",
    "                    elif (x>=row_pad_cut and y>=col_pad_cut \n",
    "                             and x<(img_rows-row_pad_cut) and y<(img_cols-col_pad_cut)):\n",
    "                        output[x-row_pad_cut, y-row_pad_cut,out_chan] += convolve(x, y, mat, k)\n",
    "    \n",
    "    return output\n",
    "    "
   ]
  },
  {
   "cell_type": "code",
   "execution_count": 12,
   "metadata": {},
   "outputs": [
    {
     "data": {
      "text/plain": [
       "(28, 28, 16)"
      ]
     },
     "execution_count": 12,
     "metadata": {},
     "output_type": "execute_result"
    }
   ],
   "source": [
    "input_matrix = x_test[0]\n",
    "z = my_conv2d(input_matrix, m.encoder.layers[0].get_weights(), \"same\")\n",
    "z.shape"
   ]
  },
  {
   "cell_type": "code",
   "execution_count": 13,
   "metadata": {},
   "outputs": [
    {
     "name": "stdout",
     "output_type": "stream",
     "text": [
      "_________________________________________________________________\n",
      "Layer (type)                 Output Shape              Param #   \n",
      "=================================================================\n",
      "conv2d_4 (Conv2D)            (None, 4, 4, 8)           584       \n",
      "_________________________________________________________________\n",
      "up_sampling2d_1 (UpSampling2 (None, 8, 8, 8)           0         \n",
      "_________________________________________________________________\n",
      "conv2d_5 (Conv2D)            (None, 8, 8, 8)           584       \n",
      "_________________________________________________________________\n",
      "up_sampling2d_2 (UpSampling2 (None, 16, 16, 8)         0         \n",
      "_________________________________________________________________\n",
      "conv2d_6 (Conv2D)            (None, 14, 14, 16)        1168      \n",
      "_________________________________________________________________\n",
      "up_sampling2d_3 (UpSampling2 (None, 28, 28, 16)        0         \n",
      "_________________________________________________________________\n",
      "conv2d_7 (Conv2D)            (None, 28, 28, 1)         145       \n",
      "=================================================================\n",
      "Total params: 2,481\n",
      "Trainable params: 2,481\n",
      "Non-trainable params: 0\n",
      "_________________________________________________________________\n"
     ]
    }
   ],
   "source": [
    "m.decoder.summary()"
   ]
  },
  {
   "cell_type": "code",
   "execution_count": 14,
   "metadata": {},
   "outputs": [],
   "source": [
    "def my_maxpool(shape, matrix):\n",
    "    rows=int(math.ceil(matrix.shape[0]/shape[0]))\n",
    "    cols=int(math.ceil(matrix.shape[1]/shape[1]))\n",
    "    output=np.zeros((rows, cols, matrix.shape[2]))\n",
    "    \n",
    "    for out_chan in range(matrix.shape[2]):\n",
    "        for x in range(0, matrix.shape[0], shape[0]):\n",
    "            for y in range(0, matrix.shape[1], shape[1]):\n",
    "                mx = -1\n",
    "                for i in range(0,shape[0]):\n",
    "                    for j in range(0, shape[1]):\n",
    "                        if (x+i)<matrix.shape[0] and (y+j)<matrix.shape[1]:\n",
    "                            if matrix[x+i][y+j][out_chan]>mx:\n",
    "                                mx=matrix[x+i][y+j][out_chan]\n",
    "                output[int(x/shape[0])][int(y/shape[1])][out_chan]=mx\n",
    "    \n",
    "    return output"
   ]
  },
  {
   "cell_type": "code",
   "execution_count": 15,
   "metadata": {},
   "outputs": [
    {
     "data": {
      "text/plain": [
       "array([[[2.],\n",
       "        [4.],\n",
       "        [6.],\n",
       "        [7.]],\n",
       "\n",
       "       [[2.],\n",
       "        [4.],\n",
       "        [6.],\n",
       "        [7.]],\n",
       "\n",
       "       [[2.],\n",
       "        [4.],\n",
       "        [6.],\n",
       "        [7.]],\n",
       "\n",
       "       [[2.],\n",
       "        [4.],\n",
       "        [6.],\n",
       "        [7.]]])"
      ]
     },
     "execution_count": 15,
     "metadata": {},
     "output_type": "execute_result"
    }
   ],
   "source": [
    "x = [[1,2,3,4,5,6,7],[1,2,3,4,5,6,7],[1,2,3,4,5,6,7],[1,2,3,4,5,6,7],[1,2,3,4,5,6,7],[1,2,3,4,5,6,7],[1,2,3,4,5,6,7]]\n",
    "x=np.array(x)\n",
    "x=x.reshape(7,7,1)\n",
    "y=my_maxpool((2,2), x)\n",
    "y"
   ]
  },
  {
   "cell_type": "code",
   "execution_count": 16,
   "metadata": {},
   "outputs": [],
   "source": [
    "def my_upsample(shape, matrix):\n",
    "    rows=matrix.shape[0]*shape[0]\n",
    "    cols=matrix.shape[1]*shape[1]\n",
    "    output=np.zeros((rows, cols, matrix.shape[2]))\n",
    "    \n",
    "    for out_chan in range(matrix.shape[2]):\n",
    "        for x in range(matrix.shape[0]):\n",
    "            for y in range(matrix.shape[1]):\n",
    "                for i in range(shape[0]):\n",
    "                    for j in range(shape[1]):\n",
    "                        output[x*shape[0]+i][y*shape[0]+j][out_chan]=matrix[x][y][out_chan]\n",
    "    \n",
    "    return output"
   ]
  },
  {
   "cell_type": "code",
   "execution_count": 17,
   "metadata": {},
   "outputs": [
    {
     "data": {
      "text/plain": [
       "array([[[1., 2., 5., 6.],\n",
       "        [1., 2., 5., 6.]],\n",
       "\n",
       "       [[1., 2., 5., 6.],\n",
       "        [1., 2., 5., 6.]]])"
      ]
     },
     "execution_count": 17,
     "metadata": {},
     "output_type": "execute_result"
    }
   ],
   "source": [
    "x = [[1,2],[5,6]]\n",
    "x=np.array(x)\n",
    "x=x.reshape(1,1,4)\n",
    "y=my_upsample((2,2), x)\n",
    "y"
   ]
  },
  {
   "cell_type": "code",
   "execution_count": 18,
   "metadata": {},
   "outputs": [
    {
     "data": {
      "text/plain": [
       "(4, 4, 8)"
      ]
     },
     "execution_count": 18,
     "metadata": {},
     "output_type": "execute_result"
    }
   ],
   "source": [
    "input_matrix = x_test[4]\n",
    "z = my_conv2d(input_matrix, m.encoder.layers[0].get_weights(), \"same\")\n",
    "z = np.maximum(0,z)\n",
    "z = my_maxpool((2,2),z)\n",
    "z = my_conv2d(z, m.encoder.layers[2].get_weights(), \"same\")\n",
    "z = np.maximum(0,z)\n",
    "z = my_maxpool((2,2),z)\n",
    "z = my_conv2d(z, m.encoder.layers[4].get_weights(), \"same\")\n",
    "z = np.maximum(0,z)\n",
    "z = my_maxpool((2,2),z)\n",
    "z.shape"
   ]
  },
  {
   "cell_type": "code",
   "execution_count": 19,
   "metadata": {},
   "outputs": [
    {
     "data": {
      "text/plain": [
       "(28, 28, 1)"
      ]
     },
     "execution_count": 19,
     "metadata": {},
     "output_type": "execute_result"
    }
   ],
   "source": [
    "z = my_conv2d(z, m.decoder.layers[0].get_weights(), \"same\")\n",
    "z = np.maximum(0,z)\n",
    "z = my_upsample((2,2), z)\n",
    "z = my_conv2d(z, m.decoder.layers[2].get_weights(), \"same\")\n",
    "z = np.maximum(0,z)\n",
    "z = my_upsample((2,2), z)\n",
    "z = my_conv2d(z, m.decoder.layers[4].get_weights())\n",
    "z = np.maximum(0,z)\n",
    "z = my_upsample((2,2), z)\n",
    "z = my_conv2d(z, m.decoder.layers[6].get_weights(), \"same\")\n",
    "z.shape"
   ]
  },
  {
   "cell_type": "code",
   "execution_count": 20,
   "metadata": {},
   "outputs": [],
   "source": [
    "def softmax(x):\n",
    "    e_x = np.exp(x - np.max(x))\n",
    "    return e_x / e_x.sum() "
   ]
  },
  {
   "cell_type": "code",
   "execution_count": 21,
   "metadata": {},
   "outputs": [
    {
     "data": {
      "text/plain": [
       "(28, 28, 1)"
      ]
     },
     "execution_count": 21,
     "metadata": {},
     "output_type": "execute_result"
    }
   ],
   "source": [
    "z = softmax(z)\n",
    "z.shape"
   ]
  },
  {
   "cell_type": "code",
   "execution_count": 22,
   "metadata": {},
   "outputs": [
    {
     "data": {
      "image/png": "[encoded data removed]",
      "text/plain": [
       "<Figure size 100x400 with 2 Axes>"
      ]
     },
     "metadata": {},
     "output_type": "display_data"
    }
   ],
   "source": [
    "n = 1\n",
    "decoded_imgs = m.model.predict(x_test)\n",
    "plt.figure(figsize=(1, 4), dpi=100)\n",
    "for i in range(n):\n",
    "    # display original\n",
    "    ax = plt.subplot(2, n, i + 1)\n",
    "    plt.imshow(input_matrix.reshape(28, 28))\n",
    "    plt.gray()\n",
    "    ax.set_axis_off()\n",
    "\n",
    "    # display reconstruction\n",
    "    ax = plt.subplot(2, n, i + n + 1)\n",
    "    plt.imshow(z.reshape(28, 28))\n",
    "    plt.gray()\n",
    "    ax.set_axis_off()\n",
    "\n",
    "plt.show()"
   ]
  },
  {
   "cell_type": "code",
   "execution_count": 68,
   "metadata": {},
   "outputs": [
    {
     "name": "stdout",
     "output_type": "stream",
     "text": [
      "(28, 28, 1)\n",
      "Tensor(\"strided_slice_53:0\", shape=(28, 28, 1), dtype=float32)\n",
      "(28, 28, 1)\n"
     ]
    },
    {
     "data": {
      "text/plain": [
       "<matplotlib.image.AxesImage at 0x7f11e0704390>"
      ]
     },
     "execution_count": 68,
     "metadata": {},
     "output_type": "execute_result"
    },
    {
     "data": {
      "image/png": "[encoded data removed]",
      "text/plain": [
       "<Figure size 432x288 with 1 Axes>"
      ]
     },
     "metadata": {},
     "output_type": "display_data"
    }
   ],
   "source": [
    "import tensorflow as tf\n",
    "x = tf.random.normal(shape=[10,28,28,1], dtype=tf.float32)\n",
    "x_ = x[0,:,:,:]\n",
    "print(x_.shape)\n",
    "# X = tf.reshape(x_, [28,28])\n",
    "print(x_)\n",
    "t = tf.Session().run(x_)\n",
    "print(t.shape)\n",
    "t_ = t.reshape(28,28)\n",
    "plt.imshow(t_)"
   ]
  },
  {
   "cell_type": "code",
   "execution_count": 69,
   "metadata": {},
   "outputs": [
    {
     "data": {
      "text/plain": [
       "'1.13.1'"
      ]
     },
     "execution_count": 69,
     "metadata": {},
     "output_type": "execute_result"
    }
   ],
   "source": [
    "tf.__version__"
   ]
  },
  {
   "cell_type": "code",
   "execution_count": null,
   "metadata": {},
   "outputs": [],
   "source": []
  }
 ],
 "metadata": {
  "kernelspec": {
   "display_name": "Python 3",
   "language": "python",
   "name": "python3"
  },
  "language_info": {
   "codemirror_mode": {
    "name": "ipython",
    "version": 3
   },
   "file_extension": ".py",
   "mimetype": "text/x-python",
   "name": "python",
   "nbconvert_exporter": "python",
   "pygments_lexer": "ipython3",
   "version": "3.7.3"
  }
 },
 "nbformat": 4,
 "nbformat_minor": 2
}
