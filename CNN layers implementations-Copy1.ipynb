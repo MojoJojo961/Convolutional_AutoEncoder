{
 "cells": [
  {
   "cell_type": "markdown",
   "metadata": {},
   "source": [
    "# Convolution layer"
   ]
  },
  {
   "cell_type": "code",
   "execution_count": 1,
   "metadata": {},
   "outputs": [
    {
     "name": "stderr",
     "output_type": "stream",
     "text": [
      "Using TensorFlow backend.\n"
     ]
    }
   ],
   "source": [
    "import math\n",
    "import numpy as np\n",
    "import keras.activations as activation"
   ]
  },
  {
   "cell_type": "code",
   "execution_count": 4,
   "metadata": {},
   "outputs": [],
   "source": [
    "input=np.random.rand(28,28,1)\n",
    "kernal_shape=(3,3)\n",
    "stride=1\n",
    "x=zero_pad(input,kernal_shape,stride)"
   ]
  },
  {
   "cell_type": "code",
   "execution_count": null,
   "metadata": {},
   "outputs": [],
   "source": [
    "# x[:,:,0]"
   ]
  },
  {
   "cell_type": "code",
   "execution_count": 3,
   "metadata": {},
   "outputs": [],
   "source": [
    "def zero_pad(input,kernel_shape,stride):\n",
    "    pad = math.floor(kernel_shape[0]/2)\n",
    "    img_pad=np.zeros((input.shape[0]+2*pad,input.shape[1]+2*pad,input.shape[2]))#channel first\n",
    "    W = input.shape[0]\n",
    "    H = input.shape[1]\n",
    "    for i in range(input.shape[2]):\n",
    "        img_pad[pad:H+pad,pad:W+pad,i]=input[:,:,i]\n",
    "    return img_pad"
   ]
  },
  {
   "cell_type": "code",
   "execution_count": 5,
   "metadata": {},
   "outputs": [],
   "source": [
    "def convolution(number_kernals,kernal,input,bias,pad):\n",
    "    output=np.zeros((input.shape[0],input.shape[1],number_kernals))\n",
    "    stride=1\n",
    "    if(pad==1):\n",
    "        padded_input=zero_pad(input,kernal.shape,stride)\n",
    "    else:\n",
    "        padded_input=input\n",
    "        output=np.zeros((input.shape[0]-2,input.shape[1]-2,number_kernals))\n",
    "    kernal_number=0\n",
    "\n",
    "    for k in range(number_kernals):\n",
    "        ker=kernal[:,:,:,k].reshape(kernal.shape[0],kernal.shape[1],kernal.shape[2])\n",
    "        i=0\n",
    "        #print(\"ker:\",ker)\n",
    "        while(i<padded_input.shape[0]):\n",
    "            j=0\n",
    "            while(j<padded_input.shape[1]):\n",
    "                if(i+ker.shape[0]<=padded_input.shape[0] and j+ker.shape[1]<=padded_input.shape[1]):\n",
    "                    weighted_sum=np.sum(padded_input[i:i+ker.shape[0],j:j+ker.shape[1],:]*ker)+bias[k]\n",
    "                    output[i][j][kernal_number]=max(0,weighted_sum)\n",
    "                else:\n",
    "                    break\n",
    "                j=j+1\n",
    "            i=i+1\n",
    "            #print(\"out\",i)\n",
    "        kernal_number=kernal_number+1\n",
    "\n",
    "    return output\n"
   ]
  },
  {
   "cell_type": "code",
   "execution_count": 6,
   "metadata": {},
   "outputs": [],
   "source": [
    "# Assumming image is square shaped\n",
    "def max_pooling2d(input,pool_shape,pad):\n",
    "    stride=pool_shape[0]\n",
    "    rem=0\n",
    "    img_pad=input.copy()\n",
    "    pad_input=input\n",
    "    if((img_pad.shape[0]%pool_shape[0])!=0):\n",
    "        rem = (pool_shape[0]-(img_pad.shape[0]%pool_shape[0]))\n",
    "        pad_input = np.zeros((img_pad.shape[0]+rem,img_pad.shape[1]+rem,input.shape[2]))\n",
    "    for i in range(img_pad.shape[2]):\n",
    "        pad_input[0:img_pad.shape[0],0:img_pad.shape[1],i]= img_pad[:,:,i]\n",
    "    print(pad_input.shape)\n",
    "        \n",
    "    img_out=np.zeros((int(pad_input.shape[0]/2),int(pad_input.shape[1]/2),input.shape[2]))\n",
    "    width=0\n",
    "    height=0\n",
    "    for depth in range(pad_input.shape[2]):\n",
    "        i=0\n",
    "        height=0\n",
    "        while(i<=pad_input.shape[0]-pool_shape[0]):\n",
    "            j=0\n",
    "            width=0\n",
    "            while(j<=pad_input.shape[1]-pool_shape[1]):\n",
    "                img_out[height][width][depth]=np.amax(pad_input[i:i+pool_shape[0],j:j+pool_shape[1],depth])\n",
    "                width=width+1\n",
    "                j=j+stride\n",
    "            i=i+stride\n",
    "            height=height+1\n",
    "#     print(output.shape)\n",
    "    return img_out        "
   ]
  },
  {
   "cell_type": "code",
   "execution_count": 7,
   "metadata": {},
   "outputs": [
    {
     "name": "stdout",
     "output_type": "stream",
     "text": [
      "(28, 28, 2)\n"
     ]
    },
    {
     "data": {
      "text/plain": [
       "(14, 14, 2)"
      ]
     },
     "execution_count": 7,
     "metadata": {},
     "output_type": "execute_result"
    }
   ],
   "source": [
    "input=np.random.rand(28,28,2)\n",
    "\n",
    "x=max_pooling2d(input,(2,2),1)\n",
    "x.shape"
   ]
  },
  {
   "cell_type": "code",
   "execution_count": 8,
   "metadata": {},
   "outputs": [],
   "source": [
    "# print(input[:,:,0])\n",
    "# print(x[:,:,0])"
   ]
  },
  {
   "cell_type": "code",
   "execution_count": 9,
   "metadata": {},
   "outputs": [],
   "source": [
    "def upsampling(input):\n",
    "    img_up=np.zeros((input.shape[0]*2,input.shape[1]*2,input.shape[2]))\n",
    "    for k in range(input.shape[2]):\n",
    "        i=0\n",
    "        i1=0\n",
    "        while(i<img_up.shape[0]):\n",
    "            j=0\n",
    "            j1=0\n",
    "            while(j<img_up.shape[1]):\n",
    "                if(i<img_up.shape[0]-1 and j<img_up.shape[1]-1):\n",
    "                    \n",
    "                    img_up[i:i+1+1,j:j+1+1,k]=input[i1][j1][k]\n",
    "                j1=j1+1\n",
    "                j=j+2\n",
    "            i=i+2\n",
    "            i1=i1+1\n",
    "    return img_up"
   ]
  },
  {
   "cell_type": "code",
   "execution_count": 10,
   "metadata": {},
   "outputs": [],
   "source": [
    "# input=np.random.rand(2,2,2)\n",
    "# x=upsampling(input)"
   ]
  },
  {
   "cell_type": "code",
   "execution_count": 11,
   "metadata": {},
   "outputs": [],
   "source": [
    "#print(input[:,:,1])\n",
    "# print(x[:,:,1])"
   ]
  },
  {
   "cell_type": "code",
   "execution_count": 12,
   "metadata": {},
   "outputs": [
    {
     "ename": "FileNotFoundError",
     "evalue": "[Errno 2] No such file or directory: 'model_files/learnable_weights.pkl'",
     "output_type": "error",
     "traceback": [
      "\u001b[0;31m---------------------------------------------------------------------------\u001b[0m",
      "\u001b[0;31mFileNotFoundError\u001b[0m                         Traceback (most recent call last)",
      "\u001b[0;32m<ipython-input-12-1bd304c686e3>\u001b[0m in \u001b[0;36m<module>\u001b[0;34m()\u001b[0m\n\u001b[1;32m      1\u001b[0m \u001b[0;32mimport\u001b[0m \u001b[0mpickle\u001b[0m\u001b[0;34m\u001b[0m\u001b[0;34m\u001b[0m\u001b[0m\n\u001b[0;32m----> 2\u001b[0;31m \u001b[0mfile\u001b[0m\u001b[0;34m=\u001b[0m\u001b[0mopen\u001b[0m\u001b[0;34m(\u001b[0m\u001b[0;34m'model_files/learnable_weights.pkl'\u001b[0m\u001b[0;34m,\u001b[0m\u001b[0;34m'rb'\u001b[0m\u001b[0;34m)\u001b[0m\u001b[0;31m#kernal weights from keras model\u001b[0m\u001b[0;34m\u001b[0m\u001b[0;34m\u001b[0m\u001b[0m\n\u001b[0m\u001b[1;32m      3\u001b[0m \u001b[0mkernals_list\u001b[0m\u001b[0;34m=\u001b[0m\u001b[0mpickle\u001b[0m\u001b[0;34m.\u001b[0m\u001b[0mload\u001b[0m\u001b[0;34m(\u001b[0m\u001b[0mfile\u001b[0m\u001b[0;34m)\u001b[0m\u001b[0;34m\u001b[0m\u001b[0;34m\u001b[0m\u001b[0m\n",
      "\u001b[0;31mFileNotFoundError\u001b[0m: [Errno 2] No such file or directory: 'model_files/learnable_weights.pkl'"
     ]
    }
   ],
   "source": [
    "import pickle\n",
    "file=open('model_files/learnable_weights.pkl','rb')#kernal weights from keras model\n",
    "kernals_list=pickle.load(file)\n"
   ]
  },
  {
   "cell_type": "code",
   "execution_count": null,
   "metadata": {},
   "outputs": [],
   "source": [
    "kernal_l=[]\n",
    "bias_l=[]\n",
    "for i in range(len(kernals_list)):\n",
    "    if(i%2==0):\n",
    "#         print(kernals_list[i].shape)\n",
    "        kernal_l.append(kernals_list[i])\n",
    "    else:\n",
    "#         print(kernals_list[i].shape)\n",
    "        bias_l.append(kernals_list[i])"
   ]
  },
  {
   "cell_type": "code",
   "execution_count": null,
   "metadata": {},
   "outputs": [],
   "source": [
    "from keras.datasets import mnist\n",
    "import numpy as np\n",
    "\n",
    "(x_train, _), (x_test, _) = mnist.load_data()\n",
    "\n",
    "x_train = x_train.astype('float32') / 255.\n",
    "x_test = x_test.astype('float32') / 255.\n",
    "x_train = np.reshape(x_train, (len(x_train), 28, 28, 1))  # adapt this if using `channels_first` image data format\n",
    "x_test = np.reshape(x_test, (len(x_test), 28, 28, 1))  # adapt this if using `channels_first` image data format"
   ]
  },
  {
   "cell_type": "code",
   "execution_count": null,
   "metadata": {},
   "outputs": [],
   "source": [
    "input_img=x_train[0]"
   ]
  },
  {
   "cell_type": "code",
   "execution_count": null,
   "metadata": {},
   "outputs": [],
   "source": [
    "    decoded_list=[]\n",
    "    layer1=convolution(16,kernal_l[0],input_img,bias_l[0],pad=1)\n",
    "    layer2=max_pooling2d(layer1,(2,2),0)\n",
    "    layer3=convolution(8,kernal_l[1],layer2,bias_l[1],pad=1)\n",
    "    layer4=max_pooling2d(layer3,(2,2),0)\n",
    "    layer5=convolution(8,kernal_l[2],layer4,bias_l[2],pad=1)\n",
    "    encoded=max_pooling2d(layer5,(2,2),1)\n",
    "    layer7=convolution(8,kernal_l[3],encoded,bias_l[3],pad=1)\n",
    "    layer8=upsampling(layer7)\n",
    "    layer9=convolution(8,kernal_l[4],layer8,bias_l[4],pad=1)\n",
    "    layer10=upsampling(layer9)\n",
    "    layer11=convolution(16,kernal_l[5],layer10,bias_l[5],pad=0)\n",
    "    layer12=upsampling(layer11)\n",
    "    decoded=convolution(1,kernal_l[6],layer12,bias_l[6],pad=1)\n",
    "    decoded_list.append(decoded)"
   ]
  },
  {
   "cell_type": "markdown",
   "metadata": {},
   "source": [
    "# keras models"
   ]
  },
  {
   "cell_type": "code",
   "execution_count": null,
   "metadata": {},
   "outputs": [],
   "source": [
    "decoded.shape"
   ]
  },
  {
   "cell_type": "code",
   "execution_count": null,
   "metadata": {},
   "outputs": [],
   "source": [
    "import pickle\n",
    "from keras import backend as K\n",
    "image=np.zeros((1,28,28,1))\n",
    "for i in range(28):\n",
    "    for j in range(28):\n",
    "        image[0][i][j][0]=x_train[2][i][j][0]\n",
    "    \n",
    "file=open('model_files/autoencoder.pkl','rb')#autoencoder model\n",
    "model=pickle.load(file)\n",
    "get_1st_layer_output = K.function([model.layers[0].input],\n",
    "                                  [model.layers[1].output])\n",
    "layer_output1=get_1st_layer_output([image])[0]\n"
   ]
  },
  {
   "cell_type": "code",
   "execution_count": null,
   "metadata": {},
   "outputs": [],
   "source": [
    "get_2nd_layer_output = K.function([model.layers[0].input],\n",
    "                                  [model.layers[2].output])\n",
    "layer_output2=get_2nd_layer_output([image])[0]"
   ]
  },
  {
   "cell_type": "code",
   "execution_count": null,
   "metadata": {},
   "outputs": [],
   "source": [
    "get_3rd_layer_output = K.function([model.layers[0].input],\n",
    "                                  [model.layers[3].output])\n",
    "layer_output3=get_3rd_layer_output([image])[0]"
   ]
  },
  {
   "cell_type": "code",
   "execution_count": null,
   "metadata": {},
   "outputs": [],
   "source": [
    "get_4th_layer_output = K.function([model.layers[0].input],\n",
    "                                  [model.layers[4].output])\n",
    "layer_output4=get_4th_layer_output([image])[0]"
   ]
  },
  {
   "cell_type": "code",
   "execution_count": null,
   "metadata": {},
   "outputs": [],
   "source": [
    "get_5th_layer_output = K.function([model.layers[0].input],\n",
    "                                  [model.layers[5].output])\n",
    "layer_output5=get_5th_layer_output([image])[0]"
   ]
  },
  {
   "cell_type": "code",
   "execution_count": null,
   "metadata": {},
   "outputs": [],
   "source": [
    "get_6th_layer_output = K.function([model.layers[0].input],\n",
    "                                  [model.layers[6].output])\n",
    "layer_output6=get_6th_layer_output([image])[0]"
   ]
  },
  {
   "cell_type": "code",
   "execution_count": null,
   "metadata": {},
   "outputs": [],
   "source": [
    "get_7th_layer_output = K.function([model.layers[0].input],\n",
    "                                  [model.layers[7].output])\n",
    "layer_output7=get_7th_layer_output([image])[0]"
   ]
  },
  {
   "cell_type": "code",
   "execution_count": null,
   "metadata": {},
   "outputs": [],
   "source": [
    "get_8th_layer_output = K.function([model.layers[0].input],\n",
    "                                  [model.layers[8].output])\n",
    "layer_output8=get_8th_layer_output([image])[0]\n",
    "get_9th_layer_output = K.function([model.layers[0].input],\n",
    "                                  [model.layers[9].output])\n",
    "layer_output9=get_9th_layer_output([image])[0]\n",
    "get_10th_layer_output = K.function([model.layers[0].input],\n",
    "                                  [model.layers[10].output])\n",
    "layer_output10=get_10th_layer_output([image])[0]\n",
    "get_11th_layer_output = K.function([model.layers[0].input],\n",
    "                                  [model.layers[11].output])\n",
    "layer_output11=get_11th_layer_output([image])[0]\n",
    "get_12th_layer_output = K.function([model.layers[0].input],\n",
    "                                  [model.layers[12].output])\n",
    "layer_output12=get_12th_layer_output([image])[0]\n",
    "get_13th_layer_output = K.function([model.layers[0].input],\n",
    "                                  [model.layers[13].output])\n",
    "layer_output13=get_13th_layer_output([image])[0]\n",
    "diff13=layer_output13[0]-decoded#conv\n",
    "sum13=np.sum(diff13)\n",
    "print(sum13)"
   ]
  },
  {
   "cell_type": "code",
   "execution_count": 164,
   "metadata": {},
   "outputs": [
    {
     "data": {
      "image/png": "[encoded data removed]",
      "text/plain": [
       "<Figure size 1440x288 with 1 Axes>"
      ]
     },
     "metadata": {
      "needs_background": "light"
     },
     "output_type": "display_data"
    }
   ],
   "source": [
    "import matplotlib.pyplot as plt\n",
    "\n",
    "plt.figure(figsize=(20, 4))\n",
    "#plt.imshow(x_train[].reshape(28, 28))\n",
    "\n",
    "#plt.gray()\n",
    "plt.imshow(decoded.reshape(28, 28))\n",
    "plt.gray()\n"
   ]
  },
  {
   "cell_type": "code",
   "execution_count": 167,
   "metadata": {},
   "outputs": [
    {
     "data": {
      "text/plain": [
       "<matplotlib.image.AxesImage at 0x1a21e76b978>"
      ]
     },
     "execution_count": 167,
     "metadata": {},
     "output_type": "execute_result"
    },
    {
     "data": {
      "image/png": "[encoded data removed]",
      "text/plain": [
       "<Figure size 1440x288 with 1 Axes>"
      ]
     },
     "metadata": {
      "needs_background": "light"
     },
     "output_type": "display_data"
    }
   ],
   "source": [
    "plt.figure(figsize=(20, 4))\n",
    "img=np.zeros((1,28,28,1))\n",
    "for i in range(28):\n",
    "    for j in range(28):\n",
    "        img[0][i][j][0]=input_img[i][j]\n",
    "plt.imshow(model.predict(img).reshape(28, 28))"
   ]
  },
  {
   "cell_type": "code",
   "execution_count": null,
   "metadata": {},
   "outputs": [],
   "source": []
  }
 ],
 "metadata": {
  "kernelspec": {
   "display_name": "Python 3",
   "language": "python",
   "name": "python3"
  },
  "language_info": {
   "codemirror_mode": {
    "name": "ipython",
    "version": 3
   },
   "file_extension": ".py",
   "mimetype": "text/x-python",
   "name": "python",
   "nbconvert_exporter": "python",
   "pygments_lexer": "ipython3",
   "version": "3.7.3"
  }
 },
 "nbformat": 4,
 "nbformat_minor": 2
}
