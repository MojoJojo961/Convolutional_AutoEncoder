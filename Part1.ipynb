{
 "cells": [
  {
   "cell_type": "code",
   "execution_count": 2,
   "metadata": {},
   "outputs": [
    {
     "name": "stderr",
     "output_type": "stream",
     "text": [
      "Using TensorFlow backend.\n"
     ]
    }
   ],
   "source": [
    "import numpy as np\n",
    "import matplotlib.pyplot as plt\n",
    "import pickle\n",
    "\n",
    "import keras\n",
    "import tensorflow as tf\n",
    "from keras import backend as K \n",
    "from keras.layers import Input, Conv2D, MaxPooling2D, UpSampling2D\n",
    "from keras.models import Model\n",
    "from keras.callbacks import TensorBoard\n",
    "from tensorflow.python.keras.engine.base_layer import Layer"
   ]
  },
  {
   "cell_type": "code",
   "execution_count": 234,
   "metadata": {},
   "outputs": [
    {
     "name": "stderr",
     "output_type": "stream",
     "text": [
      "/usr/lib/python3.7/site-packages/tensorflow/python/client/session.py:1702: UserWarning: An interactive session is already active. This can cause out-of-memory errors in some cases. You must explicitly call `InteractiveSession.close()` to release resources held by the other session(s).\n",
      "  warnings.warn('An interactive session is already active. This can '\n"
     ]
    }
   ],
   "source": [
    "sess = tf.InteractiveSession()"
   ]
  },
  {
   "cell_type": "code",
   "execution_count": 235,
   "metadata": {},
   "outputs": [
    {
     "name": "stdout",
     "output_type": "stream",
     "text": [
      "(?, 28, 28, 16) (?, 28, 28, 1)\n",
      "(?, 14, 14, 16)\n",
      "(?, 14, 14, 16)\n",
      "(?, 7, 7, 16)\n",
      "(?, 3, 3, 16)\n"
     ]
    }
   ],
   "source": [
    "input_img = Input(shape=(28,28,1))\n",
    "\n",
    "x = Conv2D(16, (3,3), activation = 'relu', padding = 'same')(input_img)\n",
    "print(x.shape, input_img.shape)\n",
    "x = MaxPooling2D((2,2),padding='same')(x)\n",
    "print(x.shape)\n",
    "x = Conv2D(16, (3,3), activation = 'relu', padding = 'same')(x)\n",
    "print(x.shape)\n",
    "x = MaxPooling2D((2,2),padding='same')(x)\n",
    "print(x.shape)\n",
    "x = MaxPooling2D((2,2),padding='valid')(x)\n",
    "\n",
    "print(x.shape)"
   ]
  },
  {
   "cell_type": "code",
   "execution_count": 33,
   "metadata": {},
   "outputs": [
    {
     "name": "stdout",
     "output_type": "stream",
     "text": [
      "(28, 28, 1) (?, 28, 28, 1)\n"
     ]
    }
   ],
   "source": [
    "tmp = Input(tensor=tf.random_normal([28,28,1]))\n",
    "print(tmp.shape, input_img.shape)"
   ]
  },
  {
   "cell_type": "code",
   "execution_count": 1,
   "metadata": {},
   "outputs": [],
   "source": [
    "def ReLU(X):\n",
    "    return tf.maximum(X, np.zeros_like(X))\n",
    "\n",
    "def softmax(x):\n",
    "    return (np.exp(x - np.max(x))) / e_x.sum() \n",
    "\n",
    "def tanh(X):\n",
    "    return tf.tanh(X)"
   ]
  },
  {
   "cell_type": "code",
   "execution_count": 242,
   "metadata": {},
   "outputs": [
    {
     "name": "stdout",
     "output_type": "stream",
     "text": [
      "(?, 9)\n",
      "(?, 16)\n",
      "(?, 28, 28, 16)\n",
      "(?, 28, 28, 16)\n"
     ]
    }
   ],
   "source": [
    "def customConv2D(X, filters, kernel_size, strides=1, padding='valid', activation='ReLU'):\n",
    "    \n",
    "    if isinstance(kernel_size, tuple)==True:\n",
    "        ker_h, ker_w = kernel_size\n",
    "    else:\n",
    "        ker_h, ker_w = kernel_size, kernel_size\n",
    "        \n",
    "    _, inp_h, inp_w, inp_c = X.shape\n",
    "    \n",
    "    if padding == 'valid':\n",
    "        pad = 0\n",
    "    elif padding == 'same':\n",
    "        pad = (ker_h - 1)//2\n",
    "    else:\n",
    "        raise ValueError('Padding '+padding+' is not defined')\n",
    "    \n",
    "    conv_h = (inp_h + 2*pad - ker_h)//strides + 1\n",
    "    conv_w = (inp_w + 2*pad - ker_w)//strides + 1\n",
    "    \n",
    "    X_pad = tf.pad(X, [[0,0],[pad,pad],[pad,pad],[0,0]])\n",
    "    \n",
    "    convolve = []\n",
    "    for x in range(conv_h):\n",
    "        for y in range(conv_w):\n",
    "            c = tf.slice(X_pad, [0, x*strides, y*strides, 0], [-1, ker_h, ker_w, -1])\n",
    "            convolve.append(c)\n",
    "    \n",
    "    X_mat = tf.reshape(tf.stack(convolve), [-1, ker_w*ker_h])\n",
    "    \n",
    "    W = tf.random_normal([ker_h, ker_w, int(inp_c), filters])\n",
    "    W_mat = tf.reshape(W, [ker_h*ker_w, filters])\n",
    "    \n",
    "    b = tf.zeros([filters])\n",
    "    \n",
    "    print(X_mat.shape)\n",
    "    conv = tf.matmul(X_mat, W_mat) + b\n",
    "    print(conv.shape)\n",
    "    conv = tf.transpose(tf.reshape(conv,[conv_h,conv_w,-1,filters]), [2,0,1,3])\n",
    "    print(conv.shape)\n",
    "    \n",
    "    if activation:\n",
    "        activation = activation.lower()\n",
    "        if activation == 'relu':\n",
    "            conv = ReLU(conv)\n",
    "        elif activation == 'tanh':\n",
    "            conv = tanh(conv)\n",
    "        else:\n",
    "            raise ValueError('Unknown activation')\n",
    "    \n",
    "    return conv\n",
    "    \n",
    "x1 = customConv2D(input_img, 16, (3,3), padding = 'same', activation = 'relu')\n",
    "print(x1.shape)"
   ]
  },
  {
   "cell_type": "code",
   "execution_count": 243,
   "metadata": {},
   "outputs": [
    {
     "name": "stdout",
     "output_type": "stream",
     "text": [
      "(?, 14, 14, 16)\n"
     ]
    }
   ],
   "source": [
    "def customMaxPool2D(X, kernel_size, strides=2, padding='valid'):\n",
    "    \n",
    "    if isinstance(kernel_size, tuple)==True:\n",
    "        ker_h, ker_w = kernel_size\n",
    "    else:\n",
    "        ker_h, ker_w = kernel_size, kernel_size\n",
    "    \n",
    "    _, inp_h, inp_w, inp_c = X.shape\n",
    "    \n",
    "    if padding == 'valid':\n",
    "        pad = 0\n",
    "    elif padding == 'same':\n",
    "        pad = (ker_h - 1)//2\n",
    "    else:\n",
    "        raise ValueError('Padding '+padding+' is not defined')\n",
    "    \n",
    "    pool_h = (inp_h + 2*pad - ker_h)//strides + 1 \n",
    "    pool_w = (inp_w + 2*pad - ker_w)//strides + 1\n",
    "    \n",
    "    X_pad = tf.pad(X, [[0,0],[pad,pad],[pad,pad],[0,0]])\n",
    "    \n",
    "    pooling = []\n",
    "    for x in range(pool_h):\n",
    "        for y in range(pool_w):\n",
    "            p = tf.slice(X_pad, [0, x*strides, y*strides, 0], [-1, ker_h, ker_w, -1])\n",
    "            pooling.append(p)\n",
    "    \n",
    "    X_mat = tf.reshape(tf.stack(pooling), [-1, ker_w*ker_h])\n",
    "    \n",
    "    pool = tf.reduce_max(tf.reshape(X_mat, [pool_h, pool_w, -1, ker_h*ker_w, int(inp_c)]), axis = 3)\n",
    "    return tf.transpose(pool, [2,0,1,3])\n",
    "\n",
    "x2 = customMaxPool2D(x1, (2,2), strides = 2, padding='valid')\n",
    "print(x2.shape)"
   ]
  },
  {
   "cell_type": "code",
   "execution_count": 244,
   "metadata": {},
   "outputs": [
    {
     "ename": "ValueError",
     "evalue": "setting an array element with a sequence.",
     "output_type": "error",
     "traceback": [
      "\u001b[0;31m---------------------------------------------------------------------------\u001b[0m",
      "\u001b[0;31mValueError\u001b[0m                                Traceback (most recent call last)",
      "\u001b[0;32m<ipython-input-244-2842dd511c3d>\u001b[0m in \u001b[0;36m<module>\u001b[0;34m()\u001b[0m\n\u001b[1;32m     36\u001b[0m     \u001b[0;32mreturn\u001b[0m \u001b[0mimg_up\u001b[0m\u001b[0;34m\u001b[0m\u001b[0;34m\u001b[0m\u001b[0m\n\u001b[1;32m     37\u001b[0m \u001b[0;34m\u001b[0m\u001b[0m\n\u001b[0;32m---> 38\u001b[0;31m \u001b[0mcustomUpSampling2D\u001b[0m\u001b[0;34m(\u001b[0m\u001b[0mx2\u001b[0m\u001b[0;34m,\u001b[0m \u001b[0;34m(\u001b[0m\u001b[0;36m2\u001b[0m\u001b[0;34m,\u001b[0m\u001b[0;36m2\u001b[0m\u001b[0;34m)\u001b[0m\u001b[0;34m)\u001b[0m\u001b[0;34m\u001b[0m\u001b[0;34m\u001b[0m\u001b[0m\n\u001b[0m",
      "\u001b[0;32m<ipython-input-244-2842dd511c3d>\u001b[0m in \u001b[0;36mcustomUpSampling2D\u001b[0;34m(X, kernel_size, data_format, interpolation)\u001b[0m\n\u001b[1;32m     29\u001b[0m             \u001b[0;32mwhile\u001b[0m\u001b[0;34m(\u001b[0m\u001b[0mj\u001b[0m \u001b[0;34m<\u001b[0m \u001b[0mout_w\u001b[0m\u001b[0;34m)\u001b[0m\u001b[0;34m:\u001b[0m\u001b[0;34m\u001b[0m\u001b[0;34m\u001b[0m\u001b[0m\n\u001b[1;32m     30\u001b[0m                 \u001b[0;32mif\u001b[0m\u001b[0;34m(\u001b[0m\u001b[0mi\u001b[0m \u001b[0;34m<\u001b[0m \u001b[0mout_h\u001b[0m \u001b[0;34m-\u001b[0m \u001b[0;36m1\u001b[0m \u001b[0;32mand\u001b[0m \u001b[0mj\u001b[0m \u001b[0;34m<\u001b[0m \u001b[0mout_w\u001b[0m \u001b[0;34m-\u001b[0m \u001b[0;36m1\u001b[0m\u001b[0;34m)\u001b[0m\u001b[0;34m:\u001b[0m\u001b[0;34m\u001b[0m\u001b[0;34m\u001b[0m\u001b[0m\n\u001b[0;32m---> 31\u001b[0;31m                     \u001b[0mimg_up\u001b[0m\u001b[0;34m[\u001b[0m\u001b[0mi\u001b[0m\u001b[0;34m:\u001b[0m\u001b[0mi\u001b[0m \u001b[0;34m+\u001b[0m \u001b[0;36m2\u001b[0m\u001b[0;34m,\u001b[0m\u001b[0mj\u001b[0m\u001b[0;34m:\u001b[0m\u001b[0mj\u001b[0m \u001b[0;34m+\u001b[0m \u001b[0;36m2\u001b[0m\u001b[0;34m,\u001b[0m\u001b[0mk\u001b[0m\u001b[0;34m]\u001b[0m \u001b[0;34m=\u001b[0m \u001b[0mX\u001b[0m\u001b[0;34m[\u001b[0m\u001b[0mi1\u001b[0m\u001b[0;34m]\u001b[0m\u001b[0;34m[\u001b[0m\u001b[0mj1\u001b[0m\u001b[0;34m]\u001b[0m\u001b[0;34m[\u001b[0m\u001b[0mk\u001b[0m\u001b[0;34m]\u001b[0m\u001b[0;34m\u001b[0m\u001b[0;34m\u001b[0m\u001b[0m\n\u001b[0m\u001b[1;32m     32\u001b[0m                 \u001b[0mj1\u001b[0m \u001b[0;34m=\u001b[0m \u001b[0mj1\u001b[0m\u001b[0;34m+\u001b[0m\u001b[0;36m1\u001b[0m\u001b[0;34m\u001b[0m\u001b[0;34m\u001b[0m\u001b[0m\n\u001b[1;32m     33\u001b[0m                 \u001b[0mj\u001b[0m \u001b[0;34m=\u001b[0m \u001b[0mj\u001b[0m \u001b[0;34m+\u001b[0m \u001b[0;36m2\u001b[0m\u001b[0;34m\u001b[0m\u001b[0;34m\u001b[0m\u001b[0m\n",
      "\u001b[0;31mValueError\u001b[0m: setting an array element with a sequence."
     ]
    }
   ],
   "source": [
    "def customUpSampling2D(X, kernel_size, data_format='channels_last', interpolation='nearest'):\n",
    "    \n",
    "    if isinstance(kernel_size, tuple)==True:\n",
    "        ker_h, ker_w = kernel_size\n",
    "    else:\n",
    "        ker_h, ker_w = kernel_size, kernel_size\n",
    "        \n",
    "    if (data_format=='channels_last'):\n",
    "        n, inp_h, inp_w, inp_c = X.shape\n",
    "    elif (data_format=='channels_first'):\n",
    "        n, inp_c, inp_h, inp_w = X.shape\n",
    "    else:\n",
    "        raise ValueError('Data format is not valid')\n",
    "    \n",
    "    out_h = ker_h * inp_h\n",
    "    out_w = ker_w * inp_w\n",
    " \n",
    "    if (data_format=='channels_last'):\n",
    "        img_up = np.zeros((out_h, out_w, inp_c))\n",
    "    elif (data_format=='channels_first'):\n",
    "        img_up = np.zeros((inp_c, out_h, out_w))\n",
    "    \n",
    "    for out_chan in range(inp_c):\n",
    "        for x in range(inp_h):\n",
    "            for y in range(inp_w):\n",
    "                for i in range(ker_h):\n",
    "                    for j in range(ker_w):\n",
    "                        img_up[x*ker_h+i][y*ker_w+j][out_chan]=matrix[x][y][out_chan]\n",
    "    return img_up\n",
    "\n",
    "customUpSampling2D(x2, (2,2))"
   ]
  },
  {
   "cell_type": "code",
   "execution_count": 245,
   "metadata": {},
   "outputs": [],
   "source": [
    "from tensorflow.python.ops import array_ops\n",
    "from tensorflow.python.framework import constant_op\n",
    "from tensorflow.python.ops import image_ops"
   ]
  },
  {
   "cell_type": "code",
   "execution_count": 246,
   "metadata": {},
   "outputs": [],
   "source": [
    "from collections import Counter"
   ]
  },
  {
   "cell_type": "code",
   "execution_count": 249,
   "metadata": {},
   "outputs": [
    {
     "name": "stdout",
     "output_type": "stream",
     "text": [
      "(?, 28, 28, 16)\n",
      "[ 0  1  1  2  2  3  3  4  4  5  5  6  6  7  7  8  8  9  9 10 10 11 11 12\n",
      " 12 13 13 14]\n",
      "(?, 14, 14, 16)\n"
     ]
    },
    {
     "ename": "ValueError",
     "evalue": "Index out of range using input dim 3; input has only 3 dims for 'strided_slice_3494' (op: 'StridedSlice') with input shapes: [?,14,16], [4], [4], [4] and with computed input tensors: input[3] = <1 1 1 1>.",
     "output_type": "error",
     "traceback": [
      "\u001b[0;31m---------------------------------------------------------------------------\u001b[0m",
      "\u001b[0;31mInvalidArgumentError\u001b[0m                      Traceback (most recent call last)",
      "\u001b[0;32m/usr/lib/python3.7/site-packages/tensorflow/python/framework/ops.py\u001b[0m in \u001b[0;36m_create_c_op\u001b[0;34m(graph, node_def, inputs, control_inputs)\u001b[0m\n\u001b[1;32m   1658\u001b[0m   \u001b[0;32mtry\u001b[0m\u001b[0;34m:\u001b[0m\u001b[0;34m\u001b[0m\u001b[0;34m\u001b[0m\u001b[0m\n\u001b[0;32m-> 1659\u001b[0;31m     \u001b[0mc_op\u001b[0m \u001b[0;34m=\u001b[0m \u001b[0mc_api\u001b[0m\u001b[0;34m.\u001b[0m\u001b[0mTF_FinishOperation\u001b[0m\u001b[0;34m(\u001b[0m\u001b[0mop_desc\u001b[0m\u001b[0;34m)\u001b[0m\u001b[0;34m\u001b[0m\u001b[0;34m\u001b[0m\u001b[0m\n\u001b[0m\u001b[1;32m   1660\u001b[0m   \u001b[0;32mexcept\u001b[0m \u001b[0merrors\u001b[0m\u001b[0;34m.\u001b[0m\u001b[0mInvalidArgumentError\u001b[0m \u001b[0;32mas\u001b[0m \u001b[0me\u001b[0m\u001b[0;34m:\u001b[0m\u001b[0;34m\u001b[0m\u001b[0;34m\u001b[0m\u001b[0m\n",
      "\u001b[0;31mInvalidArgumentError\u001b[0m: Index out of range using input dim 3; input has only 3 dims for 'strided_slice_3494' (op: 'StridedSlice') with input shapes: [?,14,16], [4], [4], [4] and with computed input tensors: input[3] = <1 1 1 1>.",
      "\nDuring handling of the above exception, another exception occurred:\n",
      "\u001b[0;31mValueError\u001b[0m                                Traceback (most recent call last)",
      "\u001b[0;32m<ipython-input-249-a49f95706599>\u001b[0m in \u001b[0;36m<module>\u001b[0;34m()\u001b[0m\n\u001b[1;32m     84\u001b[0m     \u001b[0;32mreturn\u001b[0m \u001b[0mX\u001b[0m\u001b[0;34m\u001b[0m\u001b[0;34m\u001b[0m\u001b[0m\n\u001b[1;32m     85\u001b[0m \u001b[0;34m\u001b[0m\u001b[0m\n\u001b[0;32m---> 86\u001b[0;31m \u001b[0mcustomUpSam\u001b[0m\u001b[0;34m(\u001b[0m\u001b[0mx2\u001b[0m\u001b[0;34m,\u001b[0m \u001b[0;34m(\u001b[0m\u001b[0;36m2\u001b[0m\u001b[0;34m,\u001b[0m\u001b[0;36m2\u001b[0m\u001b[0;34m)\u001b[0m\u001b[0;34m)\u001b[0m\u001b[0;34m\u001b[0m\u001b[0;34m\u001b[0m\u001b[0m\n\u001b[0m",
      "\u001b[0;32m<ipython-input-249-a49f95706599>\u001b[0m in \u001b[0;36mcustomUpSam\u001b[0;34m(X, kernel_size, data_format, interpolation)\u001b[0m\n\u001b[1;32m     67\u001b[0m         \u001b[0mprint\u001b[0m\u001b[0;34m(\u001b[0m\u001b[0mX\u001b[0m\u001b[0;34m.\u001b[0m\u001b[0mshape\u001b[0m\u001b[0;34m)\u001b[0m\u001b[0;34m\u001b[0m\u001b[0;34m\u001b[0m\u001b[0m\n\u001b[1;32m     68\u001b[0m         \u001b[0;32mfor\u001b[0m \u001b[0mi\u001b[0m \u001b[0;32min\u001b[0m \u001b[0mrow_idx\u001b[0m\u001b[0;34m:\u001b[0m\u001b[0;34m\u001b[0m\u001b[0;34m\u001b[0m\u001b[0m\n\u001b[0;32m---> 69\u001b[0;31m             \u001b[0mfinal_matrix\u001b[0m \u001b[0;34m=\u001b[0m \u001b[0mfinal_matrix\u001b[0m\u001b[0;34m[\u001b[0m\u001b[0;34m:\u001b[0m\u001b[0;34m,\u001b[0m \u001b[0mi\u001b[0m\u001b[0;34m,\u001b[0m \u001b[0;34m:\u001b[0m\u001b[0;34m,\u001b[0m \u001b[0;34m:\u001b[0m\u001b[0;34m]\u001b[0m\u001b[0;34m\u001b[0m\u001b[0;34m\u001b[0m\u001b[0m\n\u001b[0m\u001b[1;32m     70\u001b[0m             \u001b[0;31m#print(i)\u001b[0m\u001b[0;34m\u001b[0m\u001b[0;34m\u001b[0m\u001b[0;34m\u001b[0m\u001b[0m\n\u001b[1;32m     71\u001b[0m         \u001b[0;31m#final_matrix = tf.slice(X, [0, 0, col_idx, 0], [-1, ker_h, ker_w, -1])\u001b[0m\u001b[0;34m\u001b[0m\u001b[0;34m\u001b[0m\u001b[0;34m\u001b[0m\u001b[0m\n",
      "\u001b[0;32m/usr/lib/python3.7/site-packages/tensorflow/python/ops/array_ops.py\u001b[0m in \u001b[0;36m_slice_helper\u001b[0;34m(tensor, slice_spec, var)\u001b[0m\n\u001b[1;32m    652\u001b[0m         \u001b[0mellipsis_mask\u001b[0m\u001b[0;34m=\u001b[0m\u001b[0mellipsis_mask\u001b[0m\u001b[0;34m,\u001b[0m\u001b[0;34m\u001b[0m\u001b[0;34m\u001b[0m\u001b[0m\n\u001b[1;32m    653\u001b[0m         \u001b[0mvar\u001b[0m\u001b[0;34m=\u001b[0m\u001b[0mvar\u001b[0m\u001b[0;34m,\u001b[0m\u001b[0;34m\u001b[0m\u001b[0;34m\u001b[0m\u001b[0m\n\u001b[0;32m--> 654\u001b[0;31m         name=name)\n\u001b[0m\u001b[1;32m    655\u001b[0m \u001b[0;34m\u001b[0m\u001b[0m\n\u001b[1;32m    656\u001b[0m \u001b[0;34m\u001b[0m\u001b[0m\n",
      "\u001b[0;32m/usr/lib/python3.7/site-packages/tensorflow/python/ops/array_ops.py\u001b[0m in \u001b[0;36mstrided_slice\u001b[0;34m(input_, begin, end, strides, begin_mask, end_mask, ellipsis_mask, new_axis_mask, shrink_axis_mask, var, name)\u001b[0m\n\u001b[1;32m    818\u001b[0m       \u001b[0mellipsis_mask\u001b[0m\u001b[0;34m=\u001b[0m\u001b[0mellipsis_mask\u001b[0m\u001b[0;34m,\u001b[0m\u001b[0;34m\u001b[0m\u001b[0;34m\u001b[0m\u001b[0m\n\u001b[1;32m    819\u001b[0m       \u001b[0mnew_axis_mask\u001b[0m\u001b[0;34m=\u001b[0m\u001b[0mnew_axis_mask\u001b[0m\u001b[0;34m,\u001b[0m\u001b[0;34m\u001b[0m\u001b[0;34m\u001b[0m\u001b[0m\n\u001b[0;32m--> 820\u001b[0;31m       shrink_axis_mask=shrink_axis_mask)\n\u001b[0m\u001b[1;32m    821\u001b[0m \u001b[0;34m\u001b[0m\u001b[0m\n\u001b[1;32m    822\u001b[0m   \u001b[0mparent_name\u001b[0m \u001b[0;34m=\u001b[0m \u001b[0mname\u001b[0m\u001b[0;34m\u001b[0m\u001b[0;34m\u001b[0m\u001b[0m\n",
      "\u001b[0;32m/usr/lib/python3.7/site-packages/tensorflow/python/ops/gen_array_ops.py\u001b[0m in \u001b[0;36mstrided_slice\u001b[0;34m(input, begin, end, strides, begin_mask, end_mask, ellipsis_mask, new_axis_mask, shrink_axis_mask, name)\u001b[0m\n\u001b[1;32m   9354\u001b[0m                         \u001b[0mellipsis_mask\u001b[0m\u001b[0;34m=\u001b[0m\u001b[0mellipsis_mask\u001b[0m\u001b[0;34m,\u001b[0m\u001b[0;34m\u001b[0m\u001b[0;34m\u001b[0m\u001b[0m\n\u001b[1;32m   9355\u001b[0m                         \u001b[0mnew_axis_mask\u001b[0m\u001b[0;34m=\u001b[0m\u001b[0mnew_axis_mask\u001b[0m\u001b[0;34m,\u001b[0m\u001b[0;34m\u001b[0m\u001b[0;34m\u001b[0m\u001b[0m\n\u001b[0;32m-> 9356\u001b[0;31m                         shrink_axis_mask=shrink_axis_mask, name=name)\n\u001b[0m\u001b[1;32m   9357\u001b[0m   \u001b[0m_result\u001b[0m \u001b[0;34m=\u001b[0m \u001b[0m_op\u001b[0m\u001b[0;34m.\u001b[0m\u001b[0moutputs\u001b[0m\u001b[0;34m[\u001b[0m\u001b[0;34m:\u001b[0m\u001b[0;34m]\u001b[0m\u001b[0;34m\u001b[0m\u001b[0;34m\u001b[0m\u001b[0m\n\u001b[1;32m   9358\u001b[0m   \u001b[0m_inputs_flat\u001b[0m \u001b[0;34m=\u001b[0m \u001b[0m_op\u001b[0m\u001b[0;34m.\u001b[0m\u001b[0minputs\u001b[0m\u001b[0;34m\u001b[0m\u001b[0;34m\u001b[0m\u001b[0m\n",
      "\u001b[0;32m/usr/lib/python3.7/site-packages/tensorflow/python/framework/op_def_library.py\u001b[0m in \u001b[0;36m_apply_op_helper\u001b[0;34m(self, op_type_name, name, **keywords)\u001b[0m\n\u001b[1;32m    786\u001b[0m         op = g.create_op(op_type_name, inputs, output_types, name=scope,\n\u001b[1;32m    787\u001b[0m                          \u001b[0minput_types\u001b[0m\u001b[0;34m=\u001b[0m\u001b[0minput_types\u001b[0m\u001b[0;34m,\u001b[0m \u001b[0mattrs\u001b[0m\u001b[0;34m=\u001b[0m\u001b[0mattr_protos\u001b[0m\u001b[0;34m,\u001b[0m\u001b[0;34m\u001b[0m\u001b[0;34m\u001b[0m\u001b[0m\n\u001b[0;32m--> 788\u001b[0;31m                          op_def=op_def)\n\u001b[0m\u001b[1;32m    789\u001b[0m       \u001b[0;32mreturn\u001b[0m \u001b[0moutput_structure\u001b[0m\u001b[0;34m,\u001b[0m \u001b[0mop_def\u001b[0m\u001b[0;34m.\u001b[0m\u001b[0mis_stateful\u001b[0m\u001b[0;34m,\u001b[0m \u001b[0mop\u001b[0m\u001b[0;34m\u001b[0m\u001b[0;34m\u001b[0m\u001b[0m\n\u001b[1;32m    790\u001b[0m \u001b[0;34m\u001b[0m\u001b[0m\n",
      "\u001b[0;32m/usr/lib/python3.7/site-packages/tensorflow/python/util/deprecation.py\u001b[0m in \u001b[0;36mnew_func\u001b[0;34m(*args, **kwargs)\u001b[0m\n\u001b[1;32m    505\u001b[0m                 \u001b[0;34m'in a future version'\u001b[0m \u001b[0;32mif\u001b[0m \u001b[0mdate\u001b[0m \u001b[0;32mis\u001b[0m \u001b[0;32mNone\u001b[0m \u001b[0;32melse\u001b[0m \u001b[0;34m(\u001b[0m\u001b[0;34m'after %s'\u001b[0m \u001b[0;34m%\u001b[0m \u001b[0mdate\u001b[0m\u001b[0;34m)\u001b[0m\u001b[0;34m,\u001b[0m\u001b[0;34m\u001b[0m\u001b[0;34m\u001b[0m\u001b[0m\n\u001b[1;32m    506\u001b[0m                 instructions)\n\u001b[0;32m--> 507\u001b[0;31m       \u001b[0;32mreturn\u001b[0m \u001b[0mfunc\u001b[0m\u001b[0;34m(\u001b[0m\u001b[0;34m*\u001b[0m\u001b[0margs\u001b[0m\u001b[0;34m,\u001b[0m \u001b[0;34m**\u001b[0m\u001b[0mkwargs\u001b[0m\u001b[0;34m)\u001b[0m\u001b[0;34m\u001b[0m\u001b[0;34m\u001b[0m\u001b[0m\n\u001b[0m\u001b[1;32m    508\u001b[0m \u001b[0;34m\u001b[0m\u001b[0m\n\u001b[1;32m    509\u001b[0m     doc = _add_deprecated_arg_notice_to_docstring(\n",
      "\u001b[0;32m/usr/lib/python3.7/site-packages/tensorflow/python/framework/ops.py\u001b[0m in \u001b[0;36mcreate_op\u001b[0;34m(***failed resolving arguments***)\u001b[0m\n\u001b[1;32m   3298\u001b[0m           \u001b[0minput_types\u001b[0m\u001b[0;34m=\u001b[0m\u001b[0minput_types\u001b[0m\u001b[0;34m,\u001b[0m\u001b[0;34m\u001b[0m\u001b[0;34m\u001b[0m\u001b[0m\n\u001b[1;32m   3299\u001b[0m           \u001b[0moriginal_op\u001b[0m\u001b[0;34m=\u001b[0m\u001b[0mself\u001b[0m\u001b[0;34m.\u001b[0m\u001b[0m_default_original_op\u001b[0m\u001b[0;34m,\u001b[0m\u001b[0;34m\u001b[0m\u001b[0;34m\u001b[0m\u001b[0m\n\u001b[0;32m-> 3300\u001b[0;31m           op_def=op_def)\n\u001b[0m\u001b[1;32m   3301\u001b[0m       \u001b[0mself\u001b[0m\u001b[0;34m.\u001b[0m\u001b[0m_create_op_helper\u001b[0m\u001b[0;34m(\u001b[0m\u001b[0mret\u001b[0m\u001b[0;34m,\u001b[0m \u001b[0mcompute_device\u001b[0m\u001b[0;34m=\u001b[0m\u001b[0mcompute_device\u001b[0m\u001b[0;34m)\u001b[0m\u001b[0;34m\u001b[0m\u001b[0;34m\u001b[0m\u001b[0m\n\u001b[1;32m   3302\u001b[0m     \u001b[0;32mreturn\u001b[0m \u001b[0mret\u001b[0m\u001b[0;34m\u001b[0m\u001b[0;34m\u001b[0m\u001b[0m\n",
      "\u001b[0;32m/usr/lib/python3.7/site-packages/tensorflow/python/framework/ops.py\u001b[0m in \u001b[0;36m__init__\u001b[0;34m(self, node_def, g, inputs, output_types, control_inputs, input_types, original_op, op_def)\u001b[0m\n\u001b[1;32m   1821\u001b[0m           op_def, inputs, node_def.attr)\n\u001b[1;32m   1822\u001b[0m       self._c_op = _create_c_op(self._graph, node_def, grouped_inputs,\n\u001b[0;32m-> 1823\u001b[0;31m                                 control_input_ops)\n\u001b[0m\u001b[1;32m   1824\u001b[0m \u001b[0;34m\u001b[0m\u001b[0m\n\u001b[1;32m   1825\u001b[0m     \u001b[0;31m# Initialize self._outputs.\u001b[0m\u001b[0;34m\u001b[0m\u001b[0;34m\u001b[0m\u001b[0;34m\u001b[0m\u001b[0m\n",
      "\u001b[0;32m/usr/lib/python3.7/site-packages/tensorflow/python/framework/ops.py\u001b[0m in \u001b[0;36m_create_c_op\u001b[0;34m(graph, node_def, inputs, control_inputs)\u001b[0m\n\u001b[1;32m   1660\u001b[0m   \u001b[0;32mexcept\u001b[0m \u001b[0merrors\u001b[0m\u001b[0;34m.\u001b[0m\u001b[0mInvalidArgumentError\u001b[0m \u001b[0;32mas\u001b[0m \u001b[0me\u001b[0m\u001b[0;34m:\u001b[0m\u001b[0;34m\u001b[0m\u001b[0;34m\u001b[0m\u001b[0m\n\u001b[1;32m   1661\u001b[0m     \u001b[0;31m# Convert to ValueError for backwards compatibility.\u001b[0m\u001b[0;34m\u001b[0m\u001b[0;34m\u001b[0m\u001b[0;34m\u001b[0m\u001b[0m\n\u001b[0;32m-> 1662\u001b[0;31m     \u001b[0;32mraise\u001b[0m \u001b[0mValueError\u001b[0m\u001b[0;34m(\u001b[0m\u001b[0mstr\u001b[0m\u001b[0;34m(\u001b[0m\u001b[0me\u001b[0m\u001b[0;34m)\u001b[0m\u001b[0;34m)\u001b[0m\u001b[0;34m\u001b[0m\u001b[0;34m\u001b[0m\u001b[0m\n\u001b[0m\u001b[1;32m   1663\u001b[0m \u001b[0;34m\u001b[0m\u001b[0m\n\u001b[1;32m   1664\u001b[0m   \u001b[0;32mreturn\u001b[0m \u001b[0mc_op\u001b[0m\u001b[0;34m\u001b[0m\u001b[0;34m\u001b[0m\u001b[0m\n",
      "\u001b[0;31mValueError\u001b[0m: Index out of range using input dim 3; input has only 3 dims for 'strided_slice_3494' (op: 'StridedSlice') with input shapes: [?,14,16], [4], [4], [4] and with computed input tensors: input[3] = <1 1 1 1>."
     ]
    }
   ],
   "source": [
    "def customUpSam(X, kernel_size, data_format='channels_last', interpolation='nearest'):\n",
    "    \n",
    "    if isinstance(kernel_size, tuple)==True:\n",
    "        ker_h, ker_w = kernel_size\n",
    "    else:\n",
    "        ker_h, ker_w = kernel_size, kernel_size\n",
    "        \n",
    "    if (data_format=='channels_last'):\n",
    "        n, inp_h, inp_w, inp_c = X.shape\n",
    "        rows, cols = 1, 2\n",
    "    elif (data_format=='channels_first'):\n",
    "        n, inp_c, inp_h, inp_w = X.shape\n",
    "        rows, cols = 2, 3\n",
    "    else:\n",
    "        raise ValueError('Data format is not valid')\n",
    "    \n",
    "    out_h = ker_h * inp_h\n",
    "    out_w = ker_w * inp_w\n",
    "    \n",
    "    #print(X.shape)\n",
    "    orig_shape = X.shape\n",
    "    #print(orig_shape)\n",
    "    \n",
    "    if orig_shape[rows] is None:\n",
    "        new_height = None\n",
    "    else:\n",
    "        new_height = orig_shape[rows] * ker_h\n",
    "\n",
    "    if orig_shape[cols] is None:\n",
    "        new_width = None\n",
    "    else:\n",
    "        new_width = orig_shape[cols] * ker_w\n",
    "    \n",
    "    if data_format == 'channels_first':\n",
    "        output_shape = (None, None, new_height, new_width)\n",
    "    else:\n",
    "        output_shape = (None, new_height, new_width, None)\n",
    "        \n",
    "    if data_format == 'channels_first':\n",
    "        X = tf.transpose(X, [0, 2, 3, 1])\n",
    "    #print(X.shape)\n",
    "    if interpolation == 'nearest':\n",
    "        old_shape = X.shape[rows:cols + 1]\n",
    "        X_new = Input(shape = (int(new_height), int(new_width), int(inp_c)))\n",
    "        print(X_new.shape)\n",
    "        new_shape = X_new.shape[rows:cols + 1]\n",
    "        #print(type(X), X.shape, old_shape, type(X_new), X_new.shape, new_shape)\n",
    "        \n",
    "        #row_ratio, col_ratio = ker_h, ker_w\n",
    "        row_ratio, col_ratio = np.array(new_shape)//np.array(old_shape)\n",
    "        #print(row_ratio)\n",
    "        \n",
    "        # row wise interpolation \n",
    "        tmp = np.array(range(1, 1 + int(old_shape[0] * row_ratio))) // int(row_ratio)\n",
    "        print(tmp)\n",
    "        tmp = np.ceil(tmp)\n",
    "        row_idx = (np.ceil(tmp) - 1).astype(int)\n",
    "        #print(row_idx)\n",
    "        \n",
    "        # column wise interpolation\n",
    "        tmp = np.array(range(1, 1 + int(old_shape[1] * col_ratio))) // int(col_ratio)\n",
    "        #print(tmp)\n",
    "        col_idx = (np.ceil(tmp) - 1).astype(int)\n",
    "\n",
    "        final_matrix = X[:, row_idx][col_idx, :]\n",
    "        print(X.shape)\n",
    "        for i in row_idx:\n",
    "            final_matrix = final_matrix[:, i, :, :]\n",
    "            #print(i)\n",
    "        #final_matrix = tf.slice(X, [0, 0, col_idx, 0], [-1, ker_h, ker_w, -1])\n",
    "        print(final_matrix)\n",
    "        #X = image_ops.resize_nearest_neighbor(X, new_shape)\n",
    "    #elif interpolation == 'bilinear':\n",
    "        #X = image_ops.resize_bilinear(X, new_shape)\n",
    "    else:\n",
    "        raise ValueError('interpolation should be one '\n",
    "                     'of \"nearest\" or \"bilinear\".')\n",
    "    \n",
    "    if data_format == 'channels_first':\n",
    "        X = tf.transpose(X, [0, 3, 1, 2])\n",
    "        \n",
    "    #X.set_shape(output_shape)\n",
    "    return X\n",
    "\n",
    "customUpSam(x2, (2,2))"
   ]
  },
  {
   "cell_type": "code",
   "execution_count": 236,
   "metadata": {},
   "outputs": [
    {
     "data": {
      "text/plain": [
       "TensorShape([Dimension(None), Dimension(28), Dimension(28), Dimension(1)])"
      ]
     },
     "execution_count": 236,
     "metadata": {},
     "output_type": "execute_result"
    }
   ],
   "source": [
    "input_img.shape"
   ]
  },
  {
   "cell_type": "code",
   "execution_count": 238,
   "metadata": {},
   "outputs": [
    {
     "name": "stdout",
     "output_type": "stream",
     "text": [
      "(?, 28, 28, 1) (?, 28, 28, 1)\n"
     ]
    }
   ],
   "source": [
    "t = Input(shape=(28,28,1))\n",
    "print(input_img.shape, t.shape)"
   ]
  },
  {
   "cell_type": "code",
   "execution_count": null,
   "metadata": {},
   "outputs": [],
   "source": []
  }
 ],
 "metadata": {
  "kernelspec": {
   "display_name": "Python 3",
   "language": "python",
   "name": "python3"
  },
  "language_info": {
   "codemirror_mode": {
    "name": "ipython",
    "version": 3
   },
   "file_extension": ".py",
   "mimetype": "text/x-python",
   "name": "python",
   "nbconvert_exporter": "python",
   "pygments_lexer": "ipython3",
   "version": "3.7.3"
  }
 },
 "nbformat": 4,
 "nbformat_minor": 2
}
